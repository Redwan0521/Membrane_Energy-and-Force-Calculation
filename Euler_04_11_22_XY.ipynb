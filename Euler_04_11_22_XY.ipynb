{
 "cells": [
  {
   "cell_type": "code",
   "execution_count": 1,
   "id": "68272094",
   "metadata": {},
   "outputs": [],
   "source": [
    "import igl\n",
    "import math\n",
    "import scipy as sp\n",
    "import numpy as np\n",
    "import meshplot as mp\n",
    "import pandas as pd\n",
    "import matplotlib as mpl\n",
    "import matplotlib.pyplot as plt\n",
    "from matplotlib import cm\n",
    "from mpl_toolkits.mplot3d import Axes3D\n",
    "import os\n",
    "root_folder = os.getcwd()"
   ]
  },
  {
   "cell_type": "code",
   "execution_count": 2,
   "id": "a89a7bad",
   "metadata": {},
   "outputs": [],
   "source": [
    "v_init, f = igl.read_triangle_mesh(os.path.join(root_folder, \"oblate.off\"))\n",
    "### Parameters for running computation\n",
    "global Kb\n",
    "global Kv\n",
    "global Ka\n",
    "global gamma\n",
    "global KbT\n",
    "global delT\n",
    "global Kal\n",
    "Kal=1\n",
    "gamma=1\n",
    "Ka=1\n",
    "Kv=0.2\n",
    "Kb=0.01\n",
    "H0=0\n",
    "Volume_t= 0.7* 3.14 * 4 / 3\n",
    "Area_t=4*3.14\n",
    "KbT=0.01\n",
    "charTimeStep=0.1\n",
    "isAdaptiveStep=True\n",
    "#hdt=0.5*dt\n",
    "iterations = 19999\n",
    "outfrequency = 100\n",
    "tolerance = 1e-5\n",
    "maxError = 1000"
   ]
  },
  {
   "cell_type": "code",
   "execution_count": 3,
   "id": "0cdfcf21",
   "metadata": {},
   "outputs": [],
   "source": [
    "###Energy Calculations Area+Bending+Volume\n",
    "def Energy_area(v,f,Area_t):\n",
    "    Area_new=cal_areatot(v,f)\n",
    "    Energy_Area=Ka*((Area_new-Area_t)**2)/Area_t\n",
    "    return Energy_Area\n",
    "def Energy_volume(v,f,Volume_t):\n",
    "    volume_new=cal_volumetot(v,f)\n",
    "    Energy_volume=Kv*((volume_new-Volume_t)**2)/Volume_t\n",
    "    return Energy_volume\n",
    "def Energy_bending(v,f,H0):\n",
    "    npv = igl.per_vertex_normals(v, f)\n",
    "    m = igl.massmatrix(v, f, igl.MASSMATRIX_TYPE_VORONOI)\n",
    "    minv = sp.sparse.diags(1 / m.diagonal())\n",
    "    area_voronoi=m.diagonal()\n",
    "    l = igl.cotmatrix(v, f) ###laplacian-operator\n",
    "    Hn = -minv.dot(l.dot(v))/2\n",
    "    H_mean = np.linalg.norm(Hn, axis=1)\n",
    "    sign_H = np.sign(np.sum(Hn*npv, axis=1))\n",
    "    H_mean_signed = H_mean*sign_H\n",
    "    #print(max(h_mean))\n",
    "    #print(min(h_mean))\n",
    "    Eb = 2*Kb*((H_mean_signed-H0)**2)*area_voronoi\n",
    "    total_EB = np.sum(Eb)\n",
    "    return total_EB\n",
    "def Kinetic_energy(v,f,velocity):\n",
    "    m = igl.massmatrix(v, f, igl.MASSMATRIX_TYPE_VORONOI)\n",
    "    area_voronoi=m.diagonal()\n",
    "    KE = 0.5*np.linalg.norm(velocity, axis=1)**2*area_voronoi\n",
    "    total_KE = np.sum(KE)\n",
    "    return total_KE    "
   ]
  },
  {
   "cell_type": "code",
   "execution_count": 4,
   "id": "a4e2f5f3",
   "metadata": {},
   "outputs": [],
   "source": [
    "def adjacent_face(v,f):\n",
    "    df=pd.DataFrame(f,columns=list('ABC'))\n",
    "    row_numbers=[]\n",
    "    for i in range(len(v)):\n",
    "        row_numbers.append((df.index[(df['A'] == i)|(df['B'] == i) | (df['C'] == i)].tolist()))\n",
    "    return row_numbers\n",
    "\n",
    "def cal_areatot(v,f):\n",
    "    dbl_area = igl.doublearea(v, f)    \n",
    "    Areatot = np.sum(dbl_area)/2\n",
    "    return Areatot\n",
    "\n",
    "def cal_volumetot(v,f):\n",
    "    Volumetot = 0\n",
    "    for i in range(len(f)):\n",
    "        sum=0\n",
    "        p0x=v[f[i][0]][0]\n",
    "        p0y=v[f[i][0]][1]\n",
    "        p0z=v[f[i][0]][2]\n",
    "        p1x=v[f[i][1]][0]\n",
    "        p1y=v[f[i][1]][1]\n",
    "        p1z=v[f[i][1]][2]\n",
    "        p2x=v[f[i][2]][0]\n",
    "        p2y=v[f[i][2]][1]\n",
    "        p2z=v[f[i][2]][2]\n",
    "        v321= p2x*p1y*p0z\n",
    "        v231= p1x*p2y*p0z\n",
    "        v312= p2x*p0y*p1z\n",
    "        v132= p0x*p2y*p1z\n",
    "        v213= p1x*p0y*p2z\n",
    "        v123= p0x*p1y*p2z\n",
    "        sum=(-v321+ v231+ v312-v132-v213+ v123) / 6.0\n",
    "        #print(sum)\n",
    "        Volumetot+=sum\n",
    "    return Volumetot\n",
    "\n",
    "def areaGrad(v,f):\n",
    "    #n=igl.per_vertex_normals(v,f) ## not using per_vertex_normals for areaGrad direction\n",
    "    l = igl.cotmatrix(v, f) ###laplacian-operator\n",
    "    ag = -l.dot(v)\n",
    "    return ag\n",
    "\n",
    "def volGrad(v,f):\n",
    "    npv = igl.per_vertex_normals(v, f)\n",
    "    face_normal=igl.per_face_normals(v,f,npv)\n",
    "    dbl_area = igl.doublearea(v, f)\n",
    "    adjacent_vertices=igl.adjacency_list(f)\n",
    "    adjacent_faces=adjacent_face(v,f)\n",
    "    volumegrad=[]\n",
    "    for i in range(len(v)):\n",
    "        vol_ij=0\n",
    "        for j in range(len(adjacent_faces[i])):\n",
    "            k=adjacent_faces[i][j]\n",
    "            Area=dbl_area[k]/2\n",
    "            FaceNorm=face_normal[k]\n",
    "            vol_ij += (1/3)*Area*FaceNorm\n",
    "        volumegrad.append(vol_ij)\n",
    "    return np.array(volumegrad)"
   ]
  },
  {
   "cell_type": "markdown",
   "id": "e3ef11cb",
   "metadata": {},
   "source": [
    "adjacent_faces=adjacent_face(v,f)\n",
    "k=adjacent_faces[0][2]\n",
    "n = igl.per_vertex_normals(v, f)\n",
    "face_normal=igl.per_face_normals(v,f,n)\n",
    "face_normal[k]"
   ]
  },
  {
   "cell_type": "markdown",
   "id": "ad7effdf",
   "metadata": {},
   "source": [
    "def fun_volgrad(v,f):\n",
    "    n = igl.per_vertex_normals(v, f)\n",
    "    #vector=np.array([1,1,1])\n",
    "    #norm=vector/np.linalg.norm(vector)\n",
    "\n",
    "    face_normal=igl.per_face_normals(v,f,n)\n",
    "    dbl_area = igl.doublearea(v, f)/2\n",
    "    volume_grad=face_normal*dbl_area[:,None]\n",
    "    \n",
    "    return volume_grad/3"
   ]
  },
  {
   "cell_type": "code",
   "execution_count": 5,
   "id": "bf936341",
   "metadata": {},
   "outputs": [],
   "source": [
    "###Force from bending\n",
    "def Force_Bending(v,f):\n",
    "    npv = igl.per_vertex_normals(v, f)\n",
    "    K = igl.gaussian_curvature(v, f)\n",
    "    m = igl.massmatrix(v, f, igl.MASSMATRIX_TYPE_VORONOI)\n",
    "    minv = sp.sparse.diags(1 / m.diagonal())\n",
    "    area_voronoi=m.diagonal()\n",
    "    l = igl.cotmatrix(v, f) ###laplacian-operator\n",
    "    m = igl.massmatrix(v, f, igl.MASSMATRIX_TYPE_VORONOI)\n",
    "    minv = sp.sparse.diags(1 / m.diagonal())\n",
    "    Hn = -minv.dot(l.dot(v))/2\n",
    "    H_mean = np.linalg.norm(Hn, axis=1)\n",
    "    sign_H = np.sign(np.sum(Hn*npv, axis=1))\n",
    "    #if (min(sign_H)<0):\n",
    "    #    print('H_mean changes sign')\n",
    "    H_mean_signed = H_mean*sign_H\n",
    "    Lap_H = minv.dot(l.dot(H_mean_signed-H0))\n",
    "    first_term = 2*(H_mean_signed-H0)*(H_mean_signed**2 + H0*H_mean_signed - K)\n",
    "    totalforce = first_term + Lap_H\n",
    "    #normal_v=n/np.linalg.norm(n)\n",
    "    ### Force Density and Nodal Force\n",
    "    #Force_density=[] # Force_Density\n",
    "    #Force_Nodal=[]\n",
    "\n",
    "    #for i in range (len(v)):\n",
    "    Force_bending = 2*Kb*npv*totalforce[:,None]*area_voronoi[:,None]\n",
    "        #Force_Nodal.append(Force_density[i]*area_voronoi[i])\n",
    "        #print(Force_density[i]) \n",
    "        #print(Force_Nodal[i])\n",
    "        \n",
    "    return Force_bending"
   ]
  },
  {
   "cell_type": "code",
   "execution_count": 6,
   "id": "a8b9d64f",
   "metadata": {},
   "outputs": [],
   "source": [
    "###Force from Area Constraints\n",
    "def Force_Area(Area_t,grad_Area,Area_new):\n",
    "    #grad_Area=volgrad(v,f)\n",
    "    #Area_old=cal_volume(v,f)\n",
    "    #Area_new=cal_Area(pos_new,f)\n",
    "    Force_Area=-2*(Ka)*((Area_new-Area_t)/Area_t)*grad_Area\n",
    "    return Force_Area"
   ]
  },
  {
   "cell_type": "code",
   "execution_count": 7,
   "id": "ed3ba0f0",
   "metadata": {},
   "outputs": [],
   "source": [
    "###Force from Volume Area Constraints\n",
    "def Force_Volume(Volume_t,grad_Volume,volume_new):\n",
    "    #grad_Volume=volgrad(v,f)\n",
    "    #Volume_old=cal_volume(v,f)\n",
    "    #Volume_new=cal_volume(pos_new,f)\n",
    "\n",
    "    Force_Volume=-2*(Kv)*((volume_new-Volume_t)/Volume_t)*grad_Volume ## Volume constraint is not the same as in mem3dg\n",
    "    return Force_Volume"
   ]
  },
  {
   "cell_type": "code",
   "execution_count": 8,
   "id": "5684132d",
   "metadata": {},
   "outputs": [],
   "source": [
    "###Dissipative Force\n",
    "def fun_FD(v,f,velocity):\n",
    "    adjacent_vertices=igl.adjacency_list(f)\n",
    "    FDij_nodes=[]\n",
    "    for i in range(len(v)):\n",
    "        FD_ij=0\n",
    "        for j in range(len(adjacent_vertices[i])):\n",
    "            k=adjacent_vertices[i][j]\n",
    "            vij=velocity[i]-velocity[k]\n",
    "            rij=v[i]-v[k]\n",
    "            #rij_distance=math.sqrt((rij[0][0]**2)+(rij[0][1]**2)+(rij[0][2]**2))\n",
    "            rij_norm = rij/np.linalg.norm(rij)\n",
    "            FD_ij=FD_ij+(-((gamma*np.dot(vij, rij)*rij_norm)))\n",
    "        FDij_nodes.append(FD_ij) \n",
    "    return FDij_nodes"
   ]
  },
  {
   "cell_type": "code",
   "execution_count": 9,
   "id": "f2f9eb7b",
   "metadata": {},
   "outputs": [],
   "source": [
    "###Dissipative Force\n",
    "def fun_FD2(v,f,velocity):\n",
    "    m = igl.massmatrix(v, f, igl.MASSMATRIX_TYPE_VORONOI)\n",
    "    area_voronoi=m.diagonal()\n",
    "    FD_nodes = -gamma*velocity/area_voronoi[:,None]\n",
    "    return FD_nodes"
   ]
  },
  {
   "cell_type": "code",
   "execution_count": 10,
   "id": "308b3c64",
   "metadata": {},
   "outputs": [],
   "source": [
    "####Random Forces\n",
    "def fun_FR(v,f): \n",
    "    edges, fe, ef = igl.edge_topology(v, f)\n",
    "    Fr=np.zeros((len(v),3))\n",
    "    for e in range(len(edges)): \n",
    "        rij=v[edges[e][0]]-v[edges[e][1]]\n",
    "        rij_norm = rij/np.linalg.norm(rij)\n",
    "        gaussian=np.random.normal(0, 1, 1)\n",
    "        Force=gaussian*rij_norm*sigma\n",
    "        Fr[edges[e][0]]+=Force\n",
    "        Fr[edges[e][1]]-=Force  \n",
    "    return Fr"
   ]
  },
  {
   "cell_type": "code",
   "execution_count": 11,
   "id": "f1054a44",
   "metadata": {},
   "outputs": [],
   "source": [
    "####Random Forces\n",
    "def fun_FR2(v,f,dt): \n",
    "    sigma=np.sqrt(2*gamma*(KbT/dt))\n",
    "    gaussian = np.random.normal(0, 1, 3*len(v))\n",
    "    FR = sigma*gaussian.reshape(len(v),3)\n",
    "    return FR"
   ]
  },
  {
   "cell_type": "code",
   "execution_count": 12,
   "id": "11f2d00e",
   "metadata": {},
   "outputs": [],
   "source": [
    "def Total_Force(FB,FA,FV):\n",
    "    Total_force=(FB+FA+FV)\n",
    "    return Total_force"
   ]
  },
  {
   "cell_type": "code",
   "execution_count": 13,
   "id": "3c823e21",
   "metadata": {},
   "outputs": [],
   "source": [
    "def updateTimeStep(v,f,TF,initialMaxForce,dt_size2_ratio,charTimeStep):\n",
    "    l = igl.edge_lengths(v,f)\n",
    "    currentMinSize = np.amin(l)\n",
    "    currentMaxForce = np.amax(np.linalg.norm(TF, axis=1))\n",
    "    dt = (dt_size2_ratio * currentMinSize **2)*\\\n",
    "        (initialMaxForce / currentMaxForce)\n",
    "    \n",
    "    if (charTimeStep / dt > 1e3):\n",
    "        print(\"Time step too small! May consider restarting\\n\",\n",
    "              \"simulation in small time scale\")\n",
    "        print(\"Current size / initial size =\",\n",
    "              currentMinSize / sqrt(charTimeStep/dt_size2_ratio))\n",
    "        print(\"Current forece / inital force =\",\n",
    "             currentMaxForce / initialMaxForce)\n",
    "        exit()\n",
    "    return dt"
   ]
  },
  {
   "cell_type": "markdown",
   "id": "d51adc5c",
   "metadata": {},
   "source": [
    "grad_A=areaGrad(v,f)\n",
    "\n",
    "grad_Volume=volgrad(v,f)\n",
    "grad_Volume=np.array(grad_Volume)\n",
    "grad_Volume.shape"
   ]
  },
  {
   "cell_type": "code",
   "execution_count": 14,
   "id": "aa6bb6a7",
   "metadata": {
    "scrolled": true
   },
   "outputs": [
    {
     "name": "stdout",
     "output_type": "stream",
     "text": [
      "initial area =  12.478260465930916\n",
      "initial volume =  4.024773179610609\n",
      "time = 0.10000000000000002\n",
      "dVolume/Volume_t = 1.0914024349965925 / 2.9306666666666668\n",
      "dArea/Area_t = -0.08721139437734671 / 12.56\n",
      "mechErrorNorm = 0.9397603414834638\n",
      "KE =  3.13088254928563e-05\n",
      "PE =  0.34550334506813574\n"
     ]
    },
    {
     "data": {
      "application/vnd.jupyter.widget-view+json": {
       "model_id": "5c4e40ac9e6c480cb6bfbaceccaa929e",
       "version_major": 2,
       "version_minor": 0
      },
      "text/plain": [
       "Renderer(camera=PerspectiveCamera(children=(DirectionalLight(color='white', intensity=0.6, position=(0.0013873…"
      ]
     },
     "metadata": {},
     "output_type": "display_data"
    },
    {
     "name": "stdout",
     "output_type": "stream",
     "text": [
      "time = 16.009552616716974\n",
      "dVolume/Volume_t = 0.9931389713419181 / 2.9306666666666668\n",
      "dArea/Area_t = -0.26486178157277607 / 12.56\n",
      "mechErrorNorm = 0.13791913724261778\n",
      "KE =  1.0406215959426595e-06\n",
      "PE =  0.3377533233629094\n"
     ]
    },
    {
     "data": {
      "application/vnd.jupyter.widget-view+json": {
       "model_id": "75cda097e5354be691a4d3d143079c50",
       "version_major": 2,
       "version_minor": 0
      },
      "text/plain": [
       "Renderer(camera=PerspectiveCamera(children=(DirectionalLight(color='white', intensity=0.6, position=(0.0013874…"
      ]
     },
     "metadata": {},
     "output_type": "display_data"
    },
    {
     "name": "stdout",
     "output_type": "stream",
     "text": [
      "time = 31.62630081957003\n",
      "dVolume/Volume_t = 0.980983317044235 / 2.9306666666666668\n",
      "dArea/Area_t = -0.2590309817559078 / 12.56\n",
      "mechErrorNorm = 0.14361500818211465\n",
      "KE =  9.843865808343904e-07\n",
      "PE =  0.3377148545846115\n"
     ]
    },
    {
     "data": {
      "application/vnd.jupyter.widget-view+json": {
       "model_id": "dccd44e19e5244c593024cf32e39b778",
       "version_major": 2,
       "version_minor": 0
      },
      "text/plain": [
       "Renderer(camera=PerspectiveCamera(children=(DirectionalLight(color='white', intensity=0.6, position=(0.0014371…"
      ]
     },
     "metadata": {},
     "output_type": "display_data"
    },
    {
     "name": "stdout",
     "output_type": "stream",
     "text": [
      "time = 47.04718150017162\n",
      "dVolume/Volume_t = 0.969250218027601 / 2.9306666666666668\n",
      "dArea/Area_t = -0.2509901227046303 / 12.56\n",
      "mechErrorNorm = 0.14523967441813926\n",
      "KE =  9.794616126666384e-07\n",
      "PE =  0.33780076483485466\n"
     ]
    },
    {
     "data": {
      "application/vnd.jupyter.widget-view+json": {
       "model_id": "cc221446d785478da54e1dda5122c7af",
       "version_major": 2,
       "version_minor": 0
      },
      "text/plain": [
       "Renderer(camera=PerspectiveCamera(children=(DirectionalLight(color='white', intensity=0.6, position=(0.0015034…"
      ]
     },
     "metadata": {},
     "output_type": "display_data"
    },
    {
     "name": "stdout",
     "output_type": "stream",
     "text": [
      "time = 62.29171478355341\n",
      "dVolume/Volume_t = 0.9571497493189294 / 2.9306666666666668\n",
      "dArea/Area_t = -0.24270811751528854 / 12.56\n",
      "mechErrorNorm = 0.14612033331429272\n",
      "KE =  9.9282239148579e-07\n",
      "PE =  0.33793561004290074\n"
     ]
    },
    {
     "data": {
      "application/vnd.jupyter.widget-view+json": {
       "model_id": "e659fb50320b4e34b3aa799f258c99f7",
       "version_major": 2,
       "version_minor": 0
      },
      "text/plain": [
       "Renderer(camera=PerspectiveCamera(children=(DirectionalLight(color='white', intensity=0.6, position=(0.0015735…"
      ]
     },
     "metadata": {},
     "output_type": "display_data"
    },
    {
     "name": "stdout",
     "output_type": "stream",
     "text": [
      "time = 77.26780144866612\n",
      "dVolume/Volume_t = 0.9448427314695977 / 2.9306666666666668\n",
      "dArea/Area_t = -0.2343844881859365 / 12.56\n",
      "mechErrorNorm = 0.14224269914781307\n",
      "KE =  1.1584815487991866e-06\n",
      "PE =  0.33810917415229824\n"
     ]
    },
    {
     "data": {
      "application/vnd.jupyter.widget-view+json": {
       "model_id": "616baa51c8a44d2c91998efe41786144",
       "version_major": 2,
       "version_minor": 0
      },
      "text/plain": [
       "Renderer(camera=PerspectiveCamera(children=(DirectionalLight(color='white', intensity=0.6, position=(0.0016430…"
      ]
     },
     "metadata": {},
     "output_type": "display_data"
    },
    {
     "name": "stdout",
     "output_type": "stream",
     "text": [
      "time = 91.86982572843195\n",
      "dVolume/Volume_t = 0.932540485792309 / 2.9306666666666668\n",
      "dArea/Area_t = -0.22618769100561664 / 12.56\n",
      "mechErrorNorm = 0.13634754391276754\n",
      "KE =  1.0212201591134588e-06\n",
      "PE =  0.33831592627450835\n"
     ]
    },
    {
     "data": {
      "application/vnd.jupyter.widget-view+json": {
       "model_id": "22c5e44573054bc895b5c83f474e1cd1",
       "version_major": 2,
       "version_minor": 0
      },
      "text/plain": [
       "Renderer(camera=PerspectiveCamera(children=(DirectionalLight(color='white', intensity=0.6, position=(0.0017091…"
      ]
     },
     "metadata": {},
     "output_type": "display_data"
    },
    {
     "name": "stdout",
     "output_type": "stream",
     "text": [
      "time = 106.30758027407019\n",
      "dVolume/Volume_t = 0.920192514958591 / 2.9306666666666668\n",
      "dArea/Area_t = -0.21809074914863835 / 12.56\n",
      "mechErrorNorm = 0.13123511565331103\n",
      "KE =  9.326355201727181e-07\n",
      "PE =  0.3385553580240702\n"
     ]
    },
    {
     "data": {
      "application/vnd.jupyter.widget-view+json": {
       "model_id": "cfe486f7c476424abb120cfcd84424c9",
       "version_major": 2,
       "version_minor": 0
      },
      "text/plain": [
       "Renderer(camera=PerspectiveCamera(children=(DirectionalLight(color='white', intensity=0.6, position=(0.0017715…"
      ]
     },
     "metadata": {},
     "output_type": "display_data"
    },
    {
     "name": "stdout",
     "output_type": "stream",
     "text": [
      "time = 120.59954243018491\n",
      "dVolume/Volume_t = 0.9079019974694194 / 2.9306666666666668\n",
      "dArea/Area_t = -0.21016070233366335 / 12.56\n",
      "mechErrorNorm = 0.12623206601448628\n",
      "KE =  8.695078395561051e-07\n",
      "PE =  0.3388242626252682\n"
     ]
    },
    {
     "data": {
      "application/vnd.jupyter.widget-view+json": {
       "model_id": "91afbb10580141768395f7c9e324d955",
       "version_major": 2,
       "version_minor": 0
      },
      "text/plain": [
       "Renderer(camera=PerspectiveCamera(children=(DirectionalLight(color='white', intensity=0.6, position=(0.0018287…"
      ]
     },
     "metadata": {},
     "output_type": "display_data"
    },
    {
     "name": "stdout",
     "output_type": "stream",
     "text": [
      "time = 134.76306767722264\n",
      "dVolume/Volume_t = 0.8957661387277764 / 2.9306666666666668\n",
      "dArea/Area_t = -0.20245436810158246 / 12.56\n",
      "mechErrorNorm = 0.12114341555712674\n",
      "KE =  8.171180570263926e-07\n",
      "PE =  0.33911895496305855\n"
     ]
    },
    {
     "data": {
      "application/vnd.jupyter.widget-view+json": {
       "model_id": "1a052b687fe447b1a870fce55a36bc93",
       "version_major": 2,
       "version_minor": 0
      },
      "text/plain": [
       "Renderer(camera=PerspectiveCamera(children=(DirectionalLight(color='white', intensity=0.6, position=(0.0018796…"
      ]
     },
     "metadata": {},
     "output_type": "display_data"
    },
    {
     "name": "stdout",
     "output_type": "stream",
     "text": [
      "time = 148.81449056528143\n",
      "dVolume/Volume_t = 0.883873142791725 / 2.9306666666666668\n",
      "dArea/Area_t = -0.19501854830906495 / 12.56\n",
      "mechErrorNorm = 0.11589701446901915\n",
      "KE =  7.707767740342576e-07\n",
      "PE =  0.3394352909660771\n"
     ]
    },
    {
     "data": {
      "application/vnd.jupyter.widget-view+json": {
       "model_id": "f99855aa72284ad68849b83c12d881f4",
       "version_major": 2,
       "version_minor": 0
      },
      "text/plain": [
       "Renderer(camera=PerspectiveCamera(children=(DirectionalLight(color='white', intensity=0.6, position=(0.0019231…"
      ]
     },
     "metadata": {},
     "output_type": "display_data"
    },
    {
     "name": "stdout",
     "output_type": "stream",
     "text": [
      "time = 162.76972202219957\n",
      "dVolume/Volume_t = 0.8722999417964972 / 2.9306666666666668\n",
      "dArea/Area_t = -0.18789001934834992 / 12.56\n",
      "mechErrorNorm = 0.11051924537695834\n",
      "KE =  7.294354039084762e-07\n",
      "PE =  0.3397688329143315\n"
     ]
    },
    {
     "data": {
      "application/vnd.jupyter.widget-view+json": {
       "model_id": "856bd3bcfe9648749721115900e20fd2",
       "version_major": 2,
       "version_minor": 0
      },
      "text/plain": [
       "Renderer(camera=PerspectiveCamera(children=(DirectionalLight(color='white', intensity=0.6, position=(0.0019578…"
      ]
     },
     "metadata": {},
     "output_type": "display_data"
    },
    {
     "name": "stdout",
     "output_type": "stream",
     "text": [
      "time = 176.64468065811747\n",
      "dVolume/Volume_t = 0.8611109838923712 / 2.9306666666666668\n",
      "dArea/Area_t = -0.1810958982398212 / 12.56\n",
      "mechErrorNorm = 0.10506968098344202\n",
      "KE =  6.933162663608021e-07\n",
      "PE =  0.3401150443016428\n"
     ]
    },
    {
     "data": {
      "application/vnd.jupyter.widget-view+json": {
       "model_id": "7e6feed620024cd2b28c69701a979dea",
       "version_major": 2,
       "version_minor": 0
      },
      "text/plain": [
       "Renderer(camera=PerspectiveCamera(children=(DirectionalLight(color='white', intensity=0.6, position=(0.0019825…"
      ]
     },
     "metadata": {},
     "output_type": "display_data"
    },
    {
     "name": "stdout",
     "output_type": "stream",
     "text": [
      "time = 190.4557433597363\n",
      "dVolume/Volume_t = 0.8503579284535934 / 2.9306666666666668\n",
      "dArea/Area_t = -0.17465429049904557 / 12.56\n",
      "mechErrorNorm = 0.09963848457371202\n",
      "KE =  6.630321679852784e-07\n",
      "PE =  0.3404695457230584\n"
     ]
    },
    {
     "data": {
      "application/vnd.jupyter.widget-view+json": {
       "model_id": "bab92c95982b4d0d9dfaccda5f71b2b2",
       "version_major": 2,
       "version_minor": 0
      },
      "text/plain": [
       "Renderer(camera=PerspectiveCamera(children=(DirectionalLight(color='white', intensity=0.6, position=(0.0019947…"
      ]
     },
     "metadata": {},
     "output_type": "display_data"
    },
    {
     "name": "stdout",
     "output_type": "stream",
     "text": [
      "time = 204.22022440053436\n",
      "dVolume/Volume_t = 0.8400798695128779 / 2.9306666666666668\n",
      "dArea/Area_t = -0.16857559080270512 / 12.56\n",
      "mechErrorNorm = 0.09428694872196601\n",
      "KE =  6.392823507178115e-07\n",
      "PE =  0.3408282115343923\n"
     ]
    },
    {
     "data": {
      "application/vnd.jupyter.widget-view+json": {
       "model_id": "1406e52512f748378af93bafc12f0604",
       "version_major": 2,
       "version_minor": 0
      },
      "text/plain": [
       "Renderer(camera=PerspectiveCamera(children=(DirectionalLight(color='white', intensity=0.6, position=(0.0019883…"
      ]
     },
     "metadata": {},
     "output_type": "display_data"
    },
    {
     "name": "stdout",
     "output_type": "stream",
     "text": [
      "time = 217.95733614073026\n",
      "dVolume/Volume_t = 0.8303029177714665 / 2.9306666666666668\n",
      "dArea/Area_t = -0.1628624634800957 / 12.56\n",
      "mechErrorNorm = 0.08905601894152909\n",
      "KE =  6.228620422775591e-07\n",
      "PE =  0.3411870788250138\n"
     ]
    },
    {
     "data": {
      "application/vnd.jupyter.widget-view+json": {
       "model_id": "81baa0c9f7b04f00ab3711be950f1ccb",
       "version_major": 2,
       "version_minor": 0
      },
      "text/plain": [
       "Renderer(camera=PerspectiveCamera(children=(DirectionalLight(color='white', intensity=0.6, position=(0.0019647…"
      ]
     },
     "metadata": {},
     "output_type": "display_data"
    },
    {
     "name": "stdout",
     "output_type": "stream",
     "text": [
      "time = 231.68886570062753\n",
      "dVolume/Volume_t = 0.8210421650180844 / 2.9306666666666668\n",
      "dArea/Area_t = -0.1575114681515526 / 12.56\n",
      "mechErrorNorm = 0.08396922272347027\n",
      "KE =  6.141332890080859e-07\n",
      "PE =  0.3415428004473002\n"
     ]
    },
    {
     "data": {
      "application/vnd.jupyter.widget-view+json": {
       "model_id": "1d404af9da0c4353aa33c3eb9715ed99",
       "version_major": 2,
       "version_minor": 0
      },
      "text/plain": [
       "Renderer(camera=PerspectiveCamera(children=(DirectionalLight(color='white', intensity=0.6, position=(0.0019190…"
      ]
     },
     "metadata": {},
     "output_type": "display_data"
    },
    {
     "name": "stdout",
     "output_type": "stream",
     "text": [
      "time = 245.43831705529954\n",
      "dVolume/Volume_t = 0.812303265721019 / 2.9306666666666668\n",
      "dArea/Area_t = -0.15251443693590083 / 12.56\n",
      "mechErrorNorm = 0.07900468498026852\n",
      "KE =  6.103933551980582e-07\n",
      "PE =  0.34189272627864814\n"
     ]
    },
    {
     "data": {
      "application/vnd.jupyter.widget-view+json": {
       "model_id": "d7744e88e5244a8fb8f69663ee1e8710",
       "version_major": 2,
       "version_minor": 0
      },
      "text/plain": [
       "Renderer(camera=PerspectiveCamera(children=(DirectionalLight(color='white', intensity=0.6, position=(0.0018516…"
      ]
     },
     "metadata": {},
     "output_type": "display_data"
    },
    {
     "name": "stdout",
     "output_type": "stream",
     "text": [
      "time = 259.2351393639074\n",
      "dVolume/Volume_t = 0.8040821085180268 / 2.9306666666666668\n",
      "dArea/Area_t = -0.14785870524477396 / 12.56\n",
      "mechErrorNorm = 0.07426008754320136\n",
      "KE =  6.16036534344775e-07\n",
      "PE =  0.3422344561248545\n"
     ]
    },
    {
     "data": {
      "application/vnd.jupyter.widget-view+json": {
       "model_id": "1de705f93bbe49d9980addecdedab4a9",
       "version_major": 2,
       "version_minor": 0
      },
      "text/plain": [
       "Renderer(camera=PerspectiveCamera(children=(DirectionalLight(color='white', intensity=0.6, position=(0.0017585…"
      ]
     },
     "metadata": {},
     "output_type": "display_data"
    },
    {
     "name": "stdout",
     "output_type": "stream",
     "text": [
      "time = 273.11638742758936\n",
      "dVolume/Volume_t = 0.7963658805079508 / 2.9306666666666668\n",
      "dArea/Area_t = -0.14352788112886294 / 12.56\n",
      "mechErrorNorm = 0.06976720769659694\n",
      "KE =  6.321212004678523e-07\n",
      "PE =  0.34256621271267207\n"
     ]
    },
    {
     "data": {
      "application/vnd.jupyter.widget-view+json": {
       "model_id": "66edce9c45514db0ba3529a67f436213",
       "version_major": 2,
       "version_minor": 0
      },
      "text/plain": [
       "Renderer(camera=PerspectiveCamera(children=(DirectionalLight(color='white', intensity=0.6, position=(0.0016350…"
      ]
     },
     "metadata": {},
     "output_type": "display_data"
    },
    {
     "name": "stdout",
     "output_type": "stream",
     "text": [
      "time = 287.1285222986789\n",
      "dVolume/Volume_t = 0.7891348301947332 / 2.9306666666666668\n",
      "dArea/Area_t = -0.1395026956031682 / 12.56\n",
      "mechErrorNorm = 0.06560065894044993\n",
      "KE =  6.600149618523179e-07\n",
      "PE =  0.34288693869455705\n"
     ]
    },
    {
     "data": {
      "application/vnd.jupyter.widget-view+json": {
       "model_id": "52902efeeaab44e2ad6800e58066c2ca",
       "version_major": 2,
       "version_minor": 0
      },
      "text/plain": [
       "Renderer(camera=PerspectiveCamera(children=(DirectionalLight(color='white', intensity=0.6, position=(0.0014775…"
      ]
     },
     "metadata": {},
     "output_type": "display_data"
    },
    {
     "name": "stdout",
     "output_type": "stream",
     "text": [
      "time = 301.3314628996821\n",
      "dVolume/Volume_t = 0.7823633080746482 / 2.9306666666666668\n",
      "dArea/Area_t = -0.13576172316451185 / 12.56\n",
      "mechErrorNorm = 0.06168193144229268\n",
      "KE =  7.016126179459051e-07\n",
      "PE =  0.34319606692701565\n"
     ]
    },
    {
     "data": {
      "application/vnd.jupyter.widget-view+json": {
       "model_id": "9f4bd8ec1cf540d885805e828480c84b",
       "version_major": 2,
       "version_minor": 0
      },
      "text/plain": [
       "Renderer(camera=PerspectiveCamera(children=(DirectionalLight(color='white', intensity=0.6, position=(0.0010677…"
      ]
     },
     "metadata": {},
     "output_type": "display_data"
    },
    {
     "name": "stdout",
     "output_type": "stream",
     "text": [
      "time = 315.8034720822945\n",
      "dVolume/Volume_t = 0.7760205346826559 / 2.9306666666666668\n",
      "dArea/Area_t = -0.13228170370681802 / 12.56\n",
      "mechErrorNorm = 0.05791651530280922\n",
      "KE =  7.59353993287984e-07\n",
      "PE =  0.3434935711987127\n"
     ]
    },
    {
     "data": {
      "application/vnd.jupyter.widget-view+json": {
       "model_id": "c7f84a9a63f54255aa2c0c800ea3274b",
       "version_major": 2,
       "version_minor": 0
      },
      "text/plain": [
       "Renderer(camera=PerspectiveCamera(children=(DirectionalLight(color='white', intensity=0.6, position=(0.0005793…"
      ]
     },
     "metadata": {},
     "output_type": "display_data"
    },
    {
     "name": "stdout",
     "output_type": "stream",
     "text": [
      "time = 330.6479581426238\n",
      "dVolume/Volume_t = 0.7700720386849338 / 2.9306666666666668\n",
      "dArea/Area_t = -0.12903821736952636 / 12.56\n",
      "mechErrorNorm = 0.0543008933652874\n",
      "KE =  8.363995298409971e-07\n",
      "PE =  0.3437800790698357\n"
     ]
    },
    {
     "data": {
      "application/vnd.jupyter.widget-view+json": {
       "model_id": "b46c1e73389e4ca1968fb26fcdd571da",
       "version_major": 2,
       "version_minor": 0
      },
      "text/plain": [
       "Renderer(camera=PerspectiveCamera(children=(DirectionalLight(color='white', intensity=0.6, position=(1.3172626…"
      ]
     },
     "metadata": {},
     "output_type": "display_data"
    },
    {
     "name": "stdout",
     "output_type": "stream",
     "text": [
      "time = 346.0031053911121\n",
      "dVolume/Volume_t = 0.7644791809934071 / 2.9306666666666668\n",
      "dArea/Area_t = -0.12600589859262534 / 12.56\n",
      "mechErrorNorm = 0.050810561547997644\n",
      "KE =  9.36756338542956e-07\n",
      "PE =  0.34405647572445525\n"
     ]
    },
    {
     "data": {
      "application/vnd.jupyter.widget-view+json": {
       "model_id": "938d28706630456ba5f771fa98a163bb",
       "version_major": 2,
       "version_minor": 0
      },
      "text/plain": [
       "Renderer(camera=PerspectiveCamera(children=(DirectionalLight(color='white', intensity=0.6, position=(-0.000648…"
      ]
     },
     "metadata": {},
     "output_type": "display_data"
    },
    {
     "name": "stdout",
     "output_type": "stream",
     "text": [
      "time = 362.0557772361308\n",
      "dVolume/Volume_t = 0.7592001645608164 / 2.9306666666666668\n",
      "dArea/Area_t = -0.12315746079429424 / 12.56\n",
      "mechErrorNorm = 0.04745310794748214\n",
      "KE =  1.0656571976379023e-06\n",
      "PE =  0.3443243115071998\n"
     ]
    },
    {
     "data": {
      "application/vnd.jupyter.widget-view+json": {
       "model_id": "9566cc7ecd9b457081b6885c25a0093a",
       "version_major": 2,
       "version_minor": 0
      },
      "text/plain": [
       "Renderer(camera=PerspectiveCamera(children=(DirectionalLight(color='white', intensity=0.6, position=(-0.001430…"
      ]
     },
     "metadata": {},
     "output_type": "display_data"
    },
    {
     "name": "stdout",
     "output_type": "stream",
     "text": [
      "time = 379.0653093431198\n",
      "dVolume/Volume_t = 0.7541898229403206 / 2.9306666666666668\n",
      "dArea/Area_t = -0.12046452048258693 / 12.56\n",
      "mechErrorNorm = 0.04420434481522259\n",
      "KE =  1.2295033098520534e-06\n",
      "PE =  0.3445860193897805\n"
     ]
    },
    {
     "data": {
      "application/vnd.jupyter.widget-view+json": {
       "model_id": "fa47c302b5cd4caf948ea29882db39d6",
       "version_major": 2,
       "version_minor": 0
      },
      "text/plain": [
       "Renderer(camera=PerspectiveCamera(children=(DirectionalLight(color='white', intensity=0.6, position=(-0.002374…"
      ]
     },
     "metadata": {},
     "output_type": "display_data"
    },
    {
     "name": "stdout",
     "output_type": "stream",
     "text": [
      "time = 396.7680259126603\n",
      "dVolume/Volume_t = 0.7495556699853383 / 2.9306666666666668\n",
      "dArea/Area_t = -0.11798066793050488 / 12.56\n",
      "mechErrorNorm = 0.0470888094241268\n",
      "KE =  1.1616065354875334e-06\n",
      "PE =  0.34483689237149007\n"
     ]
    },
    {
     "data": {
      "application/vnd.jupyter.widget-view+json": {
       "model_id": "1cb5aa198ed0456cb6f6f34d093b3bdc",
       "version_major": 2,
       "version_minor": 0
      },
      "text/plain": [
       "Renderer(camera=PerspectiveCamera(children=(DirectionalLight(color='white', intensity=0.6, position=(-0.003518…"
      ]
     },
     "metadata": {},
     "output_type": "display_data"
    },
    {
     "name": "stdout",
     "output_type": "stream",
     "text": [
      "time = 410.5802626371873\n",
      "dVolume/Volume_t = 0.7463125890260662 / 2.9306666666666668\n",
      "dArea/Area_t = -0.11624403874941791 / 12.56\n",
      "mechErrorNorm = 0.06850833871707161\n",
      "KE =  4.748130122909665e-07\n",
      "PE =  0.3450201982267728\n"
     ]
    },
    {
     "data": {
      "application/vnd.jupyter.widget-view+json": {
       "model_id": "763e5701fabc4bceaf8b156fa8ecc9be",
       "version_major": 2,
       "version_minor": 0
      },
      "text/plain": [
       "Renderer(camera=PerspectiveCamera(children=(DirectionalLight(color='white', intensity=0.6, position=(-0.004543…"
      ]
     },
     "metadata": {},
     "output_type": "display_data"
    },
    {
     "name": "stdout",
     "output_type": "stream",
     "text": [
      "time = 426.21740678684444\n",
      "dVolume/Volume_t = 0.7429952592585054 / 2.9306666666666668\n",
      "dArea/Area_t = -0.11446545163806654 / 12.56\n",
      "mechErrorNorm = 0.08390641837911969\n",
      "KE =  1.5400768865238583e-07\n",
      "PE =  0.34521552485253926\n"
     ]
    },
    {
     "data": {
      "application/vnd.jupyter.widget-view+json": {
       "model_id": "df76948e0ba34164ac32de65413aea6a",
       "version_major": 2,
       "version_minor": 0
      },
      "text/plain": [
       "Renderer(camera=PerspectiveCamera(children=(DirectionalLight(color='white', intensity=0.6, position=(-0.005816…"
      ]
     },
     "metadata": {},
     "output_type": "display_data"
    },
    {
     "name": "stdout",
     "output_type": "stream",
     "text": [
      "time = 445.1884215320837\n",
      "dVolume/Volume_t = 0.7394229631830784 / 2.9306666666666668\n",
      "dArea/Area_t = -0.11254153160379055 / 12.56\n",
      "mechErrorNorm = 0.07841188588872205\n",
      "KE =  1.2450778829150424e-07\n",
      "PE =  0.34543652689579496\n"
     ]
    },
    {
     "data": {
      "application/vnd.jupyter.widget-view+json": {
       "model_id": "d34baf0305944706b837ef3709697d86",
       "version_major": 2,
       "version_minor": 0
      },
      "text/plain": [
       "Renderer(camera=PerspectiveCamera(children=(DirectionalLight(color='white', intensity=0.6, position=(-0.007441…"
      ]
     },
     "metadata": {},
     "output_type": "display_data"
    },
    {
     "name": "stdout",
     "output_type": "stream",
     "text": [
      "time = 464.36041575010466\n",
      "dVolume/Volume_t = 0.7362469317504359 / 2.9306666666666668\n",
      "dArea/Area_t = -0.11081217869573656 / 12.56\n",
      "mechErrorNorm = 0.06624243626214145\n",
      "KE =  2.537307396036264e-07\n",
      "PE =  0.34565117732625705\n"
     ]
    },
    {
     "data": {
      "application/vnd.jupyter.widget-view+json": {
       "model_id": "e2d411bd9d104f7192c69125888a4bdc",
       "version_major": 2,
       "version_minor": 0
      },
      "text/plain": [
       "Renderer(camera=PerspectiveCamera(children=(DirectionalLight(color='white', intensity=0.6, position=(-0.009264…"
      ]
     },
     "metadata": {},
     "output_type": "display_data"
    },
    {
     "name": "stdout",
     "output_type": "stream",
     "text": [
      "time = 477.025743339184\n",
      "dVolume/Volume_t = 0.7343533598371019 / 2.9306666666666668\n",
      "dArea/Area_t = -0.1097627382950197 / 12.56\n",
      "mechErrorNorm = 0.04442137485342525\n",
      "KE =  1.7738657250766775e-07\n",
      "PE =  0.3457915209016381\n"
     ]
    },
    {
     "data": {
      "application/vnd.jupyter.widget-view+json": {
       "model_id": "ccaf1fad223f4db5851c346b95a06a03",
       "version_major": 2,
       "version_minor": 0
      },
      "text/plain": [
       "Renderer(camera=PerspectiveCamera(children=(DirectionalLight(color='white', intensity=0.6, position=(-0.010646…"
      ]
     },
     "metadata": {},
     "output_type": "display_data"
    },
    {
     "name": "stdout",
     "output_type": "stream",
     "text": [
      "time = 489.442357261506\n",
      "dVolume/Volume_t = 0.7326262457024337 / 2.9306666666666668\n",
      "dArea/Area_t = -0.10878762319986812 / 12.56\n",
      "mechErrorNorm = 0.040548100050143476\n",
      "KE =  1.7539243778259328e-07\n",
      "PE =  0.34593212391407563\n"
     ]
    },
    {
     "data": {
      "application/vnd.jupyter.widget-view+json": {
       "model_id": "1df1b0e866634f0290ac0a753ba74061",
       "version_major": 2,
       "version_minor": 0
      },
      "text/plain": [
       "Renderer(camera=PerspectiveCamera(children=(DirectionalLight(color='white', intensity=0.6, position=(-0.012200…"
      ]
     },
     "metadata": {},
     "output_type": "display_data"
    },
    {
     "name": "stdout",
     "output_type": "stream",
     "text": [
      "time = 500.0769283680885\n",
      "dVolume/Volume_t = 0.7312312923931508 / 2.9306666666666668\n",
      "dArea/Area_t = -0.1079775029349701 / 12.56\n",
      "mechErrorNorm = 0.03862342610992342\n",
      "KE =  1.9383494638115083e-07\n",
      "PE =  0.3460593129268703\n"
     ]
    },
    {
     "data": {
      "application/vnd.jupyter.widget-view+json": {
       "model_id": "20d0914f3bf84fc4a750d9872e6e6a89",
       "version_major": 2,
       "version_minor": 0
      },
      "text/plain": [
       "Renderer(camera=PerspectiveCamera(children=(DirectionalLight(color='white', intensity=0.6, position=(-0.013671…"
      ]
     },
     "metadata": {},
     "output_type": "display_data"
    },
    {
     "name": "stdout",
     "output_type": "stream",
     "text": [
      "time = 509.00958640747893\n",
      "dVolume/Volume_t = 0.7301037040187985 / 2.9306666666666668\n",
      "dArea/Area_t = -0.10730036915566465 / 12.56\n",
      "mechErrorNorm = 0.03806385476529225\n",
      "KE =  2.433170440477361e-07\n",
      "PE =  0.34617466380224626\n"
     ]
    },
    {
     "data": {
      "application/vnd.jupyter.widget-view+json": {
       "model_id": "e50e12360260451099c293a1ca670d01",
       "version_major": 2,
       "version_minor": 0
      },
      "text/plain": [
       "Renderer(camera=PerspectiveCamera(children=(DirectionalLight(color='white', intensity=0.6, position=(-0.014926…"
      ]
     },
     "metadata": {},
     "output_type": "display_data"
    },
    {
     "name": "stdout",
     "output_type": "stream",
     "text": [
      "time = 516.3736684266983\n",
      "dVolume/Volume_t = 0.7291916762835999 / 2.9306666666666668\n",
      "dArea/Area_t = -0.106727511713812 / 12.56\n",
      "mechErrorNorm = 0.03819406504035171\n",
      "KE =  3.6072128271379044e-07\n",
      "PE =  0.3462832371517265\n"
     ]
    },
    {
     "data": {
      "application/vnd.jupyter.widget-view+json": {
       "model_id": "c8e7b4a6ff3341fbb80d3050d748f588",
       "version_major": 2,
       "version_minor": 0
      },
      "text/plain": [
       "Renderer(camera=PerspectiveCamera(children=(DirectionalLight(color='white', intensity=0.6, position=(-0.015876…"
      ]
     },
     "metadata": {},
     "output_type": "display_data"
    },
    {
     "name": "stdout",
     "output_type": "stream",
     "text": [
      "time = 522.5026793406578\n",
      "dVolume/Volume_t = 0.7284338064663962 / 2.9306666666666668\n",
      "dArea/Area_t = -0.10621625577406135 / 12.56\n",
      "mechErrorNorm = 0.038248507924698645\n",
      "KE =  6.588059617526314e-07\n",
      "PE =  0.34639653335048615\n"
     ]
    },
    {
     "data": {
      "application/vnd.jupyter.widget-view+json": {
       "model_id": "f3288737c6024a27b629217763bcae2f",
       "version_major": 2,
       "version_minor": 0
      },
      "text/plain": [
       "Renderer(camera=PerspectiveCamera(children=(DirectionalLight(color='white', intensity=0.6, position=(-0.016468…"
      ]
     },
     "metadata": {},
     "output_type": "display_data"
    },
    {
     "name": "stdout",
     "output_type": "stream",
     "text": [
      "time = 528.0786359660983\n",
      "dVolume/Volume_t = 0.7277319355318741 / 2.9306666666666668\n",
      "dArea/Area_t = -0.10567078867918589 / 12.56\n",
      "mechErrorNorm = 0.03846692173570003\n",
      "KE =  1.595497070500153e-06\n",
      "PE =  0.3465619334737465\n"
     ]
    },
    {
     "data": {
      "application/vnd.jupyter.widget-view+json": {
       "model_id": "f0e8c10d8227450a9b5e3ec38992c434",
       "version_major": 2,
       "version_minor": 0
      },
      "text/plain": [
       "Renderer(camera=PerspectiveCamera(children=(DirectionalLight(color='white', intensity=0.6, position=(-0.017319…"
      ]
     },
     "metadata": {},
     "output_type": "display_data"
    },
    {
     "name": "stdout",
     "output_type": "stream",
     "text": [
      "time = 532.9187300674894\n",
      "dVolume/Volume_t = 0.727105809888021 / 2.9306666666666668\n",
      "dArea/Area_t = -0.10491815191874387 / 12.56\n",
      "mechErrorNorm = 0.054532670759492884\n",
      "KE =  1.8334297580025892e-05\n",
      "PE =  0.34698356125991037\n"
     ]
    },
    {
     "data": {
      "application/vnd.jupyter.widget-view+json": {
       "model_id": "27de6e0005a247d3ae8cb859b16bc4a9",
       "version_major": 2,
       "version_minor": 0
      },
      "text/plain": [
       "Renderer(camera=PerspectiveCamera(children=(DirectionalLight(color='white', intensity=0.6, position=(-0.018658…"
      ]
     },
     "metadata": {},
     "output_type": "display_data"
    },
    {
     "name": "stdout",
     "output_type": "stream",
     "text": [
      "time = 534.5697192231318\n",
      "dVolume/Volume_t = 0.7268982833471695 / 2.9306666666666668\n",
      "dArea/Area_t = -0.1043319245192933 / 12.56\n",
      "mechErrorNorm = 0.2022629389534608\n",
      "KE =  0.00035800712230051794\n",
      "PE =  0.34758587392839907\n"
     ]
    },
    {
     "data": {
      "application/vnd.jupyter.widget-view+json": {
       "model_id": "e1cd5b4e7b334f48978217ed0e55f9b1",
       "version_major": 2,
       "version_minor": 0
      },
      "text/plain": [
       "Renderer(camera=PerspectiveCamera(children=(DirectionalLight(color='white', intensity=0.6, position=(-0.019228…"
      ]
     },
     "metadata": {},
     "output_type": "display_data"
    },
    {
     "name": "stdout",
     "output_type": "stream",
     "text": [
      "time = 534.733244843119\n",
      "dVolume/Volume_t = 0.7268810921733566 / 2.9306666666666668\n",
      "dArea/Area_t = -0.10424631554531061 / 12.56\n",
      "mechErrorNorm = 0.5045598541452629\n",
      "KE =  0.0012524979785190884\n",
      "PE =  0.34774457910837286\n"
     ]
    },
    {
     "data": {
      "application/vnd.jupyter.widget-view+json": {
       "model_id": "bd947985a3064a3b934c2d34da9c4f15",
       "version_major": 2,
       "version_minor": 0
      },
      "text/plain": [
       "Renderer(camera=PerspectiveCamera(children=(DirectionalLight(color='white', intensity=0.6, position=(-0.019264…"
      ]
     },
     "metadata": {},
     "output_type": "display_data"
    },
    {
     "name": "stdout",
     "output_type": "stream",
     "text": [
      "time = 534.8294868958791\n",
      "dVolume/Volume_t = 0.7268722474148714 / 2.9306666666666668\n",
      "dArea/Area_t = -0.10420290863938497 / 12.56\n",
      "mechErrorNorm = 0.7585113116146961\n",
      "KE =  0.005074756436644199\n",
      "PE =  0.3478151252230931\n"
     ]
    },
    {
     "data": {
      "application/vnd.jupyter.widget-view+json": {
       "model_id": "a685028a502141959defe0f16b93dc38",
       "version_major": 2,
       "version_minor": 0
      },
      "text/plain": [
       "Renderer(camera=PerspectiveCamera(children=(DirectionalLight(color='white', intensity=0.6, position=(-0.019261…"
      ]
     },
     "metadata": {},
     "output_type": "display_data"
    },
    {
     "name": "stdout",
     "output_type": "stream",
     "text": [
      "time = 534.8906763809724\n",
      "dVolume/Volume_t = 0.7268652859340463 / 2.9306666666666668\n",
      "dArea/Area_t = -0.10417889276288328 / 12.56\n",
      "mechErrorNorm = 2.174972354857388\n",
      "KE =  0.0008878457632446838\n",
      "PE =  0.3474746377340719\n"
     ]
    },
    {
     "data": {
      "application/vnd.jupyter.widget-view+json": {
       "model_id": "a004c4f25f6042caa07f8561157d036d",
       "version_major": 2,
       "version_minor": 0
      },
      "text/plain": [
       "Renderer(camera=PerspectiveCamera(children=(DirectionalLight(color='white', intensity=0.6, position=(-0.019281…"
      ]
     },
     "metadata": {},
     "output_type": "display_data"
    },
    {
     "ename": "KeyboardInterrupt",
     "evalue": "",
     "output_type": "error",
     "traceback": [
      "\u001b[0;31m---------------------------------------------------------------------------\u001b[0m",
      "\u001b[0;31mKeyboardInterrupt\u001b[0m                         Traceback (most recent call last)",
      "\u001b[0;32m/tmp/ipykernel_18120/2120413133.py\u001b[0m in \u001b[0;36m<module>\u001b[0;34m\u001b[0m\n\u001b[1;32m     57\u001b[0m     \u001b[0mgrad_Area_new\u001b[0m\u001b[0;34m=\u001b[0m\u001b[0mareaGrad\u001b[0m\u001b[0;34m(\u001b[0m\u001b[0mv\u001b[0m\u001b[0;34m,\u001b[0m\u001b[0mf\u001b[0m\u001b[0;34m)\u001b[0m\u001b[0;34m\u001b[0m\u001b[0;34m\u001b[0m\u001b[0m\n\u001b[1;32m     58\u001b[0m     \u001b[0mVolume_current\u001b[0m\u001b[0;34m=\u001b[0m\u001b[0mcal_volumetot\u001b[0m\u001b[0;34m(\u001b[0m\u001b[0mv\u001b[0m\u001b[0;34m,\u001b[0m\u001b[0mf\u001b[0m\u001b[0;34m)\u001b[0m\u001b[0;34m\u001b[0m\u001b[0;34m\u001b[0m\u001b[0m\n\u001b[0;32m---> 59\u001b[0;31m     \u001b[0mgrad_Volume_new\u001b[0m\u001b[0;34m=\u001b[0m\u001b[0mvolGrad\u001b[0m\u001b[0;34m(\u001b[0m\u001b[0mv\u001b[0m\u001b[0;34m,\u001b[0m\u001b[0mf\u001b[0m\u001b[0;34m)\u001b[0m\u001b[0;34m\u001b[0m\u001b[0;34m\u001b[0m\u001b[0m\n\u001b[0m\u001b[1;32m     60\u001b[0m \u001b[0;34m\u001b[0m\u001b[0m\n\u001b[1;32m     61\u001b[0m     \u001b[0;31m###Update forces here\u001b[0m\u001b[0;34m\u001b[0m\u001b[0;34m\u001b[0m\u001b[0m\n",
      "\u001b[0;32m/tmp/ipykernel_18120/3254580205.py\u001b[0m in \u001b[0;36mvolGrad\u001b[0;34m(v, f)\u001b[0m\n\u001b[1;32m     46\u001b[0m     \u001b[0mdbl_area\u001b[0m \u001b[0;34m=\u001b[0m \u001b[0migl\u001b[0m\u001b[0;34m.\u001b[0m\u001b[0mdoublearea\u001b[0m\u001b[0;34m(\u001b[0m\u001b[0mv\u001b[0m\u001b[0;34m,\u001b[0m \u001b[0mf\u001b[0m\u001b[0;34m)\u001b[0m\u001b[0;34m\u001b[0m\u001b[0;34m\u001b[0m\u001b[0m\n\u001b[1;32m     47\u001b[0m     \u001b[0madjacent_vertices\u001b[0m\u001b[0;34m=\u001b[0m\u001b[0migl\u001b[0m\u001b[0;34m.\u001b[0m\u001b[0madjacency_list\u001b[0m\u001b[0;34m(\u001b[0m\u001b[0mf\u001b[0m\u001b[0;34m)\u001b[0m\u001b[0;34m\u001b[0m\u001b[0;34m\u001b[0m\u001b[0m\n\u001b[0;32m---> 48\u001b[0;31m     \u001b[0madjacent_faces\u001b[0m\u001b[0;34m=\u001b[0m\u001b[0madjacent_face\u001b[0m\u001b[0;34m(\u001b[0m\u001b[0mv\u001b[0m\u001b[0;34m,\u001b[0m\u001b[0mf\u001b[0m\u001b[0;34m)\u001b[0m\u001b[0;34m\u001b[0m\u001b[0;34m\u001b[0m\u001b[0m\n\u001b[0m\u001b[1;32m     49\u001b[0m     \u001b[0mvolumegrad\u001b[0m\u001b[0;34m=\u001b[0m\u001b[0;34m[\u001b[0m\u001b[0;34m]\u001b[0m\u001b[0;34m\u001b[0m\u001b[0;34m\u001b[0m\u001b[0m\n\u001b[1;32m     50\u001b[0m     \u001b[0;32mfor\u001b[0m \u001b[0mi\u001b[0m \u001b[0;32min\u001b[0m \u001b[0mrange\u001b[0m\u001b[0;34m(\u001b[0m\u001b[0mlen\u001b[0m\u001b[0;34m(\u001b[0m\u001b[0mv\u001b[0m\u001b[0;34m)\u001b[0m\u001b[0;34m)\u001b[0m\u001b[0;34m:\u001b[0m\u001b[0;34m\u001b[0m\u001b[0;34m\u001b[0m\u001b[0m\n",
      "\u001b[0;32m/tmp/ipykernel_18120/3254580205.py\u001b[0m in \u001b[0;36madjacent_face\u001b[0;34m(v, f)\u001b[0m\n\u001b[1;32m      3\u001b[0m     \u001b[0mrow_numbers\u001b[0m\u001b[0;34m=\u001b[0m\u001b[0;34m[\u001b[0m\u001b[0;34m]\u001b[0m\u001b[0;34m\u001b[0m\u001b[0;34m\u001b[0m\u001b[0m\n\u001b[1;32m      4\u001b[0m     \u001b[0;32mfor\u001b[0m \u001b[0mi\u001b[0m \u001b[0;32min\u001b[0m \u001b[0mrange\u001b[0m\u001b[0;34m(\u001b[0m\u001b[0mlen\u001b[0m\u001b[0;34m(\u001b[0m\u001b[0mv\u001b[0m\u001b[0;34m)\u001b[0m\u001b[0;34m)\u001b[0m\u001b[0;34m:\u001b[0m\u001b[0;34m\u001b[0m\u001b[0;34m\u001b[0m\u001b[0m\n\u001b[0;32m----> 5\u001b[0;31m         \u001b[0mrow_numbers\u001b[0m\u001b[0;34m.\u001b[0m\u001b[0mappend\u001b[0m\u001b[0;34m(\u001b[0m\u001b[0;34m(\u001b[0m\u001b[0mdf\u001b[0m\u001b[0;34m.\u001b[0m\u001b[0mindex\u001b[0m\u001b[0;34m[\u001b[0m\u001b[0;34m(\u001b[0m\u001b[0mdf\u001b[0m\u001b[0;34m[\u001b[0m\u001b[0;34m'A'\u001b[0m\u001b[0;34m]\u001b[0m \u001b[0;34m==\u001b[0m \u001b[0mi\u001b[0m\u001b[0;34m)\u001b[0m\u001b[0;34m|\u001b[0m\u001b[0;34m(\u001b[0m\u001b[0mdf\u001b[0m\u001b[0;34m[\u001b[0m\u001b[0;34m'B'\u001b[0m\u001b[0;34m]\u001b[0m \u001b[0;34m==\u001b[0m \u001b[0mi\u001b[0m\u001b[0;34m)\u001b[0m \u001b[0;34m|\u001b[0m \u001b[0;34m(\u001b[0m\u001b[0mdf\u001b[0m\u001b[0;34m[\u001b[0m\u001b[0;34m'C'\u001b[0m\u001b[0;34m]\u001b[0m \u001b[0;34m==\u001b[0m \u001b[0mi\u001b[0m\u001b[0;34m)\u001b[0m\u001b[0;34m]\u001b[0m\u001b[0;34m.\u001b[0m\u001b[0mtolist\u001b[0m\u001b[0;34m(\u001b[0m\u001b[0;34m)\u001b[0m\u001b[0;34m)\u001b[0m\u001b[0;34m)\u001b[0m\u001b[0;34m\u001b[0m\u001b[0;34m\u001b[0m\u001b[0m\n\u001b[0m\u001b[1;32m      6\u001b[0m     \u001b[0;32mreturn\u001b[0m \u001b[0mrow_numbers\u001b[0m\u001b[0;34m\u001b[0m\u001b[0;34m\u001b[0m\u001b[0m\n\u001b[1;32m      7\u001b[0m \u001b[0;34m\u001b[0m\u001b[0m\n",
      "\u001b[0;32m~/anaconda3/lib/python3.9/site-packages/pandas/core/ops/common.py\u001b[0m in \u001b[0;36mnew_method\u001b[0;34m(self, other)\u001b[0m\n\u001b[1;32m     67\u001b[0m         \u001b[0mother\u001b[0m \u001b[0;34m=\u001b[0m \u001b[0mitem_from_zerodim\u001b[0m\u001b[0;34m(\u001b[0m\u001b[0mother\u001b[0m\u001b[0;34m)\u001b[0m\u001b[0;34m\u001b[0m\u001b[0;34m\u001b[0m\u001b[0m\n\u001b[1;32m     68\u001b[0m \u001b[0;34m\u001b[0m\u001b[0m\n\u001b[0;32m---> 69\u001b[0;31m         \u001b[0;32mreturn\u001b[0m \u001b[0mmethod\u001b[0m\u001b[0;34m(\u001b[0m\u001b[0mself\u001b[0m\u001b[0;34m,\u001b[0m \u001b[0mother\u001b[0m\u001b[0;34m)\u001b[0m\u001b[0;34m\u001b[0m\u001b[0;34m\u001b[0m\u001b[0m\n\u001b[0m\u001b[1;32m     70\u001b[0m \u001b[0;34m\u001b[0m\u001b[0m\n\u001b[1;32m     71\u001b[0m     \u001b[0;32mreturn\u001b[0m \u001b[0mnew_method\u001b[0m\u001b[0;34m\u001b[0m\u001b[0;34m\u001b[0m\u001b[0m\n",
      "\u001b[0;32m~/anaconda3/lib/python3.9/site-packages/pandas/core/arraylike.py\u001b[0m in \u001b[0;36m__or__\u001b[0;34m(self, other)\u001b[0m\n\u001b[1;32m     68\u001b[0m     \u001b[0;34m@\u001b[0m\u001b[0munpack_zerodim_and_defer\u001b[0m\u001b[0;34m(\u001b[0m\u001b[0;34m\"__or__\"\u001b[0m\u001b[0;34m)\u001b[0m\u001b[0;34m\u001b[0m\u001b[0;34m\u001b[0m\u001b[0m\n\u001b[1;32m     69\u001b[0m     \u001b[0;32mdef\u001b[0m \u001b[0m__or__\u001b[0m\u001b[0;34m(\u001b[0m\u001b[0mself\u001b[0m\u001b[0;34m,\u001b[0m \u001b[0mother\u001b[0m\u001b[0;34m)\u001b[0m\u001b[0;34m:\u001b[0m\u001b[0;34m\u001b[0m\u001b[0;34m\u001b[0m\u001b[0m\n\u001b[0;32m---> 70\u001b[0;31m         \u001b[0;32mreturn\u001b[0m \u001b[0mself\u001b[0m\u001b[0;34m.\u001b[0m\u001b[0m_logical_method\u001b[0m\u001b[0;34m(\u001b[0m\u001b[0mother\u001b[0m\u001b[0;34m,\u001b[0m \u001b[0moperator\u001b[0m\u001b[0;34m.\u001b[0m\u001b[0mor_\u001b[0m\u001b[0;34m)\u001b[0m\u001b[0;34m\u001b[0m\u001b[0;34m\u001b[0m\u001b[0m\n\u001b[0m\u001b[1;32m     71\u001b[0m \u001b[0;34m\u001b[0m\u001b[0m\n\u001b[1;32m     72\u001b[0m     \u001b[0;34m@\u001b[0m\u001b[0munpack_zerodim_and_defer\u001b[0m\u001b[0;34m(\u001b[0m\u001b[0;34m\"__ror__\"\u001b[0m\u001b[0;34m)\u001b[0m\u001b[0;34m\u001b[0m\u001b[0;34m\u001b[0m\u001b[0m\n",
      "\u001b[0;32m~/anaconda3/lib/python3.9/site-packages/pandas/core/series.py\u001b[0m in \u001b[0;36m_logical_method\u001b[0;34m(self, other, op)\u001b[0m\n\u001b[1;32m   5512\u001b[0m \u001b[0;34m\u001b[0m\u001b[0m\n\u001b[1;32m   5513\u001b[0m         \u001b[0mres_values\u001b[0m \u001b[0;34m=\u001b[0m \u001b[0mops\u001b[0m\u001b[0;34m.\u001b[0m\u001b[0mlogical_op\u001b[0m\u001b[0;34m(\u001b[0m\u001b[0mlvalues\u001b[0m\u001b[0;34m,\u001b[0m \u001b[0mrvalues\u001b[0m\u001b[0;34m,\u001b[0m \u001b[0mop\u001b[0m\u001b[0;34m)\u001b[0m\u001b[0;34m\u001b[0m\u001b[0;34m\u001b[0m\u001b[0m\n\u001b[0;32m-> 5514\u001b[0;31m         \u001b[0;32mreturn\u001b[0m \u001b[0mself\u001b[0m\u001b[0;34m.\u001b[0m\u001b[0m_construct_result\u001b[0m\u001b[0;34m(\u001b[0m\u001b[0mres_values\u001b[0m\u001b[0;34m,\u001b[0m \u001b[0mname\u001b[0m\u001b[0;34m=\u001b[0m\u001b[0mres_name\u001b[0m\u001b[0;34m)\u001b[0m\u001b[0;34m\u001b[0m\u001b[0;34m\u001b[0m\u001b[0m\n\u001b[0m\u001b[1;32m   5515\u001b[0m \u001b[0;34m\u001b[0m\u001b[0m\n\u001b[1;32m   5516\u001b[0m     \u001b[0;32mdef\u001b[0m \u001b[0m_arith_method\u001b[0m\u001b[0;34m(\u001b[0m\u001b[0mself\u001b[0m\u001b[0;34m,\u001b[0m \u001b[0mother\u001b[0m\u001b[0;34m,\u001b[0m \u001b[0mop\u001b[0m\u001b[0;34m)\u001b[0m\u001b[0;34m:\u001b[0m\u001b[0;34m\u001b[0m\u001b[0;34m\u001b[0m\u001b[0m\n",
      "\u001b[0;32m~/anaconda3/lib/python3.9/site-packages/pandas/core/series.py\u001b[0m in \u001b[0;36m_construct_result\u001b[0;34m(self, result, name)\u001b[0m\n\u001b[1;32m   2943\u001b[0m         \u001b[0;31m# We do not pass dtype to ensure that the Series constructor\u001b[0m\u001b[0;34m\u001b[0m\u001b[0;34m\u001b[0m\u001b[0m\n\u001b[1;32m   2944\u001b[0m         \u001b[0;31m#  does inference in the case where `result` has object-dtype.\u001b[0m\u001b[0;34m\u001b[0m\u001b[0;34m\u001b[0m\u001b[0m\n\u001b[0;32m-> 2945\u001b[0;31m         \u001b[0mout\u001b[0m \u001b[0;34m=\u001b[0m \u001b[0mself\u001b[0m\u001b[0;34m.\u001b[0m\u001b[0m_constructor\u001b[0m\u001b[0;34m(\u001b[0m\u001b[0mresult\u001b[0m\u001b[0;34m,\u001b[0m \u001b[0mindex\u001b[0m\u001b[0;34m=\u001b[0m\u001b[0mself\u001b[0m\u001b[0;34m.\u001b[0m\u001b[0mindex\u001b[0m\u001b[0;34m)\u001b[0m\u001b[0;34m\u001b[0m\u001b[0;34m\u001b[0m\u001b[0m\n\u001b[0m\u001b[1;32m   2946\u001b[0m         \u001b[0mout\u001b[0m \u001b[0;34m=\u001b[0m \u001b[0mout\u001b[0m\u001b[0;34m.\u001b[0m\u001b[0m__finalize__\u001b[0m\u001b[0;34m(\u001b[0m\u001b[0mself\u001b[0m\u001b[0;34m)\u001b[0m\u001b[0;34m\u001b[0m\u001b[0;34m\u001b[0m\u001b[0m\n\u001b[1;32m   2947\u001b[0m \u001b[0;34m\u001b[0m\u001b[0m\n",
      "\u001b[0;32m~/anaconda3/lib/python3.9/site-packages/pandas/core/series.py\u001b[0m in \u001b[0;36m__init__\u001b[0;34m(self, data, index, dtype, name, copy, fastpath)\u001b[0m\n\u001b[1;32m    437\u001b[0m                     \u001b[0mdata\u001b[0m \u001b[0;34m=\u001b[0m \u001b[0mdata\u001b[0m\u001b[0;34m.\u001b[0m\u001b[0mcopy\u001b[0m\u001b[0;34m(\u001b[0m\u001b[0;34m)\u001b[0m\u001b[0;34m\u001b[0m\u001b[0;34m\u001b[0m\u001b[0m\n\u001b[1;32m    438\u001b[0m             \u001b[0;32melse\u001b[0m\u001b[0;34m:\u001b[0m\u001b[0;34m\u001b[0m\u001b[0;34m\u001b[0m\u001b[0m\n\u001b[0;32m--> 439\u001b[0;31m                 \u001b[0mdata\u001b[0m \u001b[0;34m=\u001b[0m \u001b[0msanitize_array\u001b[0m\u001b[0;34m(\u001b[0m\u001b[0mdata\u001b[0m\u001b[0;34m,\u001b[0m \u001b[0mindex\u001b[0m\u001b[0;34m,\u001b[0m \u001b[0mdtype\u001b[0m\u001b[0;34m,\u001b[0m \u001b[0mcopy\u001b[0m\u001b[0;34m)\u001b[0m\u001b[0;34m\u001b[0m\u001b[0;34m\u001b[0m\u001b[0m\n\u001b[0m\u001b[1;32m    440\u001b[0m \u001b[0;34m\u001b[0m\u001b[0m\n\u001b[1;32m    441\u001b[0m                 \u001b[0mmanager\u001b[0m \u001b[0;34m=\u001b[0m \u001b[0mget_option\u001b[0m\u001b[0;34m(\u001b[0m\u001b[0;34m\"mode.data_manager\"\u001b[0m\u001b[0;34m)\u001b[0m\u001b[0;34m\u001b[0m\u001b[0;34m\u001b[0m\u001b[0m\n",
      "\u001b[0;32m~/anaconda3/lib/python3.9/site-packages/pandas/core/construction.py\u001b[0m in \u001b[0;36msanitize_array\u001b[0;34m(data, index, dtype, copy, raise_cast_failure, allow_2d)\u001b[0m\n\u001b[1;32m    500\u001b[0m     \u001b[0mdata\u001b[0m \u001b[0;34m=\u001b[0m \u001b[0mextract_array\u001b[0m\u001b[0;34m(\u001b[0m\u001b[0mdata\u001b[0m\u001b[0;34m,\u001b[0m \u001b[0mextract_numpy\u001b[0m\u001b[0;34m=\u001b[0m\u001b[0;32mTrue\u001b[0m\u001b[0;34m)\u001b[0m\u001b[0;34m\u001b[0m\u001b[0;34m\u001b[0m\u001b[0m\n\u001b[1;32m    501\u001b[0m \u001b[0;34m\u001b[0m\u001b[0m\n\u001b[0;32m--> 502\u001b[0;31m     \u001b[0;32mif\u001b[0m \u001b[0misinstance\u001b[0m\u001b[0;34m(\u001b[0m\u001b[0mdata\u001b[0m\u001b[0;34m,\u001b[0m \u001b[0mnp\u001b[0m\u001b[0;34m.\u001b[0m\u001b[0mndarray\u001b[0m\u001b[0;34m)\u001b[0m \u001b[0;32mand\u001b[0m \u001b[0mdata\u001b[0m\u001b[0;34m.\u001b[0m\u001b[0mndim\u001b[0m \u001b[0;34m==\u001b[0m \u001b[0;36m0\u001b[0m\u001b[0;34m:\u001b[0m\u001b[0;34m\u001b[0m\u001b[0;34m\u001b[0m\u001b[0m\n\u001b[0m\u001b[1;32m    503\u001b[0m         \u001b[0;32mif\u001b[0m \u001b[0mdtype\u001b[0m \u001b[0;32mis\u001b[0m \u001b[0;32mNone\u001b[0m\u001b[0;34m:\u001b[0m\u001b[0;34m\u001b[0m\u001b[0;34m\u001b[0m\u001b[0m\n\u001b[1;32m    504\u001b[0m             \u001b[0mdtype\u001b[0m \u001b[0;34m=\u001b[0m \u001b[0mdata\u001b[0m\u001b[0;34m.\u001b[0m\u001b[0mdtype\u001b[0m\u001b[0;34m\u001b[0m\u001b[0;34m\u001b[0m\u001b[0m\n",
      "\u001b[0;31mKeyboardInterrupt\u001b[0m: "
     ]
    }
   ],
   "source": [
    "#%%time\n",
    "v_init, f = igl.read_triangle_mesh(os.path.join(root_folder, \"oblate.off\"))### Can be changed for Prolate\n",
    "l = igl.edge_lengths(v_init,f)\n",
    "dt_size2_ratio = charTimeStep / np.amin(l)**2\n",
    "\n",
    "###Forward Euler Main \n",
    "\n",
    "#Setup\n",
    "v=v_init\n",
    "vel=np.zeros((len(v_init),3))\n",
    "time=0\n",
    "#FD=fun_FD2(v_init,f,vel)\n",
    "\n",
    "#Volume_old=cal_volume(v,f)\n",
    "#Area_t=cal_Area(v,f)\n",
    "grad_Area=areaGrad(v_init,f)\n",
    "grad_Volume=volGrad(v_init,f)\n",
    "Area_new=cal_areatot(v_init,f)\n",
    "print('initial area = ',Area_new)\n",
    "Volume_new=cal_volumetot(v_init,f)\n",
    "print('initial volume = ', Volume_new)\n",
    "\n",
    "FB=Force_Bending(v_init,f)\n",
    "FA=Force_Area(Area_t,grad_Area,Area_new)\n",
    "FV=Force_Volume(Volume_t,grad_Volume,Volume_new)\n",
    "#FR=fun_FR2(v,f)\n",
    "TF=Total_Force(FB,FA,FV)\n",
    "initialMaxForce = np.amax(np.linalg.norm(TF, axis=1))\n",
    "\n",
    "### Calculation of Energy\n",
    "timeout=[]\n",
    "totalEnergy=[]\n",
    "EnergyArea=[]\n",
    "EnergyVolume=[]\n",
    "EnergyBending=[]\n",
    "KineticEnergy=[]\n",
    "#df=open('iter=0.01_100,gamma=100','w')\n",
    "#df.write('Total Energy of the System, dt=0.01\\n')\n",
    "#new_file = open('FD.txt','w')\n",
    "for i in range(iterations):\n",
    "    #Integration\n",
    "    \n",
    "    vel = TF/gamma\n",
    "    \n",
    "    ## adjust time step if adopt adaptive time step based on mesh size\n",
    "    if (isAdaptiveStep):\n",
    "        charTimeStep = updateTimeStep(v,f,TF,initialMaxForce,\n",
    "                                                dt_size2_ratio,charTimeStep);\n",
    "        \n",
    "    dt = charTimeStep\n",
    "    \n",
    "    v += vel*dt\n",
    "    time += dt\n",
    "   \n",
    "    #Force calculation\n",
    "    Area_current=cal_areatot(v,f)\n",
    "    grad_Area_new=areaGrad(v,f)\n",
    "    Volume_current=cal_volumetot(v,f)\n",
    "    grad_Volume_new=volGrad(v,f)\n",
    "\n",
    "    ###Update forces here\n",
    "    #FR=fun_FR2(v,f)\n",
    "    #FD=fun_FD2(v,f,vel)\n",
    "    FB=Force_Bending(v,f) ##bending_force\n",
    "    FA=Force_Area(Area_t,grad_Area_new,Area_current)\n",
    "    #print(FAL)\n",
    "    FV=Force_Volume(Volume_t,grad_Volume_new,Volume_current)\n",
    "    TF=Total_Force(FB,FA,FV)\n",
    "\n",
    "    #     if i>1300 and i%5==0:\n",
    "    #         ax1 = plt.figure().add_subplot(projection='3d')\n",
    "    #         ax1.quiver(v[:,0], v[:,1],v[:,2], FA[:,0], FA[:,1], FA[:,2], length=0.2, normalize=True,color='g')\n",
    "    #         filename = '/home/BU/dredwan1/Velocity Verlet/Gamma=100_Oblate/FA-images/'\n",
    "    #         plt.savefig(filename + 'TEST_' + str(i) + '.png',dpi=600)\n",
    "    #         ax2 = plt.figure().add_subplot(projection='3d')\n",
    "    #         ax2.quiver(v[:,0], v[:,1],v[:,2], FV[:,0], FV[:,1], FV[:,2], length=0.2, normalize=True,color='r')\n",
    "    #         filename = '/home/BU/dredwan1/Velocity Verlet/Gamma=100_Oblate/FV-images/'\n",
    "    #         plt.savefig(filename + 'TEST_' + str(i) + '.png',dpi=600)\n",
    "    #         ax3= plt.figure().add_subplot(projection='3d')\n",
    "    #         ax3.quiver(v[:,0], v[:,1],v[:,2], FB[:,0], FB[:,1], FB[:,2], length=0.2, normalize=True,color='b')\n",
    "    #         filename = '/home/BU/dredwan1/Velocity Verlet/Gamma=100_Oblate/FB-images/'\n",
    "    #         plt.savefig(filename + 'TEST_' + str(i) + '.png',dpi=600)\n",
    "    #         ax4= plt.figure().add_subplot(projection='3d')\n",
    "    #         ax4.quiver(v[:,0], v[:,1],v[:,2], FD[:,0], FD[:,1], FA[:,2], length=0.2, normalize=True,color='y')\n",
    "    #         filename = '/home/BU/dredwan1/Velocity Verlet/Gamma=100_Oblate/FD-images/'\n",
    "    #         plt.savefig(filename + 'TEST_' + str(i) + '.png',dpi=600)\n",
    "    \n",
    "    mechErrorNorm = np.sum(np.linalg.norm(TF, axis=1))\n",
    "    if (mechErrorNorm < tolerance) or (mechErrorNorm > maxError):\n",
    "        print('time =',time)\n",
    "        print('dVolume/Volume_t =',Volume_current-Volume_t,'/',Volume_t)\n",
    "        print('dArea/Area_t =',Area_current-Area_t,'/',Area_t)\n",
    "        print('mechErrorNorm =',mechErrorNorm)\n",
    "        time.append(i+1)\n",
    "        EnergyArea.append(Energy_area(v,f,Area_t))\n",
    "        EnergyVolume.append(Energy_volume(v,f,Volume_t))\n",
    "        EnergyBending.append(Energy_bending(v,f,H0))\n",
    "        KineticEnergy.append(Kinetic_energy(v,f,vel))\n",
    "        print('KE = ',KineticEnergy[-1])\n",
    "        PotentialEnergy = np.array(EnergyArea) + np.array(EnergyVolume) + np.array(EnergyBending)\n",
    "        print('PE = ',PotentialEnergy[-1])\n",
    "        totalEnergy = np.array(KineticEnergy) + PotentialEnergy\n",
    "        mp.jupyter()\n",
    "        p=mp.plot(v,f,shading={\"wireframe\":True, \"wire_color\": \"black\", #Wireframerendering\n",
    "                               \"width\": 300, \"height\": 300},return_plot=True)\n",
    "        name = 'test'+str(i)\n",
    "        break\n",
    "    if i%outfrequency==0:\n",
    "        print('time =',time)\n",
    "        print('dVolume/Volume_t =',Volume_current-Volume_t,'/',Volume_t)\n",
    "        print('dArea/Area_t =',Area_current-Area_t,'/',Area_t)\n",
    "        print('mechErrorNorm =',mechErrorNorm)\n",
    "        timeout.append(time)\n",
    "        EnergyArea.append(Energy_area(v,f,Area_t))\n",
    "        EnergyVolume.append(Energy_volume(v,f,Volume_t))\n",
    "        EnergyBending.append(Energy_bending(v,f,H0))\n",
    "        KineticEnergy.append(Kinetic_energy(v,f,vel))\n",
    "        print('KE = ',KineticEnergy[-1])\n",
    "        PotentialEnergy = np.array(EnergyArea) + np.array(EnergyVolume) + np.array(EnergyBending)\n",
    "        print('PE = ',PotentialEnergy[-1])\n",
    "        totalEnergy = np.array(KineticEnergy) + PotentialEnergy\n",
    "        mp.jupyter()\n",
    "        p=mp.plot(v,f,shading={\"wireframe\":True, \"wire_color\": \"black\", #Wireframerendering\n",
    "                               \"width\": 300, \"height\": 300},return_plot=True)\n",
    "        name = 'test'+str(i)\n",
    "       \n",
    "        #print(vel_new)\n",
    "        #df.close()"
   ]
  },
  {
   "cell_type": "code",
   "execution_count": null,
   "id": "c914d114",
   "metadata": {},
   "outputs": [],
   "source": [
    "plt.plot(time,totalEnergy,'o-', color='red', label='total Energy')\n",
    "plt.plot(time,EnergyBending,'o-', label='Bending Energy')\n",
    "plt.plot(time,EnergyVolume,'v-', label='Volume Energy')\n",
    "plt.plot(time,EnergyArea,'o-', label='Area Energy')\n",
    "plt.plot(time,PotentialEnergy,'v-',label='Potential Energy')\n",
    "plt.plot(time,KineticEnergy,'v-', label='Kinetic Energy',color='k')\n",
    "#plt.axis([0, 800, 0, 2])\n",
    "plt.legend(loc='upper left')\n",
    "plt.title('time vs Energy')\n",
    "plt.show()"
   ]
  },
  {
   "cell_type": "code",
   "execution_count": null,
   "id": "2ebfb4ee",
   "metadata": {},
   "outputs": [],
   "source": []
  }
 ],
 "metadata": {
  "kernelspec": {
   "display_name": "Python 3 (ipykernel)",
   "language": "python",
   "name": "python3"
  },
  "language_info": {
   "codemirror_mode": {
    "name": "ipython",
    "version": 3
   },
   "file_extension": ".py",
   "mimetype": "text/x-python",
   "name": "python",
   "nbconvert_exporter": "python",
   "pygments_lexer": "ipython3",
   "version": "3.9.7"
  }
 },
 "nbformat": 4,
 "nbformat_minor": 5
}
