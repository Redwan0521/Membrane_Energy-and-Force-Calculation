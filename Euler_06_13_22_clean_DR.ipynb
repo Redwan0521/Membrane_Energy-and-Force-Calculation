{
 "cells": [
  {
   "cell_type": "code",
   "execution_count": 1,
   "id": "68272094",
   "metadata": {},
   "outputs": [],
   "source": [
    "import igl\n",
    "import math\n",
    "import scipy as sp\n",
    "import numpy as np\n",
    "import meshplot as mp\n",
    "import pandas as pd\n",
    "import matplotlib as mpl\n",
    "import matplotlib.pyplot as plt\n",
    "from matplotlib import cm\n",
    "from mpl_toolkits.mplot3d import Axes3D\n",
    "from adaptmesh import triangulate\n",
    "import pymesh\n",
    "import numba\n",
    "import os\n",
    "root_folder = os.getcwd()"
   ]
  },
  {
   "cell_type": "code",
   "execution_count": 2,
   "id": "a89a7bad",
   "metadata": {},
   "outputs": [
    {
     "data": {
      "text/plain": [
       "472"
      ]
     },
     "execution_count": 2,
     "metadata": {},
     "output_type": "execute_result"
    }
   ],
   "source": [
    "v_init, f = igl.read_triangle_mesh(os.path.join(root_folder, \"prolate.off\"))\n",
    "### Parameters for running computation\n",
    "global Kb\n",
    "global Kv\n",
    "global Ka\n",
    "global gamma\n",
    "global KbT\n",
    "global delT\n",
    "global Kal\n",
    "Kal=1\n",
    "gamma=2\n",
    "Ka=2\n",
    "Kv=1\n",
    "Kb=0.01\n",
    "H0=0\n",
    "Volume_t= 0.95* 3.14 * 4 / 3\n",
    "Area_t=4*3.14\n",
    "KbT=0.01\n",
    "charTimeStep=0.1\n",
    "isAdaptiveStep=True\n",
    "#hdt=0.5*dt\n",
    "iterations = 2000\n",
    "outfrequency = 100\n",
    "tolerance = 1e-3\n",
    "maxError = 2000\n",
    "###Upsample_Here\n",
    "#v_init,f=igl.upsample(v_init, f,1)\n",
    "len(v_init)\n"
   ]
  },
  {
   "cell_type": "code",
   "execution_count": 3,
   "id": "0cdfcf21",
   "metadata": {},
   "outputs": [],
   "source": [
    "###Energy Calculations /// Area+Bending+Volume\n",
    "# @numba.jit\n",
    "def Energy_area(v,f,Area_t):\n",
    "    Area_new=cal_areatot(v,f)\n",
    "    Energy_Area=Ka*((Area_new-Area_t)**2)/Area_t\n",
    "    return Energy_Area\n",
    "# @numba.jit\n",
    "def Energy_volume(v,f,Volume_t):\n",
    "    volume_new=cal_volumetot(v,f)\n",
    "    Energy_volume=Kv*((volume_new-Volume_t)**2)/Volume_t\n",
    "    return Energy_volume\n",
    "# @numba.jit\n",
    "# def Energy_bending(v,f,H0):\n",
    "#     npv = igl.per_vertex_normals(v, f)\n",
    "#     m = igl.massmatrix(v, f, igl.MASSMATRIX_TYPE_VORONOI)\n",
    "#     minv = sp.sparse.diags(1 / m.diagonal())\n",
    "#     area_voronoi=m.diagonal()\n",
    "#     l = igl.cotmatrix(v, f) ###laplacian-operator\n",
    "#     Hn = -minv.dot(l.dot(v))/2\n",
    "#     H_mean = np.linalg.norm(Hn, axis=1)\n",
    "#     sign_H = np.sign(np.sum(Hn*npv, axis=1))\n",
    "#     H_mean_signed = H_mean*sign_H\n",
    "#     #print(max(h_mean))\n",
    "#     #print(min(h_mean))\n",
    "#     Eb = 2*Kb*(((H_mean_signed-H0)**2)+K)*area_voronoi\n",
    "#     total_EB = np.sum(Eb)\n",
    "#     return total_EB\n",
    "  "
   ]
  },
  {
   "cell_type": "code",
   "execution_count": 4,
   "id": "a4e2f5f3",
   "metadata": {},
   "outputs": [],
   "source": [
    "def adjacent_face(v,f):\n",
    "    df=pd.DataFrame(f,columns=list('ABC'))\n",
    "    row_numbers=[]\n",
    "    for i in range(len(v)):\n",
    "        row_numbers.append((df.index[(df['A'] == i)|(df['B'] == i) | (df['C'] == i)].tolist()))\n",
    "    return row_numbers\n",
    "\n",
    "def cal_areatot(v,f):\n",
    "    dbl_area = igl.doublearea(v, f)    \n",
    "    Areatot = np.sum(dbl_area)/2\n",
    "    return Areatot\n",
    "@numba.jit\n",
    "def cal_volumetot(v,f):\n",
    "    Volumetot = 0\n",
    "    for i in range(len(f)):\n",
    "        sum=0\n",
    "        p0x=v[f[i][0]][0]\n",
    "        p0y=v[f[i][0]][1]\n",
    "        p0z=v[f[i][0]][2]\n",
    "        p1x=v[f[i][1]][0]\n",
    "        p1y=v[f[i][1]][1]\n",
    "        p1z=v[f[i][1]][2]\n",
    "        p2x=v[f[i][2]][0]\n",
    "        p2y=v[f[i][2]][1]\n",
    "        p2z=v[f[i][2]][2]\n",
    "        v321= p2x*p1y*p0z\n",
    "        v231= p1x*p2y*p0z\n",
    "        v312= p2x*p0y*p1z\n",
    "        v132= p0x*p2y*p1z\n",
    "        v213= p1x*p0y*p2z\n",
    "        v123= p0x*p1y*p2z\n",
    "        sum=(-v321+ v231+ v312-v132-v213+ v123) / 6.0\n",
    "        #print(sum)\n",
    "        Volumetot+=sum\n",
    "    return Volumetot\n",
    "\n",
    "def areaGrad(v,f):\n",
    "    #n=igl.per_vertex_normals(v,f) ## not using per_vertex_normals for areaGrad direction\n",
    "    l = igl.cotmatrix(v, f) ###laplacian-operator\n",
    "    ag = -l.dot(v)\n",
    "    return ag\n",
    "def volGrad(v,f):\n",
    "    npv = igl.per_vertex_normals(v, f)\n",
    "    face_normal=igl.per_face_normals(v,f,npv)\n",
    "    dbl_area = igl.doublearea(v, f)\n",
    "    adjacent_vertices=igl.adjacency_list(f)\n",
    "    adjacent_faces=adjacent_face(v,f)\n",
    "    volumegrad=[]\n",
    "    for i in range(len(v)):\n",
    "        vol_ij=0\n",
    "        for j in range(len(adjacent_faces[i])):\n",
    "            k=adjacent_faces[i][j]\n",
    "            Area=dbl_area[k]/2\n",
    "            FaceNorm=face_normal[k]\n",
    "            vol_ij += (1/3)*Area*FaceNorm\n",
    "        volumegrad.append(vol_ij)\n",
    "    return np.array(volumegrad)\n",
    "def ver_new(v,f):\n",
    "    adjacent_faces=adjacent_face(v,f)\n",
    "    Area=igl.doublearea(v,f)\n",
    "    n = igl.per_vertex_normals(v, f)\n",
    "    face_normal=igl.per_face_normals(v,f,n)\n",
    "    v_b=igl.barycenter(v,f)\n",
    "    v_new=[]\n",
    "    for i in range(len(v)):\n",
    "        face_area=Area[adjacent_faces[i]]\n",
    "        face_area_sum=np.sum(face_area)\n",
    "        v_centroid=v_b[adjacent_faces[i]]\n",
    "        sum_of_area_centroid=np.dot(face_area,v_centroid)\n",
    "        v_avg=sum_of_area_centroid/face_area_sum\n",
    "        fnorm=face_normal[adjacent_faces[i]]\n",
    "        fsum=np.sum(fnorm,axis=0)\n",
    "        lamda=(np.dot(v_avg,fsum)-np.dot(v[i],fsum))/np.dot(fsum,fsum)\n",
    "        v_new.append(v_avg-lamda*fsum)    \n",
    "    return np.array(v_new)"
   ]
  },
  {
   "cell_type": "code",
   "execution_count": 5,
   "id": "bf936341",
   "metadata": {},
   "outputs": [],
   "source": [
    "###Force  and Energy Calculations from bending\n",
    "def Force_Bending(v,f):\n",
    "    npv = igl.per_vertex_normals(v, f)\n",
    "    K = igl.gaussian_curvature(v, f)\n",
    "    m = igl.massmatrix(v, f, igl.MASSMATRIX_TYPE_VORONOI)\n",
    "    minv = sp.sparse.diags(1 / m.diagonal())\n",
    "    area_voronoi=m.diagonal()\n",
    "    l = igl.cotmatrix(v, f) ###laplacian-operator\n",
    "    m = igl.massmatrix(v, f, igl.MASSMATRIX_TYPE_VORONOI)\n",
    "    minv = sp.sparse.diags(1 / m.diagonal())\n",
    "    Hn = -minv.dot(l.dot(v))/2\n",
    "    H_mean = np.linalg.norm(Hn, axis=1)\n",
    "    sign_H = np.sign(np.sum(Hn*npv, axis=1))\n",
    "    #if (min(sign_H)<0):\n",
    "    #    print('H_mean changes sign')\n",
    "    H_mean_signed = H_mean*sign_H\n",
    "    Lap_H = minv.dot(l.dot(H_mean_signed-H0))\n",
    "    kn = minv.dot(K)\n",
    "    first_term = 2*(H_mean_signed-H0)*(H_mean_signed**2 + H0*H_mean_signed -kn)\n",
    "    totalforce = first_term + Lap_H\n",
    "\n",
    "\n",
    "    #for i in range (len(v)):\n",
    "    Force_bending = 2*Kb*npv*totalforce[:,None]*area_voronoi[:,None]\n",
    "        #Force_Nodal.append(Force_density[i]*area_voronoi[i])\n",
    "        #print(Force_density[i]) \n",
    "        #print(Force_Nodal[i])\n",
    "    Eb = 2*Kb*(((H_mean_signed-H0)**2))*area_voronoi\n",
    "    total_EB = np.sum(Eb)\n",
    "        \n",
    "    return Force_bending,total_EB"
   ]
  },
  {
   "cell_type": "code",
   "execution_count": 6,
   "id": "a8b9d64f",
   "metadata": {},
   "outputs": [],
   "source": [
    "###Force from Area Constraints\n",
    "def Force_Area(Area_t,grad_Area,Area_new):\n",
    "    #grad_Area=volgrad(v,f)\n",
    "    #Area_old=cal_volume(v,f)\n",
    "    #Area_new=cal_Area(pos_new,f)\n",
    "    Force_Area=-2*(Ka)*((Area_new-Area_t)/Area_t)*grad_Area\n",
    "    return Force_Area"
   ]
  },
  {
   "cell_type": "code",
   "execution_count": 7,
   "id": "ed3ba0f0",
   "metadata": {},
   "outputs": [],
   "source": [
    "###Force from Volume Area Constraints\n",
    "def Force_Volume(Volume_t,grad_Volume,volume_new):\n",
    "    #grad_Volume=volgrad(v,f)\n",
    "    #Volume_old=cal_volume(v,f)\n",
    "    #Volume_new=cal_volume(pos_new,f)\n",
    "\n",
    "    Force_Volume=-2*(Kv)*((volume_new-Volume_t)/Volume_t)*grad_Volume ## Volume constraint is not the same as in mem3dg\n",
    "    return Force_Volume"
   ]
  },
  {
   "cell_type": "code",
   "execution_count": 8,
   "id": "11f2d00e",
   "metadata": {},
   "outputs": [],
   "source": [
    "def Total_Force(FB,FA,FV):\n",
    "    Total_force=(FB+FA+FV)\n",
    "    return Total_force"
   ]
  },
  {
   "cell_type": "code",
   "execution_count": 9,
   "id": "3c823e21",
   "metadata": {},
   "outputs": [],
   "source": [
    "def updateTimeStep(v,f,l,TF,initialMaxForce,dt_size2_ratio,charTimeStep):\n",
    "    currentMinSize = np.amin(l)\n",
    "    currentMaxForce = np.amax(np.linalg.norm(TF, axis=1))\n",
    "    dt = (dt_size2_ratio * currentMinSize **2)*\\\n",
    "        (initialMaxForce / currentMaxForce)\n",
    "    \n",
    "    if (charTimeStep / dt > 1e3):\n",
    "        print(\"Time step too small! May consider restarting\\n\",\n",
    "              \"simulation in small time scale\")\n",
    "        print(\"Current size / initial size =\",\n",
    "              currentMinSize / sqrt(charTimeStep/dt_size2_ratio))\n",
    "        print(\"Current forece / inital force =\",\n",
    "             currentMaxForce / initialMaxForce)\n",
    "        exit()\n",
    "    return dt"
   ]
  },
  {
   "cell_type": "markdown",
   "id": "d51adc5c",
   "metadata": {},
   "source": [
    "grad_A=areaGrad(v,f)\n",
    "\n",
    "grad_Volume=volgrad(v,f)\n",
    "grad_Volume=np.array(grad_Volume)\n",
    "grad_Volume.shape"
   ]
  },
  {
   "cell_type": "code",
   "execution_count": null,
   "id": "aa6bb6a7",
   "metadata": {
    "scrolled": true
   },
   "outputs": [
    {
     "name": "stdout",
     "output_type": "stream",
     "text": [
      "initial area =  12.477707688493407\n",
      "initial volume =  3.809031960721252\n",
      "time = 0.1\n",
      "dt = 0.1\n",
      "dVolume/Volume_t = -0.16596306757624912 / 3.9773333333333336\n",
      "dArea/Area_t = -0.0780029596444276 / 12.56\n",
      "mechErrorNorm = 1.8351493071945082\n",
      "PE =  0.29733866596087805\n"
     ]
    },
    {
     "data": {
      "application/vnd.jupyter.widget-view+json": {
       "model_id": "c3c7d07a2d974d17bba390a3d9abb6c7",
       "version_major": 2,
       "version_minor": 0
      },
      "text/plain": [
       "Renderer(camera=PerspectiveCamera(children=(DirectionalLight(color='white', intensity=0.6, position=(0.0001232…"
      ]
     },
     "metadata": {},
     "output_type": "display_data"
    },
    {
     "name": "stdout",
     "output_type": "stream",
     "text": [
      "number of vertices= 472\n",
      "number of Iterations= 0\n",
      "time = 12.70434195479261\n",
      "dt = 0.14177636101497607\n",
      "dVolume/Volume_t = -0.07996935620650047 / 3.9773333333333336\n",
      "dArea/Area_t = 0.05446459025108652 / 12.56\n",
      "mechErrorNorm = 0.4629347784823319\n",
      "PE =  0.28690132922939054\n"
     ]
    },
    {
     "data": {
      "application/vnd.jupyter.widget-view+json": {
       "model_id": "294a9b831a08480b82d1bb047d89230d",
       "version_major": 2,
       "version_minor": 0
      },
      "text/plain": [
       "Renderer(camera=PerspectiveCamera(children=(DirectionalLight(color='white', intensity=0.6, position=(0.0002767…"
      ]
     },
     "metadata": {},
     "output_type": "display_data"
    },
    {
     "name": "stdout",
     "output_type": "stream",
     "text": [
      "number of vertices= 472\n",
      "number of Iterations= 100\n",
      "Energy_Change_Rate = 3.63795342444802\n",
      "time = 29.646378974314366\n",
      "dt = 0.1986532330165664\n",
      "dVolume/Volume_t = -0.05865934148280472 / 3.9773333333333336\n",
      "dArea/Area_t = 0.04359515290582827 / 12.56\n",
      "mechErrorNorm = 0.3862114914747115\n",
      "PE =  0.2822302653925379\n"
     ]
    },
    {
     "data": {
      "application/vnd.jupyter.widget-view+json": {
       "model_id": "36483d1f66c7498e8edfbc2095f64540",
       "version_major": 2,
       "version_minor": 0
      },
      "text/plain": [
       "Renderer(camera=PerspectiveCamera(children=(DirectionalLight(color='white', intensity=0.6, position=(0.0002045…"
      ]
     },
     "metadata": {},
     "output_type": "display_data"
    },
    {
     "name": "stdout",
     "output_type": "stream",
     "text": [
      "number of vertices= 472\n",
      "number of Iterations= 200\n",
      "Energy_Change_Rate = 1.6550541914262462\n",
      "time = 52.67946860750403\n",
      "dt = 0.26183074524063354\n",
      "dVolume/Volume_t = -0.03698600127872753 / 3.9773333333333336\n",
      "dArea/Area_t = 0.02836318500573043 / 12.56\n",
      "mechErrorNorm = 0.328668595569503\n",
      "PE =  0.2779429089853193\n"
     ]
    },
    {
     "data": {
      "application/vnd.jupyter.widget-view+json": {
       "model_id": "df5adcd961f44ad9a2fadc4d45e15cae",
       "version_major": 2,
       "version_minor": 0
      },
      "text/plain": [
       "Renderer(camera=PerspectiveCamera(children=(DirectionalLight(color='white', intensity=0.6, position=(0.0001356…"
      ]
     },
     "metadata": {},
     "output_type": "display_data"
    },
    {
     "name": "stdout",
     "output_type": "stream",
     "text": [
      "number of vertices= 472\n",
      "number of Iterations= 300\n",
      "Energy_Change_Rate = 1.5425313143876846\n",
      "time = 82.44506567110194\n",
      "dt = 0.33458486298274376\n",
      "dVolume/Volume_t = -0.014491665424062994 / 3.9773333333333336\n",
      "dArea/Area_t = 0.0119433589575344 / 12.56\n",
      "mechErrorNorm = 0.28096619976040876\n",
      "PE =  0.2740708457996561\n"
     ]
    },
    {
     "data": {
      "application/vnd.jupyter.widget-view+json": {
       "model_id": "0b81892375d0417293bd7ad51fb79d93",
       "version_major": 2,
       "version_minor": 0
      },
      "text/plain": [
       "Renderer(camera=PerspectiveCamera(children=(DirectionalLight(color='white', intensity=0.6, position=(4.1276216…"
      ]
     },
     "metadata": {},
     "output_type": "display_data"
    },
    {
     "name": "stdout",
     "output_type": "stream",
     "text": [
      "number of vertices= 472\n",
      "number of Iterations= 400\n",
      "Energy_Change_Rate = 1.4127964520872969\n",
      "time = 110.63981057758721\n",
      "dt = 0.2878385370499126\n",
      "dVolume/Volume_t = 0.00306263403937157 / 3.9773333333333336\n",
      "dArea/Area_t = -0.0011392721095386804 / 12.56\n",
      "mechErrorNorm = 0.24837653855097125\n",
      "PE =  0.27134975115937887\n"
     ]
    },
    {
     "data": {
      "application/vnd.jupyter.widget-view+json": {
       "model_id": "5da66db4f5b9494d94a495b775f2c919",
       "version_major": 2,
       "version_minor": 0
      },
      "text/plain": [
       "Renderer(camera=PerspectiveCamera(children=(DirectionalLight(color='white', intensity=0.6, position=(-4.985928…"
      ]
     },
     "metadata": {},
     "output_type": "display_data"
    },
    {
     "name": "stdout",
     "output_type": "stream",
     "text": [
      "number of vertices= 472\n",
      "number of Iterations= 500\n",
      "Energy_Change_Rate = 1.0027997551687469\n",
      "time = 136.98797632355195\n",
      "dt = 0.29337574012549783\n",
      "dVolume/Volume_t = 0.017017360587766373 / 3.9773333333333336\n",
      "dArea/Area_t = -0.011634866775096953 / 12.56\n",
      "mechErrorNorm = 0.2235321141395998\n",
      "PE =  0.2693472470664171\n"
     ]
    },
    {
     "data": {
      "application/vnd.jupyter.widget-view+json": {
       "model_id": "6e302d32940745e5b25259e857946914",
       "version_major": 2,
       "version_minor": 0
      },
      "text/plain": [
       "Renderer(camera=PerspectiveCamera(children=(DirectionalLight(color='white', intensity=0.6, position=(-0.000127…"
      ]
     },
     "metadata": {},
     "output_type": "display_data"
    },
    {
     "name": "stdout",
     "output_type": "stream",
     "text": [
      "number of vertices= 472\n",
      "number of Iterations= 600\n",
      "Energy_Change_Rate = 0.7434655875535929\n",
      "time = 163.05987924511413\n",
      "dt = 0.2992452847828044\n",
      "dVolume/Volume_t = 0.028948706368457255 / 3.9773333333333336\n",
      "dArea/Area_t = -0.020683143594178333 / 12.56\n",
      "mechErrorNorm = 0.20261816056034265\n",
      "PE =  0.26773821647323753\n"
     ]
    },
    {
     "data": {
      "application/vnd.jupyter.widget-view+json": {
       "model_id": "73d632b72be249e1a485733aaf5ebc0a",
       "version_major": 2,
       "version_minor": 0
      },
      "text/plain": [
       "Renderer(camera=PerspectiveCamera(children=(DirectionalLight(color='white', intensity=0.6, position=(-0.000197…"
      ]
     },
     "metadata": {},
     "output_type": "display_data"
    },
    {
     "name": "stdout",
     "output_type": "stream",
     "text": [
      "number of vertices= 472\n",
      "number of Iterations= 700\n",
      "Energy_Change_Rate = 0.6009715812611336\n",
      "time = 188.9589660985398\n",
      "dt = 0.305466934628747\n",
      "dVolume/Volume_t = 0.03927498952161157 / 3.9773333333333336\n",
      "dArea/Area_t = -0.028576649673162535 / 12.56\n",
      "mechErrorNorm = 0.18510930397540212\n",
      "PE =  0.2664192596999529\n"
     ]
    },
    {
     "data": {
      "application/vnd.jupyter.widget-view+json": {
       "model_id": "353916f446e54fc9b6e5b912622912d4",
       "version_major": 2,
       "version_minor": 0
      },
      "text/plain": [
       "Renderer(camera=PerspectiveCamera(children=(DirectionalLight(color='white', intensity=0.6, position=(-0.000258…"
      ]
     },
     "metadata": {},
     "output_type": "display_data"
    },
    {
     "name": "stdout",
     "output_type": "stream",
     "text": [
      "number of vertices= 472\n",
      "number of Iterations= 800\n",
      "Energy_Change_Rate = 0.49506810234743476\n",
      "time = 214.765601509641\n",
      "dt = 0.3121214278467235\n",
      "dVolume/Volume_t = 0.04830217485994437 / 3.9773333333333336\n",
      "dArea/Area_t = -0.035528485928434606 / 12.56\n",
      "mechErrorNorm = 0.17015790953286847\n",
      "PE =  0.26532104605970375\n"
     ]
    },
    {
     "data": {
      "application/vnd.jupyter.widget-view+json": {
       "model_id": "efdd74d4b064402cb638c3b0bc364c43",
       "version_major": 2,
       "version_minor": 0
      },
      "text/plain": [
       "Renderer(camera=PerspectiveCamera(children=(DirectionalLight(color='white', intensity=0.6, position=(-0.000314…"
      ]
     },
     "metadata": {},
     "output_type": "display_data"
    },
    {
     "name": "stdout",
     "output_type": "stream",
     "text": [
      "number of vertices= 472\n",
      "number of Iterations= 900\n",
      "Energy_Change_Rate = 0.4139187812496492\n",
      "time = 240.54850856093444\n",
      "dt = 0.3192800996929406\n",
      "dVolume/Volume_t = 0.05626251838296392 / 3.9773333333333336\n",
      "dArea/Area_t = -0.04170086125134098 / 12.56\n",
      "mechErrorNorm = 0.1574854277296395\n",
      "PE =  0.2643945642216426\n"
     ]
    },
    {
     "data": {
      "application/vnd.jupyter.widget-view+json": {
       "model_id": "ebfdbbcb2c754071aef96ab4e5f923cc",
       "version_major": 2,
       "version_minor": 0
      },
      "text/plain": [
       "Renderer(camera=PerspectiveCamera(children=(DirectionalLight(color='white', intensity=0.6, position=(-0.000364…"
      ]
     },
     "metadata": {},
     "output_type": "display_data"
    },
    {
     "name": "stdout",
     "output_type": "stream",
     "text": [
      "number of vertices= 472\n",
      "number of Iterations= 1000\n",
      "Energy_Change_Rate = 0.3504163713761086\n",
      "time = 266.3697417365192\n",
      "dt = 0.3269905565484528\n",
      "dVolume/Volume_t = 0.06333619080215547 / 3.9773333333333336\n",
      "dArea/Area_t = -0.04722025630021953 / 12.56\n",
      "mechErrorNorm = 0.1464691042139673\n",
      "PE =  0.26360404405546783\n"
     ]
    },
    {
     "data": {
      "application/vnd.jupyter.widget-view+json": {
       "model_id": "b04e4e48fb834da98c3a859ac52bc8c3",
       "version_major": 2,
       "version_minor": 0
      },
      "text/plain": [
       "Renderer(camera=PerspectiveCamera(children=(DirectionalLight(color='white', intensity=0.6, position=(-0.000411…"
      ]
     },
     "metadata": {},
     "output_type": "display_data"
    },
    {
     "name": "stdout",
     "output_type": "stream",
     "text": [
      "number of vertices= 472\n",
      "number of Iterations= 1100\n",
      "Energy_Change_Rate = 0.29988924070088063\n",
      "time = 292.2869478821393\n",
      "dt = 0.33528111686127265\n",
      "dVolume/Volume_t = 0.06966504664583129 / 3.9773333333333336\n",
      "dArea/Area_t = -0.052186927203331734 / 12.56\n",
      "mechErrorNorm = 0.1368014890960802\n",
      "PE =  0.2629227823857627\n"
     ]
    },
    {
     "data": {
      "application/vnd.jupyter.widget-view+json": {
       "model_id": "7f2f13b68ab4428f9577d73fa6def4e5",
       "version_major": 2,
       "version_minor": 0
      },
      "text/plain": [
       "Renderer(camera=PerspectiveCamera(children=(DirectionalLight(color='white', intensity=0.6, position=(-0.000454…"
      ]
     },
     "metadata": {},
     "output_type": "display_data"
    },
    {
     "name": "stdout",
     "output_type": "stream",
     "text": [
      "number of vertices= 472\n",
      "number of Iterations= 1200\n",
      "Energy_Change_Rate = 0.25911093117277295\n"
     ]
    }
   ],
   "source": [
    "%%time\n",
    "# v_init, f = igl.read_triangle_mesh(os.path.join(root_folder, \"Oblate_0.7.off\"))### Can be changed for Prolate\n",
    "l = igl.edge_lengths(v_init,f)\n",
    "l0 = igl.avg_edge_length(v_init,f)\n",
    "dt_size2_ratio = charTimeStep / np.amin(l)**2\n",
    "number_of_vertices=len(v_init)\n",
    "###Forward Euler Main \n",
    "\n",
    "#Setup\n",
    "\n",
    "v=v_init\n",
    "vel=np.zeros((len(v_init),3))\n",
    "time=0\n",
    "#FD=fun_FD2(v_init,f,vel)\n",
    "\n",
    "#Volume_old=cal_volume(v,f)\n",
    "#Area_t=cal_Area(v,f)\n",
    "grad_Area=areaGrad(v_init,f)\n",
    "grad_Volume=volGrad(v_init,f)\n",
    "Area_new=cal_areatot(v_init,f)\n",
    "print('initial area = ',Area_new)\n",
    "Volume_new=cal_volumetot(v_init,f)\n",
    "print('initial volume = ', Volume_new)\n",
    "\n",
    "FB,EB=Force_Bending(v_init,f)\n",
    "FA=Force_Area(Area_t,grad_Area,Area_new)\n",
    "FV=Force_Volume(Volume_t,grad_Volume,Volume_new)\n",
    "#FR=0*Force_Random(v,f,charTimeStep)\n",
    "TF=Total_Force(FB,FA,FV)\n",
    "initialMaxForce = np.amax(np.linalg.norm(TF, axis=1))\n",
    "\n",
    "### Calculation of Energy\n",
    "timeout=[]\n",
    "totalEnergy=[]\n",
    "EnergyArea=[]\n",
    "EnergyVolume=[]\n",
    "EnergyBending=[]\n",
    "KineticEnergy=[]\n",
    "\n",
    "for i in range(iterations):\n",
    "    #Integration\n",
    "    \n",
    "    vel = TF/gamma\n",
    "    \n",
    "    ## adjust time step if adopt adaptive time step based on mesh size\n",
    "    if (isAdaptiveStep):\n",
    "        charTimeStep = updateTimeStep(v,f,l,TF,initialMaxForce,\n",
    "                                                dt_size2_ratio,charTimeStep);\n",
    "        \n",
    "    dt = charTimeStep\n",
    "    \n",
    "    v += vel*dt\n",
    "    time += dt\n",
    "    \n",
    "    l = igl.edge_lengths(v,f)\n",
    "    v=ver_new(v,f)\n",
    "    if (not igl.is_intrinsic_delaunay(l,f).all()):\n",
    "        #v,f,_=pymesh.split_long_edges_raw(v,f,l0*4/3)\n",
    "        print('time =',time,': not all edges are delaunay, call intrinsic delaunay triangulation')\n",
    "        l, f= igl.intrinsic_delaunay_triangulation(l,f)\n",
    "    \n",
    "    v,f,_=pymesh.split_long_edges_raw(v,f,l0*4/3)\n",
    "    v,f,__=pymesh.collapse_short_edges_raw(v,f, abs_threshold=0.0, rel_threshold=3/5, preserve_feature=True)\n",
    "\n",
    "        #print('new vertice numbers=',len(v))\n",
    "   \n",
    "    #Force calculation\n",
    "    Area_current=cal_areatot(v,f)\n",
    "    grad_Area_new=areaGrad(v,f)\n",
    "    Volume_current=cal_volumetot(v,f)\n",
    "    grad_Volume_new=volGrad(v,f)\n",
    "\n",
    "    ###Update forces here\n",
    " \n",
    "    FB,EB=Force_Bending(v,f) ##bending_force\n",
    "    FA=Force_Area(Area_t,grad_Area_new,Area_current)\n",
    "    FV=Force_Volume(Volume_t,grad_Volume_new,Volume_current)\n",
    "\n",
    "    TF=Total_Force(FB,FA,FV)\n",
    "\n",
    "    \n",
    "    mechErrorNorm = np.sum(np.linalg.norm(TF, axis=1))\n",
    "    if (mechErrorNorm < tolerance) or (mechErrorNorm > maxError):\n",
    "        print('time =',time)\n",
    "        print('dt =',dt)\n",
    "        print('dVolume/Volume_t =',Volume_current-Volume_t,'/',Volume_t)\n",
    "        print('dArea/Area_t =',Area_current-Area_t,'/',Area_t)\n",
    "        print('mechErrorNorm =',mechErrorNorm)\n",
    "        timeout.append(i+1)\n",
    "        EnergyArea.append(Energy_area(v,f,Area_t))\n",
    "        EnergyVolume.append(Energy_volume(v,f,Volume_t))\n",
    "        EnergyBending.append(EB)\n",
    "\n",
    "        PotentialEnergy = np.array(EnergyArea) + np.array(EnergyVolume) + np.array(EnergyBending)\n",
    "        print('PE = ',PotentialEnergy[-1])\n",
    "        mp.jupyter()\n",
    "        p=mp.plot(v,f,shading={\"wireframe\":True, \"wire_color\": \"black\", #Wireframerendering\n",
    "                               \"width\": 300, \"height\": 300},return_plot=True)\n",
    "        name = 'test'+str(i)\n",
    "        break\n",
    "    if i%outfrequency==0:\n",
    "        print('time =',time)\n",
    "        print('dt =',dt)\n",
    "        print('dVolume/Volume_t =',Volume_current-Volume_t,'/',Volume_t)\n",
    "        print('dArea/Area_t =',Area_current-Area_t,'/',Area_t)\n",
    "        print('mechErrorNorm =',mechErrorNorm)\n",
    "        timeout.append(time)\n",
    "        EnergyArea.append(Energy_area(v,f,Area_t))\n",
    "        EnergyVolume.append(Energy_volume(v,f,Volume_t))\n",
    "        EnergyBending.append(EB)\n",
    "        PotentialEnergy=np.array(EnergyArea) + np.array(EnergyVolume) + np.array(EnergyBending)\n",
    "        \n",
    "        print('PE = ',PotentialEnergy[-1])\n",
    "\n",
    "        mp.jupyter()\n",
    "        p=mp.plot(v,f,shading={\"wireframe\":True, \"wire_color\": \"black\", #Wireframerendering\n",
    "                               \"width\": 300, \"height\": 300},return_plot=True)\n",
    "        #p.add_lines(v,v+1*FB, shading={\"line_color\": \"red\"})\n",
    "        name = 'test'+str(i)\n",
    "        print('number of vertices=',len(v))\n",
    "        print('number of Iterations=',i)\n",
    "    if i>=100 and i%outfrequency==0:\n",
    "        EnergyChangeRate=(abs(PotentialEnergy[-1]-PotentialEnergy[-2])/(PotentialEnergy[-1]))*100\n",
    "        print('Energy_Change_Rate =', EnergyChangeRate)\n",
    "    if i>=100 and EnergyChangeRate<tolerance:\n",
    "        print('Change of Energy is very small \\n Reached Equilibrioum Shape')\n",
    "        break\n"
   ]
  },
  {
   "cell_type": "code",
   "execution_count": null,
   "id": "c914d114",
   "metadata": {},
   "outputs": [],
   "source": [
    "time=np.linspace(0,iterations,len(EnergyBending))\n",
    "# plt.plot(time,totalEnergy,'o-', color='red', label='total Energy')\n",
    "plt.plot(time,EnergyBending,'o-', label='Bending Energy')\n",
    "plt.plot(time,EnergyVolume,'v-', label='Volume Energy')\n",
    "plt.plot(time,EnergyArea,'o-', label='Area Energy')\n",
    "plt.plot(time,PotentialEnergy,'x-',label='Potential Energy')\n",
    "# plt.plot(time,KineticEnergy,'v-', label='Kinetic Energy',color='k')\n",
    "#plt.axis([0, 800, 0, 2])\n",
    "plt.legend(loc='right')\n",
    "plt.title('timesteps vs Energy')\n",
    "plt.show()"
   ]
  },
  {
   "cell_type": "raw",
   "id": "48d08798",
   "metadata": {
    "scrolled": true
   },
   "source": [
    "x=[0.67,0.70,0.85,0.95]\n",
    "y=[0.538019459/(8*3.14*0.01),0.49591257/(8*3.14*0.01) ,0.3386189912583/(8*3.14*0.01),0.27790931351/(8*3.14*0.01)]\n",
    "\n",
    "\n",
    "X=[0.9595367804007768,0.9258040599051776,0.871844218733256,0.8371499569913026,0.8014918370361359,0.7272793885524458,0.688720426090205,0.6289635338378528,0.5875083628022554]\n",
    "Y=[1.0736093130482884,1.1556386284714684,1.2738734472701787,1.3559056589019316, 1.4403504122752906,1.6212968353128918, 1.7226177960431999, 1.8697857384897432,1.983163615510935]\n",
    "# plt.plot(X, Y)\n",
    "# plt.show()\n",
    "#plt.hold(True)\n",
    "plt.axis([0.4, 1, 1, 2.5])\n",
    "plt.plot(x,y,'g^',X,Y,'r--')\n",
    "plt.xlabel('reduced volume (v)')\n",
    "plt.legend(['Euler_simulation', 'Theory(Seifert et al.)'])\n",
    "\n",
    "plt.ylabel('Bending Energy (BE)/(8 pi Kb)')\n",
    "\n",
    "plt.show()"
   ]
  },
  {
   "cell_type": "code",
   "execution_count": null,
   "id": "859df51d",
   "metadata": {},
   "outputs": [],
   "source": [
    "PotentialEnergy"
   ]
  },
  {
   "cell_type": "code",
   "execution_count": null,
   "id": "75bc2af4",
   "metadata": {
    "scrolled": true
   },
   "outputs": [],
   "source": [
    "EnergyBending"
   ]
  },
  {
   "cell_type": "code",
   "execution_count": null,
   "id": "d25c8ea2",
   "metadata": {},
   "outputs": [],
   "source": []
  }
 ],
 "metadata": {
  "kernelspec": {
   "display_name": "Python 3 (ipykernel)",
   "language": "python",
   "name": "python3"
  },
  "language_info": {
   "codemirror_mode": {
    "name": "ipython",
    "version": 3
   },
   "file_extension": ".py",
   "mimetype": "text/x-python",
   "name": "python",
   "nbconvert_exporter": "python",
   "pygments_lexer": "ipython3",
   "version": "3.7.11"
  }
 },
 "nbformat": 4,
 "nbformat_minor": 5
}
