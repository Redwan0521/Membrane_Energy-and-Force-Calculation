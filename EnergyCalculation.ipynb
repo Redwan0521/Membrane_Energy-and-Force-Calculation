{
 "cells": [
  {
   "cell_type": "code",
   "execution_count": 14,
   "id": "4a603adf",
   "metadata": {},
   "outputs": [],
   "source": [
    "import igl\n",
    "import scipy as sp\n",
    "import numpy as np\n",
    "from meshplot import plot, subplot, interact\n",
    "import pandas as pd\n",
    "import matplotlib as mpl\n",
    "import matplotlib.pyplot as plt\n",
    "from matplotlib import cm\n",
    "import os\n",
    "root_folder = os.getcwd()"
   ]
  },
  {
   "cell_type": "code",
   "execution_count": 25,
   "id": "6e909157",
   "metadata": {},
   "outputs": [
    {
     "name": "stdout",
     "output_type": "stream",
     "text": [
      "Vertices:  40962\n",
      "Faces:  81920\n"
     ]
    }
   ],
   "source": [
    "## Load a mesh in OFF format\n",
    "v, f = igl.read_triangle_mesh(os.path.join(root_folder, \"BigSphere.off\"))\n",
    "\n",
    "## Print the vertices and faces matrices \n",
    "print(\"Vertices: \", len(v))\n",
    "print(\"Faces: \", len(f))\n",
    "\n",
    "df = pd.DataFrame(v)\n",
    "df.describe()\n",
    "dbl_area = igl.doublearea(v, f)\n",
    "# Mesh in (v, f)\n",
    "#area=igl.vector_area_matrix(f)\n",
    "#area\n",
    "#b=igl.MASSMATRIX_TYPE_VORONOI\n",
    "#b\n",
    "#area\n"
   ]
  },
  {
   "cell_type": "code",
   "execution_count": 16,
   "id": "9790bcd8",
   "metadata": {},
   "outputs": [],
   "source": [
    "## Save the mesh in OBJ format\n",
    "##ret = igl.write_triangle_mesh(os.path.join(root_folder, \"Triangulated Mesh\", \"sphere_coarse.obj\"), v, f)\n"
   ]
  },
  {
   "cell_type": "code",
   "execution_count": 31,
   "id": "99dc19f7",
   "metadata": {},
   "outputs": [],
   "source": [
    "v, f = igl.read_triangle_mesh(os.path.join(root_folder, \"BigSphere.off\"))\n",
    "####Gaussian Curvature Calculation___ K= k1*k2\n",
    "k = igl.gaussian_curvature(v, f)\n",
    "#plot(v, f, k)\n"
   ]
  },
  {
   "cell_type": "code",
   "execution_count": 18,
   "id": "8891ea32",
   "metadata": {},
   "outputs": [
    {
     "data": {
      "text/plain": [
       "(0.02472359012834302, 0.011075246500375169)"
      ]
     },
     "execution_count": 18,
     "metadata": {},
     "output_type": "execute_result"
    }
   ],
   "source": [
    "max(k),min(k)"
   ]
  },
  {
   "cell_type": "code",
   "execution_count": 44,
   "id": "7c68684e",
   "metadata": {},
   "outputs": [
    {
     "data": {
      "text/plain": [
       "numpy.ndarray"
      ]
     },
     "execution_count": 44,
     "metadata": {},
     "output_type": "execute_result"
    }
   ],
   "source": [
    "m = igl.massmatrix(v, f, igl.MASSMATRIX_TYPE_VORONOI)\n",
    "minv = sp.sparse.diags(1 / m.diagonal())\n",
    "\n",
    "kn = minv.dot(k) \n",
    "#plot(v, f, kn)\n",
    "df3=pd.DataFrame(m)\n",
    "\n",
    "area_voronoi=m.diagonal()\n",
    "\n",
    "type(area_voronoi)\n",
    "#print(m)"
   ]
  },
  {
   "cell_type": "code",
   "execution_count": 33,
   "id": "a20c5a44",
   "metadata": {},
   "outputs": [
    {
     "data": {
      "text/plain": [
       "40962"
      ]
     },
     "execution_count": 33,
     "metadata": {},
     "output_type": "execute_result"
    }
   ],
   "source": [
    "###Calculation of Mean Curvature\n",
    "l = igl.cotmatrix(v, f) ###laplacian-operator\n",
    "m = igl.massmatrix(v, f, igl.MASSMATRIX_TYPE_VORONOI)\n",
    "\n",
    "minv = sp.sparse.diags(1 / m.diagonal())\n",
    "\n",
    "hn = -minv.dot(l.dot(v))\n",
    "h_mean = np.linalg.norm(hn, axis=1)\n",
    "#plot(v, f, h_mean)\n",
    "len(h_mean)"
   ]
  },
  {
   "cell_type": "code",
   "execution_count": 47,
   "id": "2f724f9f",
   "metadata": {},
   "outputs": [
    {
     "data": {
      "text/plain": [
       "(40962, 40962)"
      ]
     },
     "execution_count": 47,
     "metadata": {},
     "output_type": "execute_result"
    }
   ],
   "source": [
    "area=igl.massmatrix(v,f)\n",
    "a =igl.vector_area_matrix(f)\n",
    "test=l.dot(v)\n",
    "test.shape\n",
    "l.shape"
   ]
  },
  {
   "cell_type": "code",
   "execution_count": 35,
   "id": "d9c96dad",
   "metadata": {},
   "outputs": [
    {
     "data": {
      "text/html": [
       "<div>\n",
       "<style scoped>\n",
       "    .dataframe tbody tr th:only-of-type {\n",
       "        vertical-align: middle;\n",
       "    }\n",
       "\n",
       "    .dataframe tbody tr th {\n",
       "        vertical-align: top;\n",
       "    }\n",
       "\n",
       "    .dataframe thead th {\n",
       "        text-align: right;\n",
       "    }\n",
       "</style>\n",
       "<table border=\"1\" class=\"dataframe\">\n",
       "  <thead>\n",
       "    <tr style=\"text-align: right;\">\n",
       "      <th></th>\n",
       "      <th>0</th>\n",
       "    </tr>\n",
       "  </thead>\n",
       "  <tbody>\n",
       "    <tr>\n",
       "      <th>count</th>\n",
       "      <td>40962.000000</td>\n",
       "    </tr>\n",
       "    <tr>\n",
       "      <th>mean</th>\n",
       "      <td>2.000001</td>\n",
       "    </tr>\n",
       "    <tr>\n",
       "      <th>std</th>\n",
       "      <td>0.003622</td>\n",
       "    </tr>\n",
       "    <tr>\n",
       "      <th>min</th>\n",
       "      <td>1.988654</td>\n",
       "    </tr>\n",
       "    <tr>\n",
       "      <th>25%</th>\n",
       "      <td>1.997364</td>\n",
       "    </tr>\n",
       "    <tr>\n",
       "      <th>50%</th>\n",
       "      <td>2.000034</td>\n",
       "    </tr>\n",
       "    <tr>\n",
       "      <th>75%</th>\n",
       "      <td>2.002691</td>\n",
       "    </tr>\n",
       "    <tr>\n",
       "      <th>max</th>\n",
       "      <td>2.010149</td>\n",
       "    </tr>\n",
       "  </tbody>\n",
       "</table>\n",
       "</div>"
      ],
      "text/plain": [
       "                  0\n",
       "count  40962.000000\n",
       "mean       2.000001\n",
       "std        0.003622\n",
       "min        1.988654\n",
       "25%        1.997364\n",
       "50%        2.000034\n",
       "75%        2.002691\n",
       "max        2.010149"
      ]
     },
     "execution_count": 35,
     "metadata": {},
     "output_type": "execute_result"
    }
   ],
   "source": [
    "df2=pd.DataFrame(h_mean)\n",
    "df2.describe()\n",
    "\n",
    "#type(h_mean)"
   ]
  },
  {
   "cell_type": "code",
   "execution_count": 41,
   "id": "e9e0d143",
   "metadata": {},
   "outputs": [
    {
     "name": "stdout",
     "output_type": "stream",
     "text": [
      "Invalid color array given! Supported are numpy arrays. <class 'list'>\n"
     ]
    },
    {
     "data": {
      "application/vnd.jupyter.widget-view+json": {
       "model_id": "96f98baafca2407f9b85b2c1678343ba",
       "version_major": 2,
       "version_minor": 0
      },
      "text/plain": [
       "Renderer(camera=PerspectiveCamera(children=(DirectionalLight(color='white', intensity=0.6, position=(0.0, 0.0,…"
      ]
     },
     "metadata": {},
     "output_type": "display_data"
    },
    {
     "name": "stdout",
     "output_type": "stream",
     "text": [
      "25.130945122514365\n"
     ]
    }
   ],
   "source": [
    "### Calculation of bending energy... Guckenberger et al. 2016 .....Eqn(10)\n",
    "c=len(v)\n",
    "Kb=1 #bending_modulus\n",
    "Eb=[] # bending_energy\n",
    "for i in range (c):\n",
    "    Eb.append((Kb/2)*((h_mean[i])**2)*(area_voronoi[i]))\n",
    "    #print(Eb[i]) \n",
    "       \n",
    "plot(v, f, Eb, shading={\"colormap\": \"gist_gray\"})\n",
    "sum=np.sum(Eb)\n",
    "print(sum)"
   ]
  },
  {
   "cell_type": "code",
   "execution_count": 38,
   "id": "06cdb3be",
   "metadata": {},
   "outputs": [],
   "source": [
    "np.savetxt('Energy_txt_finer.txt', Eb, delimiter=',')"
   ]
  },
  {
   "cell_type": "code",
   "execution_count": 13,
   "id": "94154f91",
   "metadata": {},
   "outputs": [
    {
     "name": "stdout",
     "output_type": "stream",
     "text": [
      "Invalid color array given! Supported are numpy arrays. <class 'list'>\n"
     ]
    },
    {
     "data": {
      "application/vnd.jupyter.widget-view+json": {
       "model_id": "f298adcb653b4ce6878bd5d390d2c04b",
       "version_major": 2,
       "version_minor": 0
      },
      "text/plain": [
       "Renderer(camera=PerspectiveCamera(children=(DirectionalLight(color='white', intensity=0.6, position=(0.0, 0.0,…"
      ]
     },
     "metadata": {},
     "output_type": "display_data"
    }
   ],
   "source": [
    "plot(v, f, Eb)\n",
    "subplot = subplot(v, f, c=None, uv=None, shading={}, s=[1, 1, 0], data=None)"
   ]
  },
  {
   "cell_type": "code",
   "execution_count": 43,
   "id": "72d4774b",
   "metadata": {},
   "outputs": [
    {
     "data": {
      "text/html": [
       "<div>\n",
       "<style scoped>\n",
       "    .dataframe tbody tr th:only-of-type {\n",
       "        vertical-align: middle;\n",
       "    }\n",
       "\n",
       "    .dataframe tbody tr th {\n",
       "        vertical-align: top;\n",
       "    }\n",
       "\n",
       "    .dataframe thead th {\n",
       "        text-align: right;\n",
       "    }\n",
       "</style>\n",
       "<table border=\"1\" class=\"dataframe\">\n",
       "  <thead>\n",
       "    <tr style=\"text-align: right;\">\n",
       "      <th></th>\n",
       "      <th>0</th>\n",
       "    </tr>\n",
       "  </thead>\n",
       "  <tbody>\n",
       "    <tr>\n",
       "      <th>count</th>\n",
       "      <td>40962.000000</td>\n",
       "    </tr>\n",
       "    <tr>\n",
       "      <th>mean</th>\n",
       "      <td>0.000614</td>\n",
       "    </tr>\n",
       "    <tr>\n",
       "      <th>std</th>\n",
       "      <td>0.000051</td>\n",
       "    </tr>\n",
       "    <tr>\n",
       "      <th>min</th>\n",
       "      <td>0.000544</td>\n",
       "    </tr>\n",
       "    <tr>\n",
       "      <th>25%</th>\n",
       "      <td>0.000578</td>\n",
       "    </tr>\n",
       "    <tr>\n",
       "      <th>50%</th>\n",
       "      <td>0.000586</td>\n",
       "    </tr>\n",
       "    <tr>\n",
       "      <th>75%</th>\n",
       "      <td>0.000634</td>\n",
       "    </tr>\n",
       "    <tr>\n",
       "      <th>max</th>\n",
       "      <td>0.000745</td>\n",
       "    </tr>\n",
       "  </tbody>\n",
       "</table>\n",
       "</div>"
      ],
      "text/plain": [
       "                  0\n",
       "count  40962.000000\n",
       "mean       0.000614\n",
       "std        0.000051\n",
       "min        0.000544\n",
       "25%        0.000578\n",
       "50%        0.000586\n",
       "75%        0.000634\n",
       "max        0.000745"
      ]
     },
     "execution_count": 43,
     "metadata": {},
     "output_type": "execute_result"
    }
   ],
   "source": [
    "\n",
    "df5=pd.DataFrame(Eb)\n",
    "df5.describe()"
   ]
  },
  {
   "cell_type": "code",
   "execution_count": null,
   "id": "c762494a",
   "metadata": {},
   "outputs": [],
   "source": []
  }
 ],
 "metadata": {
  "kernelspec": {
   "display_name": "Python [conda env:root] *",
   "language": "python",
   "name": "conda-root-py"
  },
  "language_info": {
   "codemirror_mode": {
    "name": "ipython",
    "version": 3
   },
   "file_extension": ".py",
   "mimetype": "text/x-python",
   "name": "python",
   "nbconvert_exporter": "python",
   "pygments_lexer": "ipython3",
   "version": "3.7.11"
  }
 },
 "nbformat": 4,
 "nbformat_minor": 5
}
