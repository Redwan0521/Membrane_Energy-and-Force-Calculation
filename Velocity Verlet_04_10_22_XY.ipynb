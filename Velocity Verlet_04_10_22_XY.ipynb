{
 "cells": [
  {
   "cell_type": "code",
   "execution_count": 1,
   "id": "68272094",
   "metadata": {},
   "outputs": [],
   "source": [
    "import igl\n",
    "import math\n",
    "import scipy as sp\n",
    "import numpy as np\n",
    "import meshplot as mp\n",
    "import pandas as pd\n",
    "import matplotlib as mpl\n",
    "import matplotlib.pyplot as plt\n",
    "from matplotlib import cm\n",
    "from mpl_toolkits.mplot3d import Axes3D\n",
    "import os\n",
    "root_folder = os.getcwd()"
   ]
  },
  {
   "cell_type": "code",
   "execution_count": 2,
   "id": "a89a7bad",
   "metadata": {},
   "outputs": [],
   "source": [
    "v_init, f = igl.read_triangle_mesh(os.path.join(root_folder, \"oblate.off\"))\n",
    "### Parameters for running computation\n",
    "global Kb\n",
    "global Kv\n",
    "global Ka\n",
    "global gamma\n",
    "global KbT\n",
    "global delT\n",
    "global Kal\n",
    "Kal=1\n",
    "gamma=0.01\n",
    "Ka=20\n",
    "Kv=10\n",
    "Kb=0.01\n",
    "H0=0\n",
    "Volume_t= 0.6* 3.14 * 4 / 3\n",
    "Area_t=4*3.14\n",
    "KbT=0.01\n",
    "dt=0.02\n",
    "sigma=np.sqrt(2*gamma*(KbT/dt))\n",
    "hdt=0.5*dt\n",
    "iterations = 9999\n",
    "outfrequency = 100\n",
    "tolerance = 0.0001\n",
    "maxError = 10000"
   ]
  },
  {
   "cell_type": "code",
   "execution_count": 3,
   "id": "0cdfcf21",
   "metadata": {},
   "outputs": [],
   "source": [
    "###Energy Calculations Area+Bending+Volume\n",
    "def Energy_area(v,f,Area_t):\n",
    "    Area_new=cal_areatot(v,f)\n",
    "    Energy_Area=Ka*((Area_new-Area_t)**2)/Area_t\n",
    "    return Energy_Area\n",
    "def Energy_volume(v,f,Volume_t):\n",
    "    volume_new=cal_volumetot(v,f)\n",
    "    Energy_volume=Kv*((volume_new-Volume_t)**2)/Volume_t\n",
    "    return Energy_volume\n",
    "def Energy_bending(v,f,H0):\n",
    "    npv = igl.per_vertex_normals(v, f)\n",
    "    m = igl.massmatrix(v, f, igl.MASSMATRIX_TYPE_VORONOI)\n",
    "    minv = sp.sparse.diags(1 / m.diagonal())\n",
    "    area_voronoi=m.diagonal()\n",
    "    l = igl.cotmatrix(v, f) ###laplacian-operator\n",
    "    Hn = -minv.dot(l.dot(v))/2\n",
    "    H_mean = np.linalg.norm(Hn, axis=1)\n",
    "    sign_H = np.sign(np.sum(Hn*npv, axis=1))\n",
    "    H_mean_signed = H_mean*sign_H\n",
    "    #print(max(h_mean))\n",
    "    #print(min(h_mean))\n",
    "    Eb = 2*Kb*((H_mean_signed-H0)**2)*area_voronoi\n",
    "    total_EB = np.sum(Eb)\n",
    "    return total_EB\n",
    "def Kinetic_energy(v,f,velocity):\n",
    "    m = igl.massmatrix(v, f, igl.MASSMATRIX_TYPE_VORONOI)\n",
    "    area_voronoi=m.diagonal()\n",
    "    KE = 0.5*np.linalg.norm(velocity, axis=1)**2*area_voronoi\n",
    "    total_KE = np.sum(KE)\n",
    "    return total_KE    "
   ]
  },
  {
   "cell_type": "code",
   "execution_count": 4,
   "id": "a4e2f5f3",
   "metadata": {},
   "outputs": [],
   "source": [
    "def adjacent_face(v,f):\n",
    "    df=pd.DataFrame(f,columns=list('ABC'))\n",
    "    row_numbers=[]\n",
    "    for i in range(len(v)):\n",
    "        row_numbers.append((df.index[(df['A'] == i)|(df['B'] == i) | (df['C'] == i)].tolist()))\n",
    "    return row_numbers\n",
    "\n",
    "def cal_areatot(v,f):\n",
    "    dbl_area = igl.doublearea(v, f)    \n",
    "    Areatot = np.sum(dbl_area)/2\n",
    "    return Areatot\n",
    "\n",
    "def cal_volumetot(v,f):\n",
    "    Volumetot = 0\n",
    "    for i in range(len(f)):\n",
    "        sum=0\n",
    "        p0x=v[f[i][0]][0]\n",
    "        p0y=v[f[i][0]][1]\n",
    "        p0z=v[f[i][0]][2]\n",
    "        p1x=v[f[i][1]][0]\n",
    "        p1y=v[f[i][1]][1]\n",
    "        p1z=v[f[i][1]][2]\n",
    "        p2x=v[f[i][2]][0]\n",
    "        p2y=v[f[i][2]][1]\n",
    "        p2z=v[f[i][2]][2]\n",
    "        v321= p2x*p1y*p0z\n",
    "        v231= p1x*p2y*p0z\n",
    "        v312= p2x*p0y*p1z\n",
    "        v132= p0x*p2y*p1z\n",
    "        v213= p1x*p0y*p2z\n",
    "        v123= p0x*p1y*p2z\n",
    "        sum=(-v321+ v231+ v312-v132-v213+ v123) / 6.0\n",
    "        #print(sum)\n",
    "        Volumetot+=sum\n",
    "    return Volumetot\n",
    "\n",
    "def areaGrad(v,f):\n",
    "    #n=igl.per_vertex_normals(v,f) ## not using per_vertex_normals for areaGrad direction\n",
    "    l = igl.cotmatrix(v, f) ###laplacian-operator\n",
    "    ag = -l.dot(v)\n",
    "    return ag\n",
    "\n",
    "def volGrad(v,f):\n",
    "    npv = igl.per_vertex_normals(v, f)\n",
    "    face_normal=igl.per_face_normals(v,f,npv)\n",
    "    dbl_area = igl.doublearea(v, f)\n",
    "    adjacent_vertices=igl.adjacency_list(f)\n",
    "    adjacent_faces=adjacent_face(v,f)\n",
    "    volumegrad=[]\n",
    "    for i in range(len(v)):\n",
    "        vol_ij=0\n",
    "        for j in range(len(adjacent_faces[i])):\n",
    "            k=adjacent_faces[i][j]\n",
    "            Area=dbl_area[k]/2\n",
    "            FaceNorm=face_normal[k]\n",
    "            vol_ij += (1/3)*Area*FaceNorm\n",
    "        volumegrad.append(vol_ij)\n",
    "    return np.array(volumegrad)"
   ]
  },
  {
   "cell_type": "markdown",
   "id": "e3ef11cb",
   "metadata": {},
   "source": [
    "adjacent_faces=adjacent_face(v,f)\n",
    "k=adjacent_faces[0][2]\n",
    "n = igl.per_vertex_normals(v, f)\n",
    "face_normal=igl.per_face_normals(v,f,n)\n",
    "face_normal[k]"
   ]
  },
  {
   "cell_type": "markdown",
   "id": "ad7effdf",
   "metadata": {},
   "source": [
    "def fun_volgrad(v,f):\n",
    "    n = igl.per_vertex_normals(v, f)\n",
    "    #vector=np.array([1,1,1])\n",
    "    #norm=vector/np.linalg.norm(vector)\n",
    "\n",
    "    face_normal=igl.per_face_normals(v,f,n)\n",
    "    dbl_area = igl.doublearea(v, f)/2\n",
    "    volume_grad=face_normal*dbl_area[:,None]\n",
    "    \n",
    "    return volume_grad/3"
   ]
  },
  {
   "cell_type": "code",
   "execution_count": 5,
   "id": "bf936341",
   "metadata": {},
   "outputs": [],
   "source": [
    "###Force from bending\n",
    "def fun_ForceDensity(v,f):\n",
    "    npv = igl.per_vertex_normals(v, f)\n",
    "    K = igl.gaussian_curvature(v, f)\n",
    "    m = igl.massmatrix(v, f, igl.MASSMATRIX_TYPE_VORONOI)\n",
    "    minv = sp.sparse.diags(1 / m.diagonal())\n",
    "    area_voronoi=m.diagonal()\n",
    "    l = igl.cotmatrix(v, f) ###laplacian-operator\n",
    "    m = igl.massmatrix(v, f, igl.MASSMATRIX_TYPE_VORONOI)\n",
    "    minv = sp.sparse.diags(1 / m.diagonal())\n",
    "    Hn = -minv.dot(l.dot(v))/2\n",
    "    H_mean = np.linalg.norm(Hn, axis=1)\n",
    "    sign_H = np.sign(np.sum(Hn*npv, axis=1))\n",
    "    #if (min(sign_H)<0):\n",
    "    #    print('H_mean changes sign')\n",
    "    H_mean_signed = H_mean*sign_H\n",
    "    Lap_H = minv.dot(l.dot(H_mean_signed-H0))\n",
    "    first_term = 2*(H_mean_signed-H0)*(H_mean_signed**2 + H0*H_mean_signed - K)\n",
    "    totalforce = first_term + Lap_H\n",
    "    #normal_v=n/np.linalg.norm(n)\n",
    "    ### Force Density and Nodal Force\n",
    "    #Force_density=[] # Force_Density\n",
    "    #Force_Nodal=[]\n",
    "\n",
    "    #for i in range (len(v)):\n",
    "    Force_density = 2*Kb*npv*totalforce[:,None]\n",
    "        #Force_Nodal.append(Force_density[i]*area_voronoi[i])\n",
    "        #print(Force_density[i]) \n",
    "        #print(Force_Nodal[i])\n",
    "        \n",
    "    return Force_density"
   ]
  },
  {
   "cell_type": "code",
   "execution_count": 6,
   "id": "a8b9d64f",
   "metadata": {},
   "outputs": [],
   "source": [
    "###Force from Area Constraints\n",
    "def Force_Area(Area_t,grad_Area,Area_new):\n",
    "    #grad_Area=volgrad(v,f)\n",
    "    #Area_old=cal_volume(v,f)\n",
    "    #Area_new=cal_Area(pos_new,f)\n",
    "    Force_Area=-2*(Ka)*((Area_new-Area_t)/Area_t)*grad_Area\n",
    "    return Force_Area"
   ]
  },
  {
   "cell_type": "code",
   "execution_count": 7,
   "id": "ed3ba0f0",
   "metadata": {},
   "outputs": [],
   "source": [
    "###Force from Volume Area Constraints\n",
    "def Force_Volume(Volume_t,grad_Volume,volume_new):\n",
    "    #grad_Volume=volgrad(v,f)\n",
    "    #Volume_old=cal_volume(v,f)\n",
    "    #Volume_new=cal_volume(pos_new,f)\n",
    "\n",
    "    Force_Volume=-2*(Kv)*((volume_new-Volume_t)/Volume_t)*grad_Volume ## Volume constraint is not the same as in mem3dg\n",
    "    return Force_Volume"
   ]
  },
  {
   "cell_type": "code",
   "execution_count": 8,
   "id": "5684132d",
   "metadata": {},
   "outputs": [],
   "source": [
    "###Dissipative Force\n",
    "def fun_FD(v,f,velocity):\n",
    "    adjacent_vertices=igl.adjacency_list(f)\n",
    "    FDij_nodes=[]\n",
    "    for i in range(len(v)):\n",
    "        FD_ij=0\n",
    "        for j in range(len(adjacent_vertices[i])):\n",
    "            k=adjacent_vertices[i][j]\n",
    "            vij=velocity[i]-velocity[k]\n",
    "            rij=v[i]-v[k]\n",
    "            #rij_distance=math.sqrt((rij[0][0]**2)+(rij[0][1]**2)+(rij[0][2]**2))\n",
    "            rij_norm = rij/np.linalg.norm(rij)\n",
    "            FD_ij=FD_ij+(-((gamma*np.dot(vij, rij)*rij_norm)))\n",
    "        FDij_nodes.append(FD_ij) \n",
    "    return FDij_nodes"
   ]
  },
  {
   "cell_type": "code",
   "execution_count": 9,
   "id": "f2f9eb7b",
   "metadata": {},
   "outputs": [],
   "source": [
    "###Dissipative Force\n",
    "def fun_FD2(v,f,velocity):\n",
    "    m = igl.massmatrix(v, f, igl.MASSMATRIX_TYPE_VORONOI)\n",
    "    area_voronoi=m.diagonal()\n",
    "    FD_nodes = -gamma*velocity/area_voronoi[:,None]\n",
    "    return FD_nodes"
   ]
  },
  {
   "cell_type": "code",
   "execution_count": 10,
   "id": "1e02bc48",
   "metadata": {},
   "outputs": [],
   "source": [
    "####Random Forces\n",
    "def fun_FR(v,f): \n",
    "    edges, fe, ef = igl.edge_topology(v, f)\n",
    "    Fr=np.zeros((len(v),3))\n",
    "    for e in range(len(edges)): \n",
    "        rij=v[edges[e][0]]-v[edges[e][1]]\n",
    "        rij_norm = rij/np.linalg.norm(rij)\n",
    "        gaussian=np.random.normal(0, 1, 1)\n",
    "        Force=gaussian*rij_norm*sigma\n",
    "        Fr[edges[e][0]]+=Force\n",
    "        Fr[edges[e][1]]-=Force  \n",
    "    return Fr"
   ]
  },
  {
   "cell_type": "code",
   "execution_count": 11,
   "id": "61bd64aa",
   "metadata": {},
   "outputs": [],
   "source": [
    "####Random Forces\n",
    "def fun_FR2(v,f): \n",
    "    gaussian = np.random.normal(0, 1, 3*len(v))\n",
    "    FR = sigma*gaussian.reshape(len(v),3)\n",
    "    return FR"
   ]
  },
  {
   "cell_type": "code",
   "execution_count": 12,
   "id": "11f2d00e",
   "metadata": {},
   "outputs": [],
   "source": [
    "def Total_Force(FB,FA,FV,FD):\n",
    "    Total_force=(FB+FA+FV+FD)\n",
    "    return Total_force"
   ]
  },
  {
   "cell_type": "code",
   "execution_count": 13,
   "id": "b96008ac",
   "metadata": {},
   "outputs": [
    {
     "name": "stdout",
     "output_type": "stream",
     "text": [
      "initial area =  12.478260465930916\n",
      "initial volume =  4.024773179610609\n"
     ]
    }
   ],
   "source": [
    "#Volume_old=cal_volume(v,f)\n",
    "#Area_t=cal_Area(v,f)\n",
    "grad_Area=areaGrad(v_init,f)\n",
    "grad_Volume=volGrad(v_init,f)\n",
    "Area_new=cal_areatot(v_init,f)\n",
    "print('initial area = ',Area_new)\n",
    "Volume_new=cal_volumetot(v_init,f)\n",
    "print('initial volume = ', Volume_new)"
   ]
  },
  {
   "cell_type": "markdown",
   "id": "d51adc5c",
   "metadata": {},
   "source": [
    "grad_A=areaGrad(v,f)\n",
    "\n",
    "grad_Volume=volgrad(v,f)\n",
    "grad_Volume=np.array(grad_Volume)\n",
    "grad_Volume.shape"
   ]
  },
  {
   "cell_type": "code",
   "execution_count": null,
   "id": "72bee856",
   "metadata": {
    "scrolled": false
   },
   "outputs": [
    {
     "name": "stdout",
     "output_type": "stream",
     "text": [
      "timestep = 1\n",
      "dVolume/Volume_t = 1.5120876734395474 / 2.512\n",
      "dArea/Area_t = -0.08312748230450495 / 12.56\n",
      "mechErrorNorm = 122.18253280782031\n",
      "KE =  0.00019042680407665223\n",
      "PE =  9.376563568872728\n"
     ]
    },
    {
     "data": {
      "application/vnd.jupyter.widget-view+json": {
       "model_id": "bfe0042efea3413999eaee7c25ae3d4a",
       "version_major": 2,
       "version_minor": 0
      },
      "text/plain": [
       "Renderer(camera=PerspectiveCamera(children=(DirectionalLight(color='white', intensity=0.6, position=(0.0013659…"
      ]
     },
     "metadata": {},
     "output_type": "display_data"
    },
    {
     "name": "stdout",
     "output_type": "stream",
     "text": [
      "timestep = 101\n",
      "dVolume/Volume_t = 1.1877907093364892 / 2.512\n",
      "dArea/Area_t = -0.4385712486863209 / 12.56\n",
      "mechErrorNorm = 60.88733874726914\n",
      "KE =  0.02760302767012411\n",
      "PE =  6.206172822264215\n"
     ]
    },
    {
     "data": {
      "application/vnd.jupyter.widget-view+json": {
       "model_id": "fa538af93f084fa6afcaf91c7a30934c",
       "version_major": 2,
       "version_minor": 0
      },
      "text/plain": [
       "Renderer(camera=PerspectiveCamera(children=(DirectionalLight(color='white', intensity=0.6, position=(0.0016904…"
      ]
     },
     "metadata": {},
     "output_type": "display_data"
    },
    {
     "name": "stdout",
     "output_type": "stream",
     "text": [
      "timestep = 201\n",
      "dVolume/Volume_t = 0.8223100598605178 / 2.512\n",
      "dArea/Area_t = -0.2657914591126165 / 12.56\n",
      "mechErrorNorm = 23.29537993222267\n",
      "KE =  0.030610935946651895\n",
      "PE =  3.149867673855214\n"
     ]
    },
    {
     "data": {
      "application/vnd.jupyter.widget-view+json": {
       "model_id": "5dd4b19f99c640b9b2964885d1f2ea5a",
       "version_major": 2,
       "version_minor": 0
      },
      "text/plain": [
       "Renderer(camera=PerspectiveCamera(children=(DirectionalLight(color='white', intensity=0.6, position=(0.0015497…"
      ]
     },
     "metadata": {},
     "output_type": "display_data"
    }
   ],
   "source": [
    "#%%time\n",
    "v_init, f = igl.read_triangle_mesh(os.path.join(root_folder, \"oblate.off\"))### Can be cahnged for Prolate\n",
    "\n",
    "###Velocity Verlet Main \n",
    "\n",
    "#Setup\n",
    "v=v_init\n",
    "vel=np.zeros((len(v_init),3))\n",
    "FD=fun_FD2(v_init,f,vel)\n",
    "FB=fun_ForceDensity(v_init,f)\n",
    "FA=Force_Area(Area_t,grad_Area,Area_new)\n",
    "FV=Force_Volume(Volume_t,grad_Volume,Volume_new)\n",
    "#FR=fun_FR2(v,f)\n",
    "TF=Total_Force(FB,FA,FV,FD)\n",
    "### Calculation of Energy\n",
    "totalEnergy=[]\n",
    "EnergyArea=[]\n",
    "EnergyVolume=[]\n",
    "EnergyBending=[]\n",
    "KineticEnergy=[]\n",
    "#df=open('iter=0.01_100,gamma=100','w')\n",
    "#df.write('Total Energy of the System, dt=0.01\\n')\n",
    "#new_file = open('FD.txt','w')\n",
    "for i in range(iterations):\n",
    "    #Initial integration\n",
    "    vel += 0.5*TF*dt\n",
    "    v += vel*dt\n",
    "   \n",
    "    #Force calculation\n",
    "    Area_current=cal_areatot(v,f)\n",
    "    grad_Area_new=areaGrad(v,f)\n",
    "    Volume_current=cal_volumetot(v,f)\n",
    "    grad_Volume_new=volGrad(v,f)\n",
    "\n",
    "    ###Update forces here\n",
    "    #FR=fun_FR2(v,f)\n",
    "    FD=fun_FD2(v,f,vel)\n",
    "    FB=fun_ForceDensity(v,f) ##bending_force\n",
    "    FA=Force_Area(Area_t,grad_Area_new,Area_current)\n",
    "    #print(FAL)\n",
    "    FV=Force_Volume(Volume_t,grad_Volume_new,Volume_current)\n",
    "    TF=Total_Force(FB,FA,FV,FD)\n",
    "\n",
    "    #     if i>1300 and i%5==0:\n",
    "    #         ax1 = plt.figure().add_subplot(projection='3d')\n",
    "    #         ax1.quiver(v[:,0], v[:,1],v[:,2], FA[:,0], FA[:,1], FA[:,2], length=0.2, normalize=True,color='g')\n",
    "    #         filename = '/home/BU/dredwan1/Velocity Verlet/Gamma=100_Oblate/FA-images/'\n",
    "    #         plt.savefig(filename + 'TEST_' + str(i) + '.png',dpi=600)\n",
    "    #         ax2 = plt.figure().add_subplot(projection='3d')\n",
    "    #         ax2.quiver(v[:,0], v[:,1],v[:,2], FV[:,0], FV[:,1], FV[:,2], length=0.2, normalize=True,color='r')\n",
    "    #         filename = '/home/BU/dredwan1/Velocity Verlet/Gamma=100_Oblate/FV-images/'\n",
    "    #         plt.savefig(filename + 'TEST_' + str(i) + '.png',dpi=600)\n",
    "    #         ax3= plt.figure().add_subplot(projection='3d')\n",
    "    #         ax3.quiver(v[:,0], v[:,1],v[:,2], FB[:,0], FB[:,1], FB[:,2], length=0.2, normalize=True,color='b')\n",
    "    #         filename = '/home/BU/dredwan1/Velocity Verlet/Gamma=100_Oblate/FB-images/'\n",
    "    #         plt.savefig(filename + 'TEST_' + str(i) + '.png',dpi=600)\n",
    "    #         ax4= plt.figure().add_subplot(projection='3d')\n",
    "    #         ax4.quiver(v[:,0], v[:,1],v[:,2], FD[:,0], FD[:,1], FA[:,2], length=0.2, normalize=True,color='y')\n",
    "    #         filename = '/home/BU/dredwan1/Velocity Verlet/Gamma=100_Oblate/FD-images/'\n",
    "    #         plt.savefig(filename + 'TEST_' + str(i) + '.png',dpi=600)\n",
    "    \n",
    "    ###Final Step\n",
    "    vel +=0.5*TF*dt\n",
    "\n",
    "    mechErrorNorm = np.sum(np.linalg.norm(TF, axis=1))\n",
    "    if (mechErrorNorm < tolerance) or (mechErrorNorm > maxError):\n",
    "        break\n",
    "    if i%outfrequency==0:\n",
    "        print('timestep =',i+1)\n",
    "        print('dVolume/Volume_t =',Volume_current-Volume_t,'/',Volume_t)\n",
    "        print('dArea/Area_t =',Area_current-Area_t,'/',Area_t)\n",
    "        print('mechErrorNorm =',mechErrorNorm)\n",
    "        EnergyArea.append(Energy_area(v,f,Area_t))\n",
    "        EnergyVolume.append(Energy_volume(v,f,Volume_t))\n",
    "        EnergyBending.append(Energy_bending(v,f,H0))\n",
    "        KineticEnergy.append(Kinetic_energy(v,f,vel))\n",
    "        print('KE = ',KineticEnergy[-1])\n",
    "        PotentialEnergy = np.array(EnergyArea) + np.array(EnergyVolume) + np.array(EnergyBending)\n",
    "        print('PE = ',PotentialEnergy[-1])\n",
    "        totalEnergy = np.array(KineticEnergy) + PotentialEnergy\n",
    "        mp.jupyter()\n",
    "        p=mp.plot(v,f,shading={\"wireframe\":True, \"wire_color\": \"black\", #Wireframerendering\n",
    "                               \"width\": 300, \"height\": 300},return_plot=True)\n",
    "        name = 'test'+str(i)\n",
    "       \n",
    "        #print(vel_new)\n",
    "        #df.close()"
   ]
  },
  {
   "cell_type": "code",
   "execution_count": null,
   "id": "c914d114",
   "metadata": {},
   "outputs": [],
   "source": [
    "time=np.linspace(0,iterations+1,len(totalEnergy))\n",
    "plt.plot(time,totalEnergy,'o-', color='red', label='total Energy')\n",
    "plt.plot(time,EnergyBending,'o-', label='Bending Energy')\n",
    "plt.plot(time,EnergyVolume,'v-', label='Volume Energy')\n",
    "plt.plot(time,EnergyArea,'o-', label='Area Energy')\n",
    "plt.plot(time,PotentialEnergy,'v-',label='Potential Energy')\n",
    "plt.plot(time,KineticEnergy,'v-', label='Kinetic Energy',color='k')\n",
    "#plt.axis([0, 800, 0, 2])\n",
    "plt.legend(loc='upper left')\n",
    "plt.title('time vs Energy')\n",
    "plt.show()"
   ]
  },
  {
   "cell_type": "code",
   "execution_count": null,
   "id": "2ebfb4ee",
   "metadata": {},
   "outputs": [],
   "source": []
  }
 ],
 "metadata": {
  "kernelspec": {
   "display_name": "Python 3 (ipykernel)",
   "language": "python",
   "name": "python3"
  },
  "language_info": {
   "codemirror_mode": {
    "name": "ipython",
    "version": 3
   },
   "file_extension": ".py",
   "mimetype": "text/x-python",
   "name": "python",
   "nbconvert_exporter": "python",
   "pygments_lexer": "ipython3",
   "version": "3.9.7"
  }
 },
 "nbformat": 4,
 "nbformat_minor": 5
}
