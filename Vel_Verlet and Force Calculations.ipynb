{
 "cells": [
  {
   "cell_type": "code",
   "execution_count": 1,
   "id": "68272094",
   "metadata": {},
   "outputs": [],
   "source": [
    "import igl\n",
    "import math\n",
    "import scipy as sp\n",
    "import numpy as np\n",
    "from meshplot import plot, subplot, interact\n",
    "import pandas as pd\n",
    "import matplotlib as mpl\n",
    "import matplotlib.pyplot as plt\n",
    "from matplotlib import cm\n",
    "from mpl_toolkits.mplot3d import Axes3D\n",
    "import os\n",
    "root_folder = os.getcwd()"
   ]
  },
  {
   "cell_type": "code",
   "execution_count": 2,
   "id": "a89a7bad",
   "metadata": {},
   "outputs": [],
   "source": [
    "v, f = igl.read_triangle_mesh(os.path.join(root_folder, \"oblate.off\"))\n",
    "global Kb\n",
    "global Kv\n",
    "global Ka\n",
    "Ka=0.1\n",
    "Kv= 0.02\n",
    "Kb=8.22e-5 \n",
    "Kt= 0.7 * 3.14 * 4 / 3"
   ]
  },
  {
   "cell_type": "code",
   "execution_count": 3,
   "id": "3bca7747",
   "metadata": {},
   "outputs": [],
   "source": [
    "def adjacent_face(v,f):\n",
    "    df=pd.DataFrame(f,columns=list('ABC'))\n",
    "    row_numbers=[]\n",
    "    for i in range(len(v)):\n",
    "        row_numbers.append((df.index[(df['A'] == i)|(df['B'] == i) | (df['C'] == i)].tolist()))\n",
    "    return row_numbers"
   ]
  },
  {
   "cell_type": "markdown",
   "id": "33a1dbc1",
   "metadata": {},
   "source": [
    "adjacent_faces=adjacent_face(v,f)\n",
    "k=adjacent_faces[0][2]\n",
    "n = igl.per_vertex_normals(v, f)\n",
    "face_normal=igl.per_face_normals(v,f,n)\n",
    "face_normal[k]"
   ]
  },
  {
   "cell_type": "code",
   "execution_count": 4,
   "id": "baabf5bf",
   "metadata": {},
   "outputs": [],
   "source": [
    "def cal_Area(v,f):\n",
    "    dbl_area = igl.doublearea(v, f)    \n",
    "    Area=np.sum(dbl_area)/2\n",
    "    return Area"
   ]
  },
  {
   "cell_type": "code",
   "execution_count": 5,
   "id": "4efa968d",
   "metadata": {},
   "outputs": [],
   "source": [
    "def volgrad(v,f):\n",
    "    n = igl.per_vertex_normals(v, f)\n",
    "    face_normal=igl.per_face_normals(v,f,n)\n",
    "    dbl_area = igl.doublearea(v, f)/2\n",
    "    adjacent_vertices=igl.adjacency_list(f)\n",
    "    adjacent_faces=adjacent_face(v,f)\n",
    "    volumegrad=[]\n",
    "    for i in range(len(v)):\n",
    "        vol_ij=0\n",
    "        for j in range(len(adjacent_faces[i])):\n",
    "            k=adjacent_faces[i][j]\n",
    "            Area=dbl_area[k]\n",
    "            FaceNorm=face_normal[k]\n",
    "            vol_ij=vol_ij+((1/3)*Area*FaceNorm)\n",
    "        volumegrad.append(vol_ij)\n",
    "    volumegrad=np.array(volumegrad)\n",
    "    return volumegrad"
   ]
  },
  {
   "cell_type": "code",
   "execution_count": 6,
   "id": "bcb5e4fa",
   "metadata": {},
   "outputs": [],
   "source": [
    "def areaGrad(v,f):\n",
    "    n=igl.per_vertex_normals(v,f)\n",
    "    m = igl.massmatrix(v, f, igl.MASSMATRIX_TYPE_VORONOI)\n",
    "    minv = sp.sparse.diags(1 / m.diagonal())\n",
    "    l = igl.cotmatrix(v, f) ###laplacian-operator\n",
    "    m = igl.massmatrix(v, f, igl.MASSMATRIX_TYPE_VORONOI)\n",
    "    minv = sp.sparse.diags(1 / m.diagonal())\n",
    "    hn = -minv.dot(l.dot(v))\n",
    "    h_mean = np.linalg.norm(hn, axis=1)\n",
    "    areagrad=2*n*h_mean[:,None]\n",
    "    return areagrad"
   ]
  },
  {
   "cell_type": "code",
   "execution_count": 7,
   "id": "002958c8",
   "metadata": {},
   "outputs": [],
   "source": [
    "def cal_volume(v,f):\n",
    "    Volume=0\n",
    "    for i in range(len(f)):\n",
    "        sum=0\n",
    "        p0x=v[f[i][0]][0]\n",
    "        p0y=v[f[i][0]][1]\n",
    "        p0z=v[f[i][0]][2]\n",
    "        p1x=v[f[i][1]][0]\n",
    "        p1y=v[f[i][1]][1]\n",
    "        p1z=v[f[i][1]][2]\n",
    "        p2x=v[f[i][2]][0]\n",
    "        p2y=v[f[i][2]][1]\n",
    "        p2z=v[f[i][2]][2]\n",
    "        v321= p2x*p1y*p0z\n",
    "        v231= p1x*p2y*p0z\n",
    "        v312= p2x*p0y*p1z\n",
    "        v132= p0x*p2y*p1z\n",
    "        v213= p1x*p0y*p2z\n",
    "        v123= p0x*p1y*p2z\n",
    "        sum=(-v321+ v231+ v312-v132-v213+ v123) / 6.0\n",
    "        #print(sum)\n",
    "        Volume=Volume+sum\n",
    "    return Volume"
   ]
  },
  {
   "cell_type": "markdown",
   "id": "6f155fec",
   "metadata": {},
   "source": [
    "def fun_volgrad(v,f):\n",
    "    n = igl.per_vertex_normals(v, f)\n",
    "    #vector=np.array([1,1,1])\n",
    "    #norm=vector/np.linalg.norm(vector)\n",
    "\n",
    "    face_normal=igl.per_face_normals(v,f,n)\n",
    "    dbl_area = igl.doublearea(v, f)/2\n",
    "    volume_grad=face_normal*dbl_area[:,None]\n",
    "    \n",
    "    return volume_grad/3"
   ]
  },
  {
   "cell_type": "code",
   "execution_count": 8,
   "id": "bf936341",
   "metadata": {},
   "outputs": [],
   "source": [
    "def fun_ForceDensity(v,f):\n",
    "    k = igl.gaussian_curvature(v, f)\n",
    "    m = igl.massmatrix(v, f, igl.MASSMATRIX_TYPE_VORONOI)\n",
    "    minv = sp.sparse.diags(1 / m.diagonal())\n",
    "    kn = minv.dot(k) \n",
    "    area_voronoi=m.diagonal()\n",
    "    l = igl.cotmatrix(v, f) ###laplacian-operator\n",
    "    m = igl.massmatrix(v, f, igl.MASSMATRIX_TYPE_VORONOI)\n",
    "    minv = sp.sparse.diags(1 / m.diagonal())\n",
    "    hn = -minv.dot(l.dot(v))\n",
    "    h_mean = np.linalg.norm(hn, axis=1)\n",
    "    Lap_H=minv.dot(l.dot(h_mean/2))\n",
    "    first_product=h_mean*(((h_mean/2)**2)-k)\n",
    "    second_product=np.add(Lap_H,first_product)\n",
    "    n = igl.per_vertex_normals(v, f)\n",
    "    #normal_v=n/np.linalg.norm(n)\n",
    "    ### Force Density and Nodal Force\n",
    "    Kb=1\n",
    "    #Force_density=[] # Force_Density\n",
    "    Force_Nodal=[]\n",
    "\n",
    "    #for i in range (len(v)):\n",
    "    Force_density=2*Kb*(n*second_product[:,None])\n",
    "        #Force_Nodal.append(Force_density[i]*area_voronoi[i])\n",
    "        #print(Force_density[i]) \n",
    "        #print(Force_Nodal[i])\n",
    "        \n",
    "    return Force_density"
   ]
  },
  {
   "cell_type": "code",
   "execution_count": 9,
   "id": "062119dc",
   "metadata": {},
   "outputs": [],
   "source": [
    "def Force_Area(Area_old,grad_Area,Area_new):\n",
    "    #grad_Area=volgrad(v,f)\n",
    "    #Area_old=cal_volume(v,f)\n",
    "    #Area_new=cal_Area(pos_new,f)\n",
    "    Force_Area=-2*Ka*((Area_new-Area_old)/Area_old)*(grad_Area)\n",
    "    return Force_Area"
   ]
  },
  {
   "cell_type": "code",
   "execution_count": 10,
   "id": "cacb0480",
   "metadata": {},
   "outputs": [],
   "source": [
    "def Force_Volume(volume_old,grad_Volume,volume_new):\n",
    "    #grad_Volume=volgrad(v,f)\n",
    "    #Volume_old=cal_volume(v,f)\n",
    "    #Volume_new=cal_volume(pos_new,f)\n",
    "    Force_Volume=-2*(Kv+Kt)*((volume_new-volume_old)/volume_old)*grad_Volume\n",
    "    return Force_Volume"
   ]
  },
  {
   "cell_type": "code",
   "execution_count": 11,
   "id": "d01f4b02",
   "metadata": {},
   "outputs": [],
   "source": [
    "volume_old=cal_volume(v,f)\n",
    "Area_old=cal_Area(v,f)\n",
    "grad_Area=areaGrad(v,f)\n",
    "grad_Volume=volgrad(v,f)\n",
    "Area_new=cal_Area(v,f)\n",
    "volume_new=cal_volume(v,f)"
   ]
  },
  {
   "cell_type": "code",
   "execution_count": 12,
   "id": "916e2519",
   "metadata": {},
   "outputs": [],
   "source": [
    "FB=np.array(fun_ForceDensity(v,f))\n",
    "FA=Force_Area(Area_old,grad_Area,Area_new)\n",
    "FV=Force_Volume(volume_old,grad_Volume,volume_new)\n",
    "def Total_Force(FB,FA,FV):\n",
    "    Total_force=(FB+FA+FV)\n",
    "    return Total_force"
   ]
  },
  {
   "cell_type": "code",
   "execution_count": 13,
   "id": "39c72cd1",
   "metadata": {},
   "outputs": [],
   "source": [
    "TF=Total_Force(FB,FA,FV)"
   ]
  },
  {
   "cell_type": "markdown",
   "id": "c617d048",
   "metadata": {},
   "source": [
    "grad_A=areaGrad(v,f)\n",
    "\n",
    "grad_Volume=volgrad(v,f)\n",
    "grad_Volume=np.array(grad_Volume)\n",
    "grad_Volume.shape"
   ]
  },
  {
   "cell_type": "code",
   "execution_count": 14,
   "id": "d773b411",
   "metadata": {},
   "outputs": [],
   "source": [
    "###Velocity Verlet Main \n",
    "dt=0.01\n",
    "hdt=0.5*dt\n",
    "iterations =1000\n",
    "\n",
    "vel_init=np.zeros((len(v),3));\n",
    "vel_new_half=np.zeros((len(v),3))\n",
    "vel_new=np.zeros((len(v),3))\n",
    "pos_new=np.zeros((len(v),3))\n",
    "\n",
    "\n",
    "\n",
    "for i in range(iterations):\n",
    "    for j in range(len(v)):\n",
    "        vel_new_half[j]=np.add(vel_init[j],(0.5*TF[j]*dt))\n",
    "        \n",
    "        pos_new[j]=np.add(v[j],(vel_new_half[j]*dt))\n",
    "        #print(pos_new)\n",
    "    FB_new=np.array(fun_ForceDensity(pos_new,f)) ##bending_force\n",
    "    Area_new=cal_Area(pos_new,f)\n",
    "    grad_Area_new=volgrad(pos_new,f)\n",
    "    volume_new=cal_volume(pos_new,f)\n",
    "    grad_Volume_new=volgrad(pos_new,f)\n",
    "    FB_new=np.array(fun_ForceDensity(v,f))\n",
    "    FA_new=Force_Area(Area_old,grad_Area_new,Area_new)\n",
    "    FV_new=Force_Volume(volume_old,grad_Volume_new,volume_new)\n",
    "    TF_new=Total_Force(FB_new,FA_new,FV_new)\n",
    "    \n",
    "    \n",
    "    #print(totalpressure_new)\n",
    "    for k in range(len(v)):\n",
    "        vel_new[k]=np.add(vel_new_half[k],(0.5*TF_new[k]*dt))\n",
    "        #print(vel_new)\n",
    "        vel_init[k]=vel_new[k]\n",
    "        TF[k]=TF_new[k]"
   ]
  },
  {
   "cell_type": "code",
   "execution_count": 15,
   "id": "2bcc8c24",
   "metadata": {},
   "outputs": [
    {
     "data": {
      "text/plain": [
       "array([-0.0067988 , -0.01520982, -0.03942173])"
      ]
     },
     "execution_count": 15,
     "metadata": {},
     "output_type": "execute_result"
    }
   ],
   "source": [
    "pos_new[1]-v[1]"
   ]
  },
  {
   "cell_type": "code",
   "execution_count": 16,
   "id": "9f442f49",
   "metadata": {},
   "outputs": [
    {
     "data": {
      "application/vnd.jupyter.widget-view+json": {
       "model_id": "243ef21f292641eda7a4e6619dc8f787",
       "version_major": 2,
       "version_minor": 0
      },
      "text/plain": [
       "Renderer(camera=PerspectiveCamera(children=(DirectionalLight(color='white', intensity=0.6, position=(0.0084348…"
      ]
     },
     "metadata": {},
     "output_type": "display_data"
    },
    {
     "data": {
      "text/plain": [
       "<meshplot.Viewer.Viewer at 0x7f599b117390>"
      ]
     },
     "execution_count": 16,
     "metadata": {},
     "output_type": "execute_result"
    }
   ],
   "source": [
    "plot(pos_new,f, shading={\"wireframe\": True}, return_plot=True)"
   ]
  },
  {
   "cell_type": "code",
   "execution_count": null,
   "id": "b9d05d92",
   "metadata": {},
   "outputs": [],
   "source": []
  }
 ],
 "metadata": {
  "kernelspec": {
   "display_name": "Python [conda env:root] *",
   "language": "python",
   "name": "conda-root-py"
  },
  "language_info": {
   "codemirror_mode": {
    "name": "ipython",
    "version": 3
   },
   "file_extension": ".py",
   "mimetype": "text/x-python",
   "name": "python",
   "nbconvert_exporter": "python",
   "pygments_lexer": "ipython3",
   "version": "3.7.11"
  }
 },
 "nbformat": 4,
 "nbformat_minor": 5
}
