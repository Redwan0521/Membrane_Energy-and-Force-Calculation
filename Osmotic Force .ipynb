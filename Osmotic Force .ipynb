{
 "cells": [
  {
   "cell_type": "code",
   "execution_count": 1,
   "id": "7775ae4e",
   "metadata": {},
   "outputs": [],
   "source": [
    "import igl\n",
    "import math\n",
    "import scipy as sp\n",
    "import numpy as np\n",
    "from meshplot import plot, subplot, interact\n",
    "import pandas as pd\n",
    "import matplotlib as mpl\n",
    "import matplotlib.pyplot as plt\n",
    "from matplotlib import cm\n",
    "from mpl_toolkits.mplot3d import Axes3D\n",
    "import os\n",
    "root_folder = os.getcwd()"
   ]
  },
  {
   "cell_type": "code",
   "execution_count": 2,
   "id": "19ef6eac",
   "metadata": {},
   "outputs": [],
   "source": [
    "v, f = igl.read_triangle_mesh(os.path.join(root_folder, \"oblate.off\"))"
   ]
  },
  {
   "cell_type": "code",
   "execution_count": 3,
   "id": "829f3b53",
   "metadata": {},
   "outputs": [],
   "source": [
    "def fun_volgrad(v,f):\n",
    "    n = igl.per_vertex_normals(v, f)\n",
    "    #vector=np.array([1,1,1])\n",
    "    #norm=vector/np.linalg.norm(vector)\n",
    "\n",
    "    face_normal=igl.per_face_normals(v,f,n)\n",
    "    dbl_area = igl.doublearea(v, f)/2\n",
    "    volume_grad=face_normal*dbl_area[:,None]\n",
    "    \n",
    "    return volume_grad/3\n",
    "    "
   ]
  },
  {
   "cell_type": "code",
   "execution_count": 4,
   "id": "25da9b26",
   "metadata": {},
   "outputs": [],
   "source": [
    "def cal_volume(v,f):\n",
    "    Volume=0\n",
    "    for i in range(len(f)):\n",
    "        sum=0\n",
    "        p0x=v[f[i][0]][0]\n",
    "        p0y=v[f[i][0]][1]\n",
    "        p0z=v[f[i][0]][2]\n",
    "        p1x=v[f[i][1]][0]\n",
    "        p1y=v[f[i][1]][1]\n",
    "        p1z=v[f[i][1]][2]\n",
    "        p2x=v[f[i][2]][0]\n",
    "        p2y=v[f[i][2]][1]\n",
    "        p2z=v[f[i][2]][2]\n",
    "        v321= p2x*p1y*p0z\n",
    "        v231= p1x*p2y*p0z\n",
    "        v312= p2x*p0y*p1z\n",
    "        v132= p0x*p2y*p1z\n",
    "        v213= p1x*p0y*p2z\n",
    "        v123= p0x*p1y*p2z\n",
    "        sum=(-v321+ v231+ v312-v132-v213+ v123) / 6.0\n",
    "        #print(sum)\n",
    "        Volume=Volume+sum\n",
    "\n",
    "    return Volume"
   ]
  },
  {
   "cell_type": "code",
   "execution_count": 9,
   "id": "b89b6954",
   "metadata": {},
   "outputs": [],
   "source": [
    "vol=cal_volume(v,f)\n",
    "c=fun_volgrad(v,f)\n",
    "#Kosm=1\n",
    "#Osmotic_Force= -Kosm*c"
   ]
  },
  {
   "cell_type": "code",
   "execution_count": 11,
   "id": "2dd150f4",
   "metadata": {},
   "outputs": [
    {
     "data": {
      "text/plain": [
       "(892, 3)"
      ]
     },
     "execution_count": 11,
     "metadata": {},
     "output_type": "execute_result"
    }
   ],
   "source": [
    "c.shape"
   ]
  }
 ],
 "metadata": {
  "kernelspec": {
   "display_name": "Python [conda env:root] *",
   "language": "python",
   "name": "conda-root-py"
  },
  "language_info": {
   "codemirror_mode": {
    "name": "ipython",
    "version": 3
   },
   "file_extension": ".py",
   "mimetype": "text/x-python",
   "name": "python",
   "nbconvert_exporter": "python",
   "pygments_lexer": "ipython3",
   "version": "3.7.11"
  }
 },
 "nbformat": 4,
 "nbformat_minor": 5
}
