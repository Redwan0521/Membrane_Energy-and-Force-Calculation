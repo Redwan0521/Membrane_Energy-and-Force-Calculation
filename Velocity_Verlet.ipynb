{
 "cells": [
  {
   "cell_type": "code",
   "execution_count": 1,
   "id": "87c0a327",
   "metadata": {},
   "outputs": [],
   "source": [
    "import igl\n",
    "import math\n",
    "import scipy as sp\n",
    "import numpy as np\n",
    "from meshplot import plot, subplot, interact\n",
    "import pandas as pd\n",
    "import matplotlib as mpl\n",
    "import matplotlib.pyplot as plt\n",
    "from matplotlib import cm\n",
    "import os\n",
    "root_folder = os.getcwd()"
   ]
  },
  {
   "cell_type": "code",
   "execution_count": 2,
   "id": "5ce0c2fc",
   "metadata": {
    "scrolled": false
   },
   "outputs": [],
   "source": [
    "## Load a mesh in OFF format\n",
    "\n",
    "#v, f = igl.read_triangle_mesh(os.path.join(root_folder, \"Coarse_Mesh_Sphere.off\"))\n",
    "###Bending Energy calculation\n",
    "def fun_EB(v,f):\n",
    "    k = igl.gaussian_curvature(v, f)\n",
    "    m = igl.massmatrix(v, f, igl.MASSMATRIX_TYPE_VORONOI)\n",
    "    minv = sp.sparse.diags(1 / m.diagonal())\n",
    "    kn = minv.dot(k) \n",
    "    area_voronoi=m.diagonal()\n",
    "    l = igl.cotmatrix(v, f) ###laplacian-operator\n",
    "    m = igl.massmatrix(v, f, igl.MASSMATRIX_TYPE_VORONOI)\n",
    "\n",
    "    minv = sp.sparse.diags(1 / m.diagonal())\n",
    "\n",
    "    hn = -minv.dot(l.dot(v))\n",
    "    h_mean = np.linalg.norm(hn, axis=1)\n",
    "    c=len(v)\n",
    "    Kb=1 #bending_modulus\n",
    "    Eb=[] # bending_energy\n",
    "    for i in range (c):\n",
    "        Eb.append((Kb/2)*((h_mean[i])**2)*(area_voronoi[i]))\n",
    "        Eb_array = np.array(Eb)\n",
    "    return Eb_array\n",
    "#print(Eb)"
   ]
  },
  {
   "cell_type": "code",
   "execution_count": 3,
   "id": "b9ea3c08",
   "metadata": {},
   "outputs": [
    {
     "data": {
      "text/plain": [
       "86.56830422613497"
      ]
     },
     "execution_count": 3,
     "metadata": {},
     "output_type": "execute_result"
    }
   ],
   "source": [
    "v, f = igl.read_triangle_mesh(os.path.join(root_folder, \"CUBEMESH.off\"))\n",
    "b=fun_EB(v,f)\n",
    "\n",
    "np.sum(b)"
   ]
  },
  {
   "cell_type": "code",
   "execution_count": 4,
   "id": "c86ecdca",
   "metadata": {},
   "outputs": [],
   "source": [
    "##Bending Force Calculation \n",
    "def fun_ForceDensity(v,f):\n",
    "\n",
    "    k = igl.gaussian_curvature(v, f)\n",
    "    m = igl.massmatrix(v, f, igl.MASSMATRIX_TYPE_VORONOI)\n",
    "    minv = sp.sparse.diags(1 / m.diagonal())\n",
    "    kn = minv.dot(k) \n",
    "    area_voronoi=m.diagonal()\n",
    "    l = igl.cotmatrix(v, f) ###laplacian-operator\n",
    "    m = igl.massmatrix(v, f, igl.MASSMATRIX_TYPE_VORONOI)\n",
    "\n",
    "    minv = sp.sparse.diags(1 / m.diagonal())\n",
    "\n",
    "    hn = -minv.dot(l.dot(v))\n",
    "    h_mean = np.linalg.norm(hn, axis=1)\n",
    "    Lap_H=minv*l*(h_mean/2)\n",
    "    first_product=h_mean*(((h_mean/2)**2)-k)\n",
    "    second_product=np.add(Lap_H,first_product)\n",
    "    n = igl.per_vertex_normals(v, f)\n",
    "    normal_v=n/np.linalg.norm(n)\n",
    "    ### Force Density and Nodal Force\n",
    "    Kb=1\n",
    "    #Force_density=[] # Force_Density\n",
    "    Force_Nodal=[]\n",
    "\n",
    "    #for i in range (len(v)):\n",
    "    Force_density=2*Kb*(normal_v*second_product[:,None])\n",
    "        #Force_Nodal.append(Force_density[i]*area_voronoi[i])\n",
    "        #print(Force_density[i]) \n",
    "        #print(Force_Nodal[i])\n",
    "        \n",
    "    return Force_density"
   ]
  },
  {
   "cell_type": "code",
   "execution_count": 5,
   "id": "5ba41295",
   "metadata": {},
   "outputs": [],
   "source": [
    "#### Random Force Calculation\n",
    "def fun_FR(v,f):\n",
    "    FR_ij=0\n",
    "    gamma=100\n",
    "    Kb_T=0.01\n",
    "    del_T=0.01\n",
    "    sigma=math.sqrt(2*gamma*Kb_T/del_T)\n",
    "    gaussian_noise=np.random.normal(0, 1, 1)\n",
    "    adjacent_vertices=igl.adjacency_list(f)\n",
    "    FRij_nodes=[]\n",
    "    \n",
    "    for i in range(len(v)):\n",
    "        for j in range(len(adjacent_vertices[i])):\n",
    "            k=adjacent_vertices[i][j]\n",
    "            rij=v[i]-v[k]\n",
    "            rij_norm = rij/np.linalg.norm(rij)\n",
    "            gaussian_noise=np.random.normal(0, 1, 1)\n",
    "            FR_ij=FR_ij+(sigma*(np.random.normal(0, 1, 1))*rij_norm)\n",
    "        FRij_nodes.append(FR_ij)\n",
    "    return FRij_nodes"
   ]
  },
  {
   "cell_type": "code",
   "execution_count": 6,
   "id": "63b7df3f",
   "metadata": {
    "scrolled": true
   },
   "outputs": [],
   "source": [
    "###Calculation of  force\n",
    "# Mesh in (v, f)\n",
    "def fun_FD(v,f,velocity):\n",
    "    gamma=100\n",
    "    Kb_T=0.01\n",
    "    del_T=0.01\n",
    "    sigma=math.sqrt(2*gamma*Kb_T/del_T)\n",
    "    adjacent_vertices=igl.adjacency_list(f)\n",
    "    FDij_nodes=[]\n",
    "    FD_ij=0\n",
    "    for i in range(len(v)):\n",
    "        for j in range(len(adjacent_vertices[i])):\n",
    "            k=adjacent_vertices[i][j]\n",
    "            vij=vel_init[i]-vel_init[k]\n",
    "            rij=v[i]-v[k]\n",
    "            #rij_distance=math.sqrt((rij[0][0]**2)+(rij[0][1]**2)+(rij[0][2]**2))\n",
    "            rij_norm = rij/np.linalg.norm(rij)\n",
    "            FD_ij=FD_ij+(-((gamma*np.dot(vij, rij)*rij_norm)))\n",
    "        FDij_nodes.append(FD_ij)\n",
    "    return FDij_nodes"
   ]
  },
  {
   "cell_type": "code",
   "execution_count": 7,
   "id": "ab515a60",
   "metadata": {},
   "outputs": [],
   "source": [
    "vel_init=np.zeros((len(v),3));\n",
    "FB=np.array(fun_ForceDensity(v,f)) ##bending_force\n",
    "FR=np.array(fun_FR(v,f))#random_force\n",
    "FD=np.array(fun_FD(v,f,vel_init))###dissipative_force\n"
   ]
  },
  {
   "cell_type": "code",
   "execution_count": 8,
   "id": "6b92a6ae",
   "metadata": {},
   "outputs": [],
   "source": [
    "def fun_totalpressure(FB,FR,FD):\n",
    "    m = igl.massmatrix(v, f, igl.MASSMATRIX_TYPE_VORONOI)###mass matrix\n",
    "    minv = np.array(sp.sparse.diags(1 / m.diagonal()))\n",
    "\n",
    "    area_voronoi=np.array(m.diagonal())\n",
    "\n",
    "    #EB=np.array(fun_EB(v,f))\n",
    "    physicalpressure=m*FB\n",
    "    numericalpressure=m*(FR+FD)\n",
    "\n",
    "    #hysicalpressure=FB#rea_voronoi[:,None]\n",
    "    #umericalpressure=(FR/area_voronoi[:,None]+FD/area_voronoi[:,None])\n",
    "    totalpressure=physicalpressure+numericalpressure\n",
    "    return totalpressure"
   ]
  },
  {
   "cell_type": "code",
   "execution_count": 9,
   "id": "cd023075",
   "metadata": {},
   "outputs": [
    {
     "data": {
      "text/plain": [
       "(259, 3)"
      ]
     },
     "execution_count": 9,
     "metadata": {},
     "output_type": "execute_result"
    }
   ],
   "source": [
    "totalpressure=fun_totalpressure(FB,FR,FD)\n",
    "totalpressure.shape"
   ]
  },
  {
   "cell_type": "code",
   "execution_count": null,
   "id": "8eb35efe",
   "metadata": {},
   "outputs": [],
   "source": [
    "###Velocity Verlet Main \n",
    "dt=0.01\n",
    "hdt=0.5*dt\n",
    "iterations = 1000\n",
    "timestep = 0.005\n",
    "T=1\n",
    "vel_init=np.zeros((len(v),3));\n",
    "vel_new_half=np.zeros((len(v),3))\n",
    "pos_new_half=np.zeros((len(v),3))\n",
    "vel_new=np.zeros((len(v),3))\n",
    "pos_new=np.zeros((len(v),3))\n",
    "totalpressure=fun_totalpressure(FB,FR,FD)\n",
    "\n",
    "for i in range(iterations):\n",
    "    for j in range(len(v)):\n",
    "        vel_new_half[j]=np.add(vel_init[j],(0.5*totalpressure[j]*dt))\n",
    "        \n",
    "        pos_new[j]=np.add(v[j],(vel_new_half[j]*dt))\n",
    "        #print(pos_new)\n",
    "    FB_new=np.array(fun_ForceDensity(pos_new,f)) ##bending_force\n",
    "    # print(FB_new)\n",
    "    FR_new=np.array(fun_FR(pos_new,f))#random_force\n",
    "    #print(FR_new)\n",
    "    FD_new=np.array(fun_FD(pos_new,f,vel_new_half))\n",
    "    #print(FD_new)\n",
    "    totalpressure_new=fun_totalpressure(FB_new,FD_new,FR_new)\n",
    "    #print(totalpressure_new)\n",
    "    for k in range(len(v)):\n",
    "        vel_new[k]=np.add(vel_new_half[k],(0.5*totalpressure_new[k]*dt))\n",
    "        #print(vel_new)\n",
    "        vel_init[k]=vel_new[k]\n",
    "        totalpressure[k]=totalpressure_new[k]\n",
    "        #print(totalpressure)"
   ]
  },
  {
   "cell_type": "code",
   "execution_count": null,
   "id": "ff18081f",
   "metadata": {},
   "outputs": [],
   "source": [
    "pos_new[1]-v[1]"
   ]
  },
  {
   "cell_type": "code",
   "execution_count": null,
   "id": "2c30b220",
   "metadata": {},
   "outputs": [],
   "source": [
    "np.savetxt('position_new.txt',pos_new, delimiter=',')"
   ]
  },
  {
   "cell_type": "code",
   "execution_count": 18,
   "id": "ef770bff",
   "metadata": {},
   "outputs": [
    {
     "data": {
      "application/vnd.jupyter.widget-view+json": {
       "model_id": "a66a0be6ede74eb9b643a377f4a37593",
       "version_major": 2,
       "version_minor": 0
      },
      "text/plain": [
       "Renderer(camera=PerspectiveCamera(children=(DirectionalLight(color='white', intensity=0.6, position=(0.6354281…"
      ]
     },
     "metadata": {},
     "output_type": "display_data"
    },
    {
     "data": {
      "text/plain": [
       "<meshplot.Viewer.Viewer at 0x7fd6d14ea710>"
      ]
     },
     "execution_count": 18,
     "metadata": {},
     "output_type": "execute_result"
    }
   ],
   "source": [
    "plot(pos_new,f)"
   ]
  },
  {
   "cell_type": "code",
   "execution_count": null,
   "id": "c6dceec1",
   "metadata": {},
   "outputs": [],
   "source": [
    "v[10]"
   ]
  },
  {
   "cell_type": "code",
   "execution_count": null,
   "id": "e44b5867",
   "metadata": {},
   "outputs": [],
   "source": [
    "pos_new[10]"
   ]
  },
  {
   "cell_type": "code",
   "execution_count": null,
   "id": "6a8122cd",
   "metadata": {},
   "outputs": [],
   "source": [
    "a=[2,3,4]\n",
    "b=[4,5,6]\n",
    "np.subtract(b,a)"
   ]
  },
  {
   "cell_type": "code",
   "execution_count": null,
   "id": "dfc61644",
   "metadata": {},
   "outputs": [],
   "source": []
  }
 ],
 "metadata": {
  "kernelspec": {
   "display_name": "Python [conda env:root] *",
   "language": "python",
   "name": "conda-root-py"
  },
  "language_info": {
   "codemirror_mode": {
    "name": "ipython",
    "version": 3
   },
   "file_extension": ".py",
   "mimetype": "text/x-python",
   "name": "python",
   "nbconvert_exporter": "python",
   "pygments_lexer": "ipython3",
   "version": "3.7.11"
  }
 },
 "nbformat": 4,
 "nbformat_minor": 5
}
