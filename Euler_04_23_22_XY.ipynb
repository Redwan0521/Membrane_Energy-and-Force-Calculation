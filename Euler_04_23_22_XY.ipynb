{
 "cells": [
  {
   "cell_type": "code",
   "execution_count": 1,
   "id": "68272094",
   "metadata": {},
   "outputs": [],
   "source": [
    "import igl\n",
    "import math\n",
    "import scipy as sp\n",
    "import numpy as np\n",
    "import meshplot as mp\n",
    "import pandas as pd\n",
    "import matplotlib as mpl\n",
    "import matplotlib.pyplot as plt\n",
    "from matplotlib import cm\n",
    "from mpl_toolkits.mplot3d import Axes3D\n",
    "import os\n",
    "root_folder = os.getcwd()"
   ]
  },
  {
   "cell_type": "code",
   "execution_count": 2,
   "id": "a89a7bad",
   "metadata": {},
   "outputs": [],
   "source": [
    "v_init, f = igl.read_triangle_mesh(os.path.join(root_folder, \"oblate.off\"))\n",
    "### Parameters for running computation\n",
    "global Kb\n",
    "global Kv\n",
    "global Ka\n",
    "global gamma\n",
    "global KbT\n",
    "global delT\n",
    "global Kal\n",
    "Kal=1\n",
    "gamma=1\n",
    "Ka=2\n",
    "Kv=1\n",
    "Kb=0.01\n",
    "H0=0\n",
    "Volume_t= 0.6* 3.14 * 4 / 3\n",
    "Area_t=4*3.14\n",
    "KbT=0.01\n",
    "charTimeStep=0.1\n",
    "isAdaptiveStep=True\n",
    "#hdt=0.5*dt\n",
    "iterations = 19999\n",
    "outfrequency = 100\n",
    "tolerance = 1e-5\n",
    "maxError = 1000"
   ]
  },
  {
   "cell_type": "code",
   "execution_count": 3,
   "id": "0cdfcf21",
   "metadata": {},
   "outputs": [],
   "source": [
    "###Energy Calculations Area+Bending+Volume\n",
    "def Energy_area(v,f,Area_t):\n",
    "    Area_new=cal_areatot(v,f)\n",
    "    Energy_Area=Ka*((Area_new-Area_t)**2)/Area_t\n",
    "    return Energy_Area\n",
    "def Energy_volume(v,f,Volume_t):\n",
    "    volume_new=cal_volumetot(v,f)\n",
    "    Energy_volume=Kv*((volume_new-Volume_t)**2)/Volume_t\n",
    "    return Energy_volume\n",
    "def Energy_bending(v,f,H0):\n",
    "    npv = igl.per_vertex_normals(v, f)\n",
    "    m = igl.massmatrix(v, f, igl.MASSMATRIX_TYPE_VORONOI)\n",
    "    minv = sp.sparse.diags(1 / m.diagonal())\n",
    "    area_voronoi=m.diagonal()\n",
    "    l = igl.cotmatrix(v, f) ###laplacian-operator\n",
    "    Hn = -minv.dot(l.dot(v))/2\n",
    "    H_mean = np.linalg.norm(Hn, axis=1)\n",
    "    sign_H = np.sign(np.sum(Hn*npv, axis=1))\n",
    "    H_mean_signed = H_mean*sign_H\n",
    "    #print(max(h_mean))\n",
    "    #print(min(h_mean))\n",
    "    Eb = 2*Kb*((H_mean_signed-H0)**2)*area_voronoi\n",
    "    total_EB = np.sum(Eb)\n",
    "    return total_EB\n",
    "def Kinetic_energy(v,f,velocity):\n",
    "    m = igl.massmatrix(v, f, igl.MASSMATRIX_TYPE_VORONOI)\n",
    "    area_voronoi=m.diagonal()\n",
    "    KE = 0.5*np.linalg.norm(velocity, axis=1)**2*area_voronoi\n",
    "    total_KE = np.sum(KE)\n",
    "    return total_KE    "
   ]
  },
  {
   "cell_type": "code",
   "execution_count": 4,
   "id": "a4e2f5f3",
   "metadata": {},
   "outputs": [],
   "source": [
    "def adjacent_face(v,f):\n",
    "    df=pd.DataFrame(f,columns=list('ABC'))\n",
    "    row_numbers=[]\n",
    "    for i in range(len(v)):\n",
    "        row_numbers.append((df.index[(df['A'] == i)|(df['B'] == i) | (df['C'] == i)].tolist()))\n",
    "    return row_numbers\n",
    "\n",
    "def cal_areatot(v,f):\n",
    "    dbl_area = igl.doublearea(v, f)    \n",
    "    Areatot = np.sum(dbl_area)/2\n",
    "    return Areatot\n",
    "\n",
    "def cal_volumetot(v,f):\n",
    "    Volumetot = 0\n",
    "    for i in range(len(f)):\n",
    "        sum=0\n",
    "        p0x=v[f[i][0]][0]\n",
    "        p0y=v[f[i][0]][1]\n",
    "        p0z=v[f[i][0]][2]\n",
    "        p1x=v[f[i][1]][0]\n",
    "        p1y=v[f[i][1]][1]\n",
    "        p1z=v[f[i][1]][2]\n",
    "        p2x=v[f[i][2]][0]\n",
    "        p2y=v[f[i][2]][1]\n",
    "        p2z=v[f[i][2]][2]\n",
    "        v321= p2x*p1y*p0z\n",
    "        v231= p1x*p2y*p0z\n",
    "        v312= p2x*p0y*p1z\n",
    "        v132= p0x*p2y*p1z\n",
    "        v213= p1x*p0y*p2z\n",
    "        v123= p0x*p1y*p2z\n",
    "        sum=(-v321+ v231+ v312-v132-v213+ v123) / 6.0\n",
    "        #print(sum)\n",
    "        Volumetot+=sum\n",
    "    return Volumetot\n",
    "\n",
    "def areaGrad(v,f):\n",
    "    #n=igl.per_vertex_normals(v,f) ## not using per_vertex_normals for areaGrad direction\n",
    "    l = igl.cotmatrix(v, f) ###laplacian-operator\n",
    "    ag = -l.dot(v)\n",
    "    return ag\n",
    "\n",
    "def volGrad(v,f):\n",
    "    npv = igl.per_vertex_normals(v, f)\n",
    "    face_normal=igl.per_face_normals(v,f,npv)\n",
    "    dbl_area = igl.doublearea(v, f)\n",
    "    adjacent_vertices=igl.adjacency_list(f)\n",
    "    adjacent_faces=adjacent_face(v,f)\n",
    "    volumegrad=[]\n",
    "    for i in range(len(v)):\n",
    "        vol_ij=0\n",
    "        for j in range(len(adjacent_faces[i])):\n",
    "            k=adjacent_faces[i][j]\n",
    "            Area=dbl_area[k]/2\n",
    "            FaceNorm=face_normal[k]\n",
    "            vol_ij += (1/3)*Area*FaceNorm\n",
    "        volumegrad.append(vol_ij)\n",
    "    return np.array(volumegrad)"
   ]
  },
  {
   "cell_type": "markdown",
   "id": "e3ef11cb",
   "metadata": {},
   "source": [
    "adjacent_faces=adjacent_face(v,f)\n",
    "k=adjacent_faces[0][2]\n",
    "n = igl.per_vertex_normals(v, f)\n",
    "face_normal=igl.per_face_normals(v,f,n)\n",
    "face_normal[k]"
   ]
  },
  {
   "cell_type": "markdown",
   "id": "ad7effdf",
   "metadata": {},
   "source": [
    "def fun_volgrad(v,f):\n",
    "    n = igl.per_vertex_normals(v, f)\n",
    "    #vector=np.array([1,1,1])\n",
    "    #norm=vector/np.linalg.norm(vector)\n",
    "\n",
    "    face_normal=igl.per_face_normals(v,f,n)\n",
    "    dbl_area = igl.doublearea(v, f)/2\n",
    "    volume_grad=face_normal*dbl_area[:,None]\n",
    "    \n",
    "    return volume_grad/3"
   ]
  },
  {
   "cell_type": "code",
   "execution_count": 5,
   "id": "bf936341",
   "metadata": {},
   "outputs": [],
   "source": [
    "###Force from bending\n",
    "def Force_Bending(v,f):\n",
    "    npv = igl.per_vertex_normals(v, f)\n",
    "    K = igl.gaussian_curvature(v, f)\n",
    "    m = igl.massmatrix(v, f, igl.MASSMATRIX_TYPE_VORONOI)\n",
    "    minv = sp.sparse.diags(1 / m.diagonal())\n",
    "    area_voronoi=m.diagonal()\n",
    "    l = igl.cotmatrix(v, f) ###laplacian-operator\n",
    "    m = igl.massmatrix(v, f, igl.MASSMATRIX_TYPE_VORONOI)\n",
    "    minv = sp.sparse.diags(1 / m.diagonal())\n",
    "    Hn = -minv.dot(l.dot(v))/2\n",
    "    H_mean = np.linalg.norm(Hn, axis=1)\n",
    "    sign_H = np.sign(np.sum(Hn*npv, axis=1))\n",
    "    #if (min(sign_H)<0):\n",
    "    #    print('H_mean changes sign')\n",
    "    H_mean_signed = H_mean*sign_H\n",
    "    Lap_H = minv.dot(l.dot(H_mean_signed-H0))\n",
    "    first_term = 2*(H_mean_signed-H0)*(H_mean_signed**2 + H0*H_mean_signed - K)\n",
    "    totalforce = first_term + Lap_H\n",
    "    #normal_v=n/np.linalg.norm(n)\n",
    "    ### Force Density and Nodal Force\n",
    "    #Force_density=[] # Force_Density\n",
    "    #Force_Nodal=[]\n",
    "\n",
    "    #for i in range (len(v)):\n",
    "    Force_bending = 2*Kb*npv*totalforce[:,None]*area_voronoi[:,None]\n",
    "        #Force_Nodal.append(Force_density[i]*area_voronoi[i])\n",
    "        #print(Force_density[i]) \n",
    "        #print(Force_Nodal[i])\n",
    "        \n",
    "    return Force_bending"
   ]
  },
  {
   "cell_type": "code",
   "execution_count": 6,
   "id": "a8b9d64f",
   "metadata": {},
   "outputs": [],
   "source": [
    "###Force from Area Constraints\n",
    "def Force_Area(Area_t,grad_Area,Area_new):\n",
    "    #grad_Area=volgrad(v,f)\n",
    "    #Area_old=cal_volume(v,f)\n",
    "    #Area_new=cal_Area(pos_new,f)\n",
    "    Force_Area=-2*(Ka)*((Area_new-Area_t)/Area_t)*grad_Area\n",
    "    return Force_Area"
   ]
  },
  {
   "cell_type": "code",
   "execution_count": 7,
   "id": "ed3ba0f0",
   "metadata": {},
   "outputs": [],
   "source": [
    "###Force from Volume Area Constraints\n",
    "def Force_Volume(Volume_t,grad_Volume,volume_new):\n",
    "    #grad_Volume=volgrad(v,f)\n",
    "    #Volume_old=cal_volume(v,f)\n",
    "    #Volume_new=cal_volume(pos_new,f)\n",
    "\n",
    "    Force_Volume=-2*(Kv)*((volume_new-Volume_t)/Volume_t)*grad_Volume ## Volume constraint is not the same as in mem3dg\n",
    "    return Force_Volume"
   ]
  },
  {
   "cell_type": "code",
   "execution_count": 8,
   "id": "5684132d",
   "metadata": {},
   "outputs": [],
   "source": [
    "###Dissipative Force\n",
    "def fun_FD(v,f,velocity):\n",
    "    adjacent_vertices=igl.adjacency_list(f)\n",
    "    FDij_nodes=[]\n",
    "    for i in range(len(v)):\n",
    "        FD_ij=0\n",
    "        for j in range(len(adjacent_vertices[i])):\n",
    "            k=adjacent_vertices[i][j]\n",
    "            vij=velocity[i]-velocity[k]\n",
    "            rij=v[i]-v[k]\n",
    "            #rij_distance=math.sqrt((rij[0][0]**2)+(rij[0][1]**2)+(rij[0][2]**2))\n",
    "            rij_norm = rij/np.linalg.norm(rij)\n",
    "            FD_ij=FD_ij+(-((gamma*np.dot(vij, rij)*rij_norm)))\n",
    "        FDij_nodes.append(FD_ij) \n",
    "    return FDij_nodes"
   ]
  },
  {
   "cell_type": "code",
   "execution_count": 9,
   "id": "f2f9eb7b",
   "metadata": {},
   "outputs": [],
   "source": [
    "###Dissipative Force\n",
    "def fun_FD2(v,f,velocity):\n",
    "    m = igl.massmatrix(v, f, igl.MASSMATRIX_TYPE_VORONOI)\n",
    "    area_voronoi=m.diagonal()\n",
    "    FD_nodes = -gamma*velocity/area_voronoi[:,None]\n",
    "    return FD_nodes"
   ]
  },
  {
   "cell_type": "code",
   "execution_count": 10,
   "id": "308b3c64",
   "metadata": {},
   "outputs": [],
   "source": [
    "####Random Forces\n",
    "def fun_FR(v,f): \n",
    "    edges, fe, ef = igl.edge_topology(v, f)\n",
    "    Fr=np.zeros((len(v),3))\n",
    "    for e in range(len(edges)): \n",
    "        rij=v[edges[e][0]]-v[edges[e][1]]\n",
    "        rij_norm = rij/np.linalg.norm(rij)\n",
    "        gaussian=np.random.normal(0, 1, 1)\n",
    "        Force=gaussian*rij_norm*sigma\n",
    "        Fr[edges[e][0]]+=Force\n",
    "        Fr[edges[e][1]]-=Force  \n",
    "    return Fr"
   ]
  },
  {
   "cell_type": "code",
   "execution_count": 11,
   "id": "f1054a44",
   "metadata": {},
   "outputs": [],
   "source": [
    "####Random Forces\n",
    "def Force_Random(v,f,dt): \n",
    "    sigma=np.sqrt(2*gamma*(KbT))\n",
    "    gaussian = np.random.normal(0, 1, 3*len(v))\n",
    "    FR = sigma*gaussian.reshape(len(v),3)\n",
    "    return FR"
   ]
  },
  {
   "cell_type": "code",
   "execution_count": 12,
   "id": "11f2d00e",
   "metadata": {},
   "outputs": [],
   "source": [
    "def Total_Force(FB,FA,FV):\n",
    "    Total_force=(FB+FA+FV)\n",
    "    return Total_force"
   ]
  },
  {
   "cell_type": "code",
   "execution_count": 13,
   "id": "3c823e21",
   "metadata": {},
   "outputs": [],
   "source": [
    "def updateTimeStep(v,f,l,TF,initialMaxForce,dt_size2_ratio,charTimeStep):\n",
    "    currentMinSize = np.amin(l)\n",
    "    currentMaxForce = np.amax(np.linalg.norm(TF, axis=1))\n",
    "    dt = (dt_size2_ratio * currentMinSize **2)*\\\n",
    "        (initialMaxForce / currentMaxForce)\n",
    "    \n",
    "    if (charTimeStep / dt > 1e3):\n",
    "        print(\"Time step too small! May consider restarting\\n\",\n",
    "              \"simulation in small time scale\")\n",
    "        print(\"Current size / initial size =\",\n",
    "              currentMinSize / sqrt(charTimeStep/dt_size2_ratio))\n",
    "        print(\"Current forece / inital force =\",\n",
    "             currentMaxForce / initialMaxForce)\n",
    "        exit()\n",
    "    return dt"
   ]
  },
  {
   "cell_type": "markdown",
   "id": "d51adc5c",
   "metadata": {},
   "source": [
    "grad_A=areaGrad(v,f)\n",
    "\n",
    "grad_Volume=volgrad(v,f)\n",
    "grad_Volume=np.array(grad_Volume)\n",
    "grad_Volume.shape"
   ]
  },
  {
   "cell_type": "code",
   "execution_count": 14,
   "id": "aa6bb6a7",
   "metadata": {
    "scrolled": false
   },
   "outputs": [
    {
     "name": "stdout",
     "output_type": "stream",
     "text": [
      "initial area =  12.478260465930916\n",
      "initial volume =  4.024773179610609\n",
      "time = 0.10000000000000002\n",
      "dt = 0.10000000000000002\n",
      "dVolume/Volume_t = 1.4746197475486253 / 2.512\n",
      "dArea/Area_t = -0.15879285337573457 / 12.56\n",
      "mechErrorNorm = 12.642685832850345\n",
      "KE =  0.005902379003770219\n",
      "PE =  1.1334811632004282\n"
     ]
    },
    {
     "data": {
      "application/vnd.jupyter.widget-view+json": {
       "model_id": "67d251bea67a4dafa718d197e1fd51f5",
       "version_major": 2,
       "version_minor": 0
      },
      "text/plain": [
       "Renderer(camera=PerspectiveCamera(children=(DirectionalLight(color='white', intensity=0.6, position=(0.0014315…"
      ]
     },
     "metadata": {},
     "output_type": "display_data"
    },
    {
     "name": "stdout",
     "output_type": "stream",
     "text": [
      "time = 15.991860951598634\n",
      "dt = 0.14984357793458503\n",
      "dVolume/Volume_t = 0.8876948369852582 / 2.512\n",
      "dArea/Area_t = -0.8321878813243622 / 12.56\n",
      "mechErrorNorm = 2.320861217597944\n",
      "KE =  0.00019979681691137635\n",
      "PE =  0.7303512361195004\n"
     ]
    },
    {
     "data": {
      "application/vnd.jupyter.widget-view+json": {
       "model_id": "89692524ca7340c28b82c7eae8bbac4e",
       "version_major": 2,
       "version_minor": 0
      },
      "text/plain": [
       "Renderer(camera=PerspectiveCamera(children=(DirectionalLight(color='white', intensity=0.6, position=(0.0032210…"
      ]
     },
     "metadata": {},
     "output_type": "display_data"
    },
    {
     "name": "stdout",
     "output_type": "stream",
     "text": [
      "time = 18.06400985667353 : not all edges are delaunay, call intrinsic delaunay triangulation\n",
      "time = 23.81856327213239 : not all edges are delaunay, call intrinsic delaunay triangulation\n",
      "time = 25.901286477709597 : not all edges are delaunay, call intrinsic delaunay triangulation\n",
      "time = 28.644474960551964 : not all edges are delaunay, call intrinsic delaunay triangulation\n",
      "time = 28.759443228131296\n",
      "dt = 0.11496826757933354\n",
      "dVolume/Volume_t = 0.6500837475153718 / 2.512\n",
      "dArea/Area_t = -0.46061741282620083 / 12.56\n",
      "mechErrorNorm = 1.9484106871866873\n",
      "KE =  0.00014395187349189523\n",
      "PE =  0.5745991443397034\n"
     ]
    },
    {
     "data": {
      "application/vnd.jupyter.widget-view+json": {
       "model_id": "abb9b2f1142f4d25849f5fa22d6d6d23",
       "version_major": 2,
       "version_minor": 0
      },
      "text/plain": [
       "Renderer(camera=PerspectiveCamera(children=(DirectionalLight(color='white', intensity=0.6, position=(0.0098813…"
      ]
     },
     "metadata": {},
     "output_type": "display_data"
    },
    {
     "name": "stdout",
     "output_type": "stream",
     "text": [
      "time = 30.38582435210065 : not all edges are delaunay, call intrinsic delaunay triangulation\n",
      "time = 33.004997715123956 : not all edges are delaunay, call intrinsic delaunay triangulation\n",
      "(lmax - l0)/l0 = 0.8039358220922143 : mesh refining\n",
      "time = 36.92175436258745\n",
      "dt = 0.016092195440717067\n",
      "dVolume/Volume_t = 0.4989876186351423 / 2.512\n",
      "dArea/Area_t = -0.4656236363159749 / 12.56\n",
      "mechErrorNorm = 2.214264252099141\n",
      "KE =  2.374340822475616e-05\n",
      "PE =  0.5377707680181664\n"
     ]
    },
    {
     "data": {
      "application/vnd.jupyter.widget-view+json": {
       "model_id": "3806ddc2faff4ef1a4fbfb49725e5666",
       "version_major": 2,
       "version_minor": 0
      },
      "text/plain": [
       "Renderer(camera=PerspectiveCamera(children=(DirectionalLight(color='white', intensity=0.6, position=(0.0003369…"
      ]
     },
     "metadata": {},
     "output_type": "display_data"
    },
    {
     "name": "stdout",
     "output_type": "stream",
     "text": [
      "time = 43.23393581629092\n",
      "dt = 0.09675549024518555\n",
      "dVolume/Volume_t = 0.5076436775290141 / 2.512\n",
      "dArea/Area_t = -0.32425520548717657 / 12.56\n",
      "mechErrorNorm = 1.6077919866993833\n",
      "KE =  5.180168871617691e-06\n",
      "PE =  0.5302000230525308\n"
     ]
    },
    {
     "data": {
      "application/vnd.jupyter.widget-view+json": {
       "model_id": "e06730f2d6e54b5d813a08e71136a151",
       "version_major": 2,
       "version_minor": 0
      },
      "text/plain": [
       "Renderer(camera=PerspectiveCamera(children=(DirectionalLight(color='white', intensity=0.6, position=(0.0020760…"
      ]
     },
     "metadata": {},
     "output_type": "display_data"
    },
    {
     "name": "stdout",
     "output_type": "stream",
     "text": [
      "time = 49.67232542462506\n",
      "dt = 0.01836457446455026\n",
      "dVolume/Volume_t = 0.4866222857216682 / 2.512\n",
      "dArea/Area_t = -0.2822152926194672 / 12.56\n",
      "mechErrorNorm = 1.2852857935305406\n",
      "KE =  8.396611228676922e-06\n",
      "PE =  0.5228730409225574\n"
     ]
    },
    {
     "data": {
      "application/vnd.jupyter.widget-view+json": {
       "model_id": "aea4ee0976f94ce2b2d65deb4ad362c0",
       "version_major": 2,
       "version_minor": 0
      },
      "text/plain": [
       "Renderer(camera=PerspectiveCamera(children=(DirectionalLight(color='white', intensity=0.6, position=(0.0029999…"
      ]
     },
     "metadata": {},
     "output_type": "display_data"
    },
    {
     "name": "stdout",
     "output_type": "stream",
     "text": [
      "time = 56.12428178237381\n",
      "dt = 0.07042016397200851\n",
      "dVolume/Volume_t = 0.4627296947877091 / 2.512\n",
      "dArea/Area_t = -0.2559611316906132 / 12.56\n",
      "mechErrorNorm = 1.3684683369904507\n",
      "KE =  3.944330931810272e-06\n",
      "PE =  0.5161407344701117\n"
     ]
    },
    {
     "data": {
      "application/vnd.jupyter.widget-view+json": {
       "model_id": "5ab4549611ca4a5a92c579aaa72d01fb",
       "version_major": 2,
       "version_minor": 0
      },
      "text/plain": [
       "Renderer(camera=PerspectiveCamera(children=(DirectionalLight(color='white', intensity=0.6, position=(0.0038175…"
      ]
     },
     "metadata": {},
     "output_type": "display_data"
    },
    {
     "name": "stdout",
     "output_type": "stream",
     "text": [
      "time = 62.14092714006751\n",
      "dt = 0.012013498179274083\n",
      "dVolume/Volume_t = 0.44127803951812616 / 2.512\n",
      "dArea/Area_t = -0.23469532954979933 / 12.56\n",
      "mechErrorNorm = 1.0723477762434537\n",
      "KE =  1.3767761642927188e-05\n",
      "PE =  0.5106167402333832\n"
     ]
    },
    {
     "data": {
      "application/vnd.jupyter.widget-view+json": {
       "model_id": "bdffc97f2f4b43498b1df98d28b094fd",
       "version_major": 2,
       "version_minor": 0
      },
      "text/plain": [
       "Renderer(camera=PerspectiveCamera(children=(DirectionalLight(color='white', intensity=0.6, position=(0.0046048…"
      ]
     },
     "metadata": {},
     "output_type": "display_data"
    },
    {
     "name": "stdout",
     "output_type": "stream",
     "text": [
      "time = 66.49078399766857 : not all edges are delaunay, call intrinsic delaunay triangulation\n",
      "time = 68.15840358703495 : not all edges are delaunay, call intrinsic delaunay triangulation\n",
      "time = 68.43730979636217\n",
      "dt = 0.021672574961724377\n",
      "dVolume/Volume_t = 0.4201556060058418 / 2.512\n",
      "dArea/Area_t = -0.21416330312770882 / 12.56\n",
      "mechErrorNorm = 1.0749653607797747\n",
      "KE =  5.750443481861944e-06\n",
      "PE =  0.505697713820847\n"
     ]
    },
    {
     "data": {
      "application/vnd.jupyter.widget-view+json": {
       "model_id": "5daba35587594cbd896c1e57f338e2b5",
       "version_major": 2,
       "version_minor": 0
      },
      "text/plain": [
       "Renderer(camera=PerspectiveCamera(children=(DirectionalLight(color='white', intensity=0.6, position=(0.0054531…"
      ]
     },
     "metadata": {},
     "output_type": "display_data"
    },
    {
     "name": "stdout",
     "output_type": "stream",
     "text": [
      "time = 75.1041967091119 : not all edges are delaunay, call intrinsic delaunay triangulation\n",
      "time = 75.14894644555872\n",
      "dt = 0.044749736446821106\n",
      "dVolume/Volume_t = 0.3989532926369699 / 2.512\n",
      "dArea/Area_t = -0.19380801397779734 / 12.56\n",
      "mechErrorNorm = 1.1375992523484362\n",
      "KE =  3.606253971145039e-06\n",
      "PE =  0.501333483727782\n"
     ]
    },
    {
     "data": {
      "application/vnd.jupyter.widget-view+json": {
       "model_id": "85a42e440a9848978613a3fa01da202c",
       "version_major": 2,
       "version_minor": 0
      },
      "text/plain": [
       "Renderer(camera=PerspectiveCamera(children=(DirectionalLight(color='white', intensity=0.6, position=(0.0064586…"
      ]
     },
     "metadata": {},
     "output_type": "display_data"
    },
    {
     "name": "stdout",
     "output_type": "stream",
     "text": [
      "time = 77.22302214245474 : not all edges are delaunay, call intrinsic delaunay triangulation\n",
      "time = 78.13173785180588 : not all edges are delaunay, call intrinsic delaunay triangulation\n",
      "time = 79.32581909221608 : not all edges are delaunay, call intrinsic delaunay triangulation\n",
      "time = 81.25440694025474 : not all edges are delaunay, call intrinsic delaunay triangulation\n",
      "time = 81.405735554611\n",
      "dt = 0.021735154355529345\n",
      "dVolume/Volume_t = 0.38059116273900884 / 2.512\n",
      "dArea/Area_t = -0.17596323165773597 / 12.56\n",
      "mechErrorNorm = 0.9683418246742314\n",
      "KE =  5.222172557886466e-06\n",
      "PE =  0.4979664508167413\n"
     ]
    },
    {
     "data": {
      "application/vnd.jupyter.widget-view+json": {
       "model_id": "1c08d316c90c4eebab1739df618d5124",
       "version_major": 2,
       "version_minor": 0
      },
      "text/plain": [
       "Renderer(camera=PerspectiveCamera(children=(DirectionalLight(color='white', intensity=0.6, position=(0.0075210…"
      ]
     },
     "metadata": {},
     "output_type": "display_data"
    },
    {
     "name": "stdout",
     "output_type": "stream",
     "text": [
      "time = 86.60598515861462 : not all edges are delaunay, call intrinsic delaunay triangulation\n",
      "time = 87.95338989040023\n",
      "dt = 0.027830518212184994\n",
      "dVolume/Volume_t = 0.36248956214450034 / 2.512\n",
      "dArea/Area_t = -0.15834769261108406 / 12.56\n",
      "mechErrorNorm = 0.9520451532104772\n",
      "KE =  4.177459572403898e-06\n",
      "PE =  0.4951840367586531\n"
     ]
    },
    {
     "data": {
      "application/vnd.jupyter.widget-view+json": {
       "model_id": "b060b75c70b44ef5a4194e611ce64913",
       "version_major": 2,
       "version_minor": 0
      },
      "text/plain": [
       "Renderer(camera=PerspectiveCamera(children=(DirectionalLight(color='white', intensity=0.6, position=(0.0087973…"
      ]
     },
     "metadata": {},
     "output_type": "display_data"
    },
    {
     "name": "stdout",
     "output_type": "stream",
     "text": [
      "time = 89.93777247889902 : not all edges are delaunay, call intrinsic delaunay triangulation\n",
      "time = 92.29314172140894 : not all edges are delaunay, call intrinsic delaunay triangulation\n",
      "time = 93.08358323572003 : not all edges are delaunay, call intrinsic delaunay triangulation\n",
      "time = 93.22954056558892\n",
      "dt = 0.018149784088821\n",
      "dVolume/Volume_t = 0.3488637910974104 / 2.512\n",
      "dArea/Area_t = -0.14470764094707533 / 12.56\n",
      "mechErrorNorm = 0.8694666635847992\n",
      "KE =  6.435968525142939e-06\n",
      "PE =  0.49343749033339396\n"
     ]
    },
    {
     "data": {
      "application/vnd.jupyter.widget-view+json": {
       "model_id": "75eaf75d03d54ff98e73458d0f37f5c4",
       "version_major": 2,
       "version_minor": 0
      },
      "text/plain": [
       "Renderer(camera=PerspectiveCamera(children=(DirectionalLight(color='white', intensity=0.6, position=(0.0101273…"
      ]
     },
     "metadata": {},
     "output_type": "display_data"
    },
    {
     "name": "stdout",
     "output_type": "stream",
     "text": [
      "time = 93.38549397066897 : not all edges are delaunay, call intrinsic delaunay triangulation\n",
      "time = 96.42409682755383 : not all edges are delaunay, call intrinsic delaunay triangulation\n",
      "time = 98.0781128151992\n",
      "dt = 0.13250717822864858\n",
      "dVolume/Volume_t = 0.3369664646184245 / 2.512\n",
      "dArea/Area_t = -0.13273951231376735 / 12.56\n",
      "mechErrorNorm = 1.0294441838728414\n",
      "KE =  1.8519850762509857e-06\n",
      "PE =  0.4922307641590905\n"
     ]
    },
    {
     "data": {
      "application/vnd.jupyter.widget-view+json": {
       "model_id": "818be52814844880b679278510105df6",
       "version_major": 2,
       "version_minor": 0
      },
      "text/plain": [
       "Renderer(camera=PerspectiveCamera(children=(DirectionalLight(color='white', intensity=0.6, position=(0.0127957…"
      ]
     },
     "metadata": {},
     "output_type": "display_data"
    },
    {
     "name": "stdout",
     "output_type": "stream",
     "text": [
      "time = 98.55549655399888 : not all edges are delaunay, call intrinsic delaunay triangulation\n",
      "time = 99.31612558546506 : not all edges are delaunay, call intrinsic delaunay triangulation\n",
      "time = 100.93309690875539 : not all edges are delaunay, call intrinsic delaunay triangulation\n",
      "time = 103.83948577842791\n",
      "dt = 0.020749945542643044\n",
      "dVolume/Volume_t = 0.32354812040945147 / 2.512\n",
      "dArea/Area_t = -0.11884169674577727 / 12.56\n",
      "mechErrorNorm = 0.8361808275474216\n",
      "KE =  5.2540396417588874e-06\n",
      "PE =  0.49118357921236894\n"
     ]
    },
    {
     "data": {
      "application/vnd.jupyter.widget-view+json": {
       "model_id": "c8697c716fdc4409928969ad85101b99",
       "version_major": 2,
       "version_minor": 0
      },
      "text/plain": [
       "Renderer(camera=PerspectiveCamera(children=(DirectionalLight(color='white', intensity=0.6, position=(0.0163652…"
      ]
     },
     "metadata": {},
     "output_type": "display_data"
    },
    {
     "name": "stdout",
     "output_type": "stream",
     "text": [
      "time = 109.01757601875401\n",
      "dt = 0.020839668818460125\n",
      "dVolume/Volume_t = 0.3120972805806943 / 2.512\n",
      "dArea/Area_t = -0.10646977921348899 / 12.56\n",
      "mechErrorNorm = 0.8173828124454507\n",
      "KE =  5.2728975716716985e-06\n",
      "PE =  0.49068788513515094\n"
     ]
    },
    {
     "data": {
      "application/vnd.jupyter.widget-view+json": {
       "model_id": "555cf5dd4c864d778cd466348e71ee18",
       "version_major": 2,
       "version_minor": 0
      },
      "text/plain": [
       "Renderer(camera=PerspectiveCamera(children=(DirectionalLight(color='white', intensity=0.6, position=(0.0201141…"
      ]
     },
     "metadata": {},
     "output_type": "display_data"
    },
    {
     "name": "stdout",
     "output_type": "stream",
     "text": [
      "time = 109.81868686115655 : not all edges are delaunay, call intrinsic delaunay triangulation\n",
      "time = 114.04060560440975 : not all edges are delaunay, call intrinsic delaunay triangulation\n",
      "time = 114.80565949739542\n",
      "dt = 0.08960326298129313\n",
      "dVolume/Volume_t = 0.29998757690321787 / 2.512\n",
      "dArea/Area_t = -0.09271953697470892 / 12.56\n",
      "mechErrorNorm = 0.8924794273269869\n",
      "KE =  1.8701764682096918e-06\n",
      "PE =  0.49060327247462554\n"
     ]
    },
    {
     "data": {
      "application/vnd.jupyter.widget-view+json": {
       "model_id": "dd0d4402a2f24d9ea1ed6912de3c7a6a",
       "version_major": 2,
       "version_minor": 0
      },
      "text/plain": [
       "Renderer(camera=PerspectiveCamera(children=(DirectionalLight(color='white', intensity=0.6, position=(0.0246351…"
      ]
     },
     "metadata": {},
     "output_type": "display_data"
    },
    {
     "name": "stdout",
     "output_type": "stream",
     "text": [
      "time = 115.45741885060418 : not all edges are delaunay, call intrinsic delaunay triangulation\n",
      "time = 116.761497226918 : not all edges are delaunay, call intrinsic delaunay triangulation\n",
      "time = 118.87560057854357 : not all edges are delaunay, call intrinsic delaunay triangulation\n",
      "time = 119.20779795819297\n",
      "dt = 0.029288522473487382\n",
      "dVolume/Volume_t = 0.29115988192676 / 2.512\n",
      "dArea/Area_t = -0.08217785306995395 / 12.56\n",
      "mechErrorNorm = 0.850271542353304\n",
      "KE =  4.0611016116350435e-06\n",
      "PE =  0.4908642772869676\n"
     ]
    },
    {
     "data": {
      "application/vnd.jupyter.widget-view+json": {
       "model_id": "e31691ebb0924bc3a727b78790982063",
       "version_major": 2,
       "version_minor": 0
      },
      "text/plain": [
       "Renderer(camera=PerspectiveCamera(children=(DirectionalLight(color='white', intensity=0.6, position=(0.0286400…"
      ]
     },
     "metadata": {},
     "output_type": "display_data"
    },
    {
     "name": "stdout",
     "output_type": "stream",
     "text": [
      "time = 122.25029336952201 : not all edges are delaunay, call intrinsic delaunay triangulation\n",
      "time = 123.18318481110515 : not all edges are delaunay, call intrinsic delaunay triangulation\n",
      "time = 123.69151767189065\n",
      "dt = 0.024429618134698596\n",
      "dVolume/Volume_t = 0.282539597593793 / 2.512\n",
      "dArea/Area_t = -0.07108168813134164 / 12.56\n",
      "mechErrorNorm = 0.80768646203864\n",
      "KE =  4.740983476529009e-06\n",
      "PE =  0.4914536385638339\n"
     ]
    },
    {
     "data": {
      "application/vnd.jupyter.widget-view+json": {
       "model_id": "8468aa332dd04b2e940c08c8a967eeaa",
       "version_major": 2,
       "version_minor": 0
      },
      "text/plain": [
       "Renderer(camera=PerspectiveCamera(children=(DirectionalLight(color='white', intensity=0.6, position=(0.0334973…"
      ]
     },
     "metadata": {},
     "output_type": "display_data"
    },
    {
     "ename": "KeyboardInterrupt",
     "evalue": "",
     "output_type": "error",
     "traceback": [
      "\u001b[0;31m---------------------------------------------------------------------------\u001b[0m",
      "\u001b[0;31mKeyboardInterrupt\u001b[0m                         Traceback (most recent call last)",
      "\u001b[0;32m/tmp/ipykernel_29874/282354893.py\u001b[0m in \u001b[0;36m<module>\u001b[0;34m\u001b[0m\n\u001b[1;32m     69\u001b[0m     \u001b[0mgrad_Area_new\u001b[0m\u001b[0;34m=\u001b[0m\u001b[0mareaGrad\u001b[0m\u001b[0;34m(\u001b[0m\u001b[0mv\u001b[0m\u001b[0;34m,\u001b[0m\u001b[0mf\u001b[0m\u001b[0;34m)\u001b[0m\u001b[0;34m\u001b[0m\u001b[0;34m\u001b[0m\u001b[0m\n\u001b[1;32m     70\u001b[0m     \u001b[0mVolume_current\u001b[0m\u001b[0;34m=\u001b[0m\u001b[0mcal_volumetot\u001b[0m\u001b[0;34m(\u001b[0m\u001b[0mv\u001b[0m\u001b[0;34m,\u001b[0m\u001b[0mf\u001b[0m\u001b[0;34m)\u001b[0m\u001b[0;34m\u001b[0m\u001b[0;34m\u001b[0m\u001b[0m\n\u001b[0;32m---> 71\u001b[0;31m     \u001b[0mgrad_Volume_new\u001b[0m\u001b[0;34m=\u001b[0m\u001b[0mvolGrad\u001b[0m\u001b[0;34m(\u001b[0m\u001b[0mv\u001b[0m\u001b[0;34m,\u001b[0m\u001b[0mf\u001b[0m\u001b[0;34m)\u001b[0m\u001b[0;34m\u001b[0m\u001b[0;34m\u001b[0m\u001b[0m\n\u001b[0m\u001b[1;32m     72\u001b[0m \u001b[0;34m\u001b[0m\u001b[0m\n\u001b[1;32m     73\u001b[0m     \u001b[0;31m###Update forces here\u001b[0m\u001b[0;34m\u001b[0m\u001b[0;34m\u001b[0m\u001b[0m\n",
      "\u001b[0;32m/tmp/ipykernel_29874/3254580205.py\u001b[0m in \u001b[0;36mvolGrad\u001b[0;34m(v, f)\u001b[0m\n\u001b[1;32m     46\u001b[0m     \u001b[0mdbl_area\u001b[0m \u001b[0;34m=\u001b[0m \u001b[0migl\u001b[0m\u001b[0;34m.\u001b[0m\u001b[0mdoublearea\u001b[0m\u001b[0;34m(\u001b[0m\u001b[0mv\u001b[0m\u001b[0;34m,\u001b[0m \u001b[0mf\u001b[0m\u001b[0;34m)\u001b[0m\u001b[0;34m\u001b[0m\u001b[0;34m\u001b[0m\u001b[0m\n\u001b[1;32m     47\u001b[0m     \u001b[0madjacent_vertices\u001b[0m\u001b[0;34m=\u001b[0m\u001b[0migl\u001b[0m\u001b[0;34m.\u001b[0m\u001b[0madjacency_list\u001b[0m\u001b[0;34m(\u001b[0m\u001b[0mf\u001b[0m\u001b[0;34m)\u001b[0m\u001b[0;34m\u001b[0m\u001b[0;34m\u001b[0m\u001b[0m\n\u001b[0;32m---> 48\u001b[0;31m     \u001b[0madjacent_faces\u001b[0m\u001b[0;34m=\u001b[0m\u001b[0madjacent_face\u001b[0m\u001b[0;34m(\u001b[0m\u001b[0mv\u001b[0m\u001b[0;34m,\u001b[0m\u001b[0mf\u001b[0m\u001b[0;34m)\u001b[0m\u001b[0;34m\u001b[0m\u001b[0;34m\u001b[0m\u001b[0m\n\u001b[0m\u001b[1;32m     49\u001b[0m     \u001b[0mvolumegrad\u001b[0m\u001b[0;34m=\u001b[0m\u001b[0;34m[\u001b[0m\u001b[0;34m]\u001b[0m\u001b[0;34m\u001b[0m\u001b[0;34m\u001b[0m\u001b[0m\n\u001b[1;32m     50\u001b[0m     \u001b[0;32mfor\u001b[0m \u001b[0mi\u001b[0m \u001b[0;32min\u001b[0m \u001b[0mrange\u001b[0m\u001b[0;34m(\u001b[0m\u001b[0mlen\u001b[0m\u001b[0;34m(\u001b[0m\u001b[0mv\u001b[0m\u001b[0;34m)\u001b[0m\u001b[0;34m)\u001b[0m\u001b[0;34m:\u001b[0m\u001b[0;34m\u001b[0m\u001b[0;34m\u001b[0m\u001b[0m\n",
      "\u001b[0;32m/tmp/ipykernel_29874/3254580205.py\u001b[0m in \u001b[0;36madjacent_face\u001b[0;34m(v, f)\u001b[0m\n\u001b[1;32m      3\u001b[0m     \u001b[0mrow_numbers\u001b[0m\u001b[0;34m=\u001b[0m\u001b[0;34m[\u001b[0m\u001b[0;34m]\u001b[0m\u001b[0;34m\u001b[0m\u001b[0;34m\u001b[0m\u001b[0m\n\u001b[1;32m      4\u001b[0m     \u001b[0;32mfor\u001b[0m \u001b[0mi\u001b[0m \u001b[0;32min\u001b[0m \u001b[0mrange\u001b[0m\u001b[0;34m(\u001b[0m\u001b[0mlen\u001b[0m\u001b[0;34m(\u001b[0m\u001b[0mv\u001b[0m\u001b[0;34m)\u001b[0m\u001b[0;34m)\u001b[0m\u001b[0;34m:\u001b[0m\u001b[0;34m\u001b[0m\u001b[0;34m\u001b[0m\u001b[0m\n\u001b[0;32m----> 5\u001b[0;31m         \u001b[0mrow_numbers\u001b[0m\u001b[0;34m.\u001b[0m\u001b[0mappend\u001b[0m\u001b[0;34m(\u001b[0m\u001b[0;34m(\u001b[0m\u001b[0mdf\u001b[0m\u001b[0;34m.\u001b[0m\u001b[0mindex\u001b[0m\u001b[0;34m[\u001b[0m\u001b[0;34m(\u001b[0m\u001b[0mdf\u001b[0m\u001b[0;34m[\u001b[0m\u001b[0;34m'A'\u001b[0m\u001b[0;34m]\u001b[0m \u001b[0;34m==\u001b[0m \u001b[0mi\u001b[0m\u001b[0;34m)\u001b[0m\u001b[0;34m|\u001b[0m\u001b[0;34m(\u001b[0m\u001b[0mdf\u001b[0m\u001b[0;34m[\u001b[0m\u001b[0;34m'B'\u001b[0m\u001b[0;34m]\u001b[0m \u001b[0;34m==\u001b[0m \u001b[0mi\u001b[0m\u001b[0;34m)\u001b[0m \u001b[0;34m|\u001b[0m \u001b[0;34m(\u001b[0m\u001b[0mdf\u001b[0m\u001b[0;34m[\u001b[0m\u001b[0;34m'C'\u001b[0m\u001b[0;34m]\u001b[0m \u001b[0;34m==\u001b[0m \u001b[0mi\u001b[0m\u001b[0;34m)\u001b[0m\u001b[0;34m]\u001b[0m\u001b[0;34m.\u001b[0m\u001b[0mtolist\u001b[0m\u001b[0;34m(\u001b[0m\u001b[0;34m)\u001b[0m\u001b[0;34m)\u001b[0m\u001b[0;34m)\u001b[0m\u001b[0;34m\u001b[0m\u001b[0;34m\u001b[0m\u001b[0m\n\u001b[0m\u001b[1;32m      6\u001b[0m     \u001b[0;32mreturn\u001b[0m \u001b[0mrow_numbers\u001b[0m\u001b[0;34m\u001b[0m\u001b[0;34m\u001b[0m\u001b[0m\n\u001b[1;32m      7\u001b[0m \u001b[0;34m\u001b[0m\u001b[0m\n",
      "\u001b[0;32m~/anaconda3/lib/python3.9/site-packages/pandas/core/ops/common.py\u001b[0m in \u001b[0;36mnew_method\u001b[0;34m(self, other)\u001b[0m\n\u001b[1;32m     67\u001b[0m         \u001b[0mother\u001b[0m \u001b[0;34m=\u001b[0m \u001b[0mitem_from_zerodim\u001b[0m\u001b[0;34m(\u001b[0m\u001b[0mother\u001b[0m\u001b[0;34m)\u001b[0m\u001b[0;34m\u001b[0m\u001b[0;34m\u001b[0m\u001b[0m\n\u001b[1;32m     68\u001b[0m \u001b[0;34m\u001b[0m\u001b[0m\n\u001b[0;32m---> 69\u001b[0;31m         \u001b[0;32mreturn\u001b[0m \u001b[0mmethod\u001b[0m\u001b[0;34m(\u001b[0m\u001b[0mself\u001b[0m\u001b[0;34m,\u001b[0m \u001b[0mother\u001b[0m\u001b[0;34m)\u001b[0m\u001b[0;34m\u001b[0m\u001b[0;34m\u001b[0m\u001b[0m\n\u001b[0m\u001b[1;32m     70\u001b[0m \u001b[0;34m\u001b[0m\u001b[0m\n\u001b[1;32m     71\u001b[0m     \u001b[0;32mreturn\u001b[0m \u001b[0mnew_method\u001b[0m\u001b[0;34m\u001b[0m\u001b[0;34m\u001b[0m\u001b[0m\n",
      "\u001b[0;32m~/anaconda3/lib/python3.9/site-packages/pandas/core/arraylike.py\u001b[0m in \u001b[0;36m__or__\u001b[0;34m(self, other)\u001b[0m\n\u001b[1;32m     68\u001b[0m     \u001b[0;34m@\u001b[0m\u001b[0munpack_zerodim_and_defer\u001b[0m\u001b[0;34m(\u001b[0m\u001b[0;34m\"__or__\"\u001b[0m\u001b[0;34m)\u001b[0m\u001b[0;34m\u001b[0m\u001b[0;34m\u001b[0m\u001b[0m\n\u001b[1;32m     69\u001b[0m     \u001b[0;32mdef\u001b[0m \u001b[0m__or__\u001b[0m\u001b[0;34m(\u001b[0m\u001b[0mself\u001b[0m\u001b[0;34m,\u001b[0m \u001b[0mother\u001b[0m\u001b[0;34m)\u001b[0m\u001b[0;34m:\u001b[0m\u001b[0;34m\u001b[0m\u001b[0;34m\u001b[0m\u001b[0m\n\u001b[0;32m---> 70\u001b[0;31m         \u001b[0;32mreturn\u001b[0m \u001b[0mself\u001b[0m\u001b[0;34m.\u001b[0m\u001b[0m_logical_method\u001b[0m\u001b[0;34m(\u001b[0m\u001b[0mother\u001b[0m\u001b[0;34m,\u001b[0m \u001b[0moperator\u001b[0m\u001b[0;34m.\u001b[0m\u001b[0mor_\u001b[0m\u001b[0;34m)\u001b[0m\u001b[0;34m\u001b[0m\u001b[0;34m\u001b[0m\u001b[0m\n\u001b[0m\u001b[1;32m     71\u001b[0m \u001b[0;34m\u001b[0m\u001b[0m\n\u001b[1;32m     72\u001b[0m     \u001b[0;34m@\u001b[0m\u001b[0munpack_zerodim_and_defer\u001b[0m\u001b[0;34m(\u001b[0m\u001b[0;34m\"__ror__\"\u001b[0m\u001b[0;34m)\u001b[0m\u001b[0;34m\u001b[0m\u001b[0;34m\u001b[0m\u001b[0m\n",
      "\u001b[0;32m~/anaconda3/lib/python3.9/site-packages/pandas/core/series.py\u001b[0m in \u001b[0;36m_logical_method\u001b[0;34m(self, other, op)\u001b[0m\n\u001b[1;32m   5509\u001b[0m \u001b[0;34m\u001b[0m\u001b[0m\n\u001b[1;32m   5510\u001b[0m         \u001b[0mlvalues\u001b[0m \u001b[0;34m=\u001b[0m \u001b[0mself\u001b[0m\u001b[0;34m.\u001b[0m\u001b[0m_values\u001b[0m\u001b[0;34m\u001b[0m\u001b[0;34m\u001b[0m\u001b[0m\n\u001b[0;32m-> 5511\u001b[0;31m         \u001b[0mrvalues\u001b[0m \u001b[0;34m=\u001b[0m \u001b[0mextract_array\u001b[0m\u001b[0;34m(\u001b[0m\u001b[0mother\u001b[0m\u001b[0;34m,\u001b[0m \u001b[0mextract_numpy\u001b[0m\u001b[0;34m=\u001b[0m\u001b[0;32mTrue\u001b[0m\u001b[0;34m,\u001b[0m \u001b[0mextract_range\u001b[0m\u001b[0;34m=\u001b[0m\u001b[0;32mTrue\u001b[0m\u001b[0;34m)\u001b[0m\u001b[0;34m\u001b[0m\u001b[0;34m\u001b[0m\u001b[0m\n\u001b[0m\u001b[1;32m   5512\u001b[0m \u001b[0;34m\u001b[0m\u001b[0m\n\u001b[1;32m   5513\u001b[0m         \u001b[0mres_values\u001b[0m \u001b[0;34m=\u001b[0m \u001b[0mops\u001b[0m\u001b[0;34m.\u001b[0m\u001b[0mlogical_op\u001b[0m\u001b[0;34m(\u001b[0m\u001b[0mlvalues\u001b[0m\u001b[0;34m,\u001b[0m \u001b[0mrvalues\u001b[0m\u001b[0;34m,\u001b[0m \u001b[0mop\u001b[0m\u001b[0;34m)\u001b[0m\u001b[0;34m\u001b[0m\u001b[0;34m\u001b[0m\u001b[0m\n",
      "\u001b[0;32m~/anaconda3/lib/python3.9/site-packages/pandas/core/construction.py\u001b[0m in \u001b[0;36mextract_array\u001b[0;34m(obj, extract_numpy, extract_range)\u001b[0m\n\u001b[1;32m    421\u001b[0m             \u001b[0;32mreturn\u001b[0m \u001b[0mobj\u001b[0m\u001b[0;34m\u001b[0m\u001b[0;34m\u001b[0m\u001b[0m\n\u001b[1;32m    422\u001b[0m \u001b[0;34m\u001b[0m\u001b[0m\n\u001b[0;32m--> 423\u001b[0;31m         \u001b[0mobj\u001b[0m \u001b[0;34m=\u001b[0m \u001b[0mobj\u001b[0m\u001b[0;34m.\u001b[0m\u001b[0marray\u001b[0m\u001b[0;34m\u001b[0m\u001b[0;34m\u001b[0m\u001b[0m\n\u001b[0m\u001b[1;32m    424\u001b[0m \u001b[0;34m\u001b[0m\u001b[0m\n\u001b[1;32m    425\u001b[0m     \u001b[0;32mif\u001b[0m \u001b[0mextract_numpy\u001b[0m \u001b[0;32mand\u001b[0m \u001b[0misinstance\u001b[0m\u001b[0;34m(\u001b[0m\u001b[0mobj\u001b[0m\u001b[0;34m,\u001b[0m \u001b[0mABCPandasArray\u001b[0m\u001b[0;34m)\u001b[0m\u001b[0;34m:\u001b[0m\u001b[0;34m\u001b[0m\u001b[0;34m\u001b[0m\u001b[0m\n",
      "\u001b[0;32m~/anaconda3/lib/python3.9/site-packages/pandas/core/series.py\u001b[0m in \u001b[0;36marray\u001b[0;34m(self)\u001b[0m\n\u001b[1;32m    710\u001b[0m     \u001b[0;34m@\u001b[0m\u001b[0mproperty\u001b[0m\u001b[0;34m\u001b[0m\u001b[0;34m\u001b[0m\u001b[0m\n\u001b[1;32m    711\u001b[0m     \u001b[0;32mdef\u001b[0m \u001b[0marray\u001b[0m\u001b[0;34m(\u001b[0m\u001b[0mself\u001b[0m\u001b[0;34m)\u001b[0m \u001b[0;34m->\u001b[0m \u001b[0mExtensionArray\u001b[0m\u001b[0;34m:\u001b[0m\u001b[0;34m\u001b[0m\u001b[0;34m\u001b[0m\u001b[0m\n\u001b[0;32m--> 712\u001b[0;31m         \u001b[0;32mreturn\u001b[0m \u001b[0mself\u001b[0m\u001b[0;34m.\u001b[0m\u001b[0m_mgr\u001b[0m\u001b[0;34m.\u001b[0m\u001b[0marray_values\u001b[0m\u001b[0;34m(\u001b[0m\u001b[0;34m)\u001b[0m\u001b[0;34m\u001b[0m\u001b[0;34m\u001b[0m\u001b[0m\n\u001b[0m\u001b[1;32m    713\u001b[0m \u001b[0;34m\u001b[0m\u001b[0m\n\u001b[1;32m    714\u001b[0m     \u001b[0;31m# ops\u001b[0m\u001b[0;34m\u001b[0m\u001b[0;34m\u001b[0m\u001b[0m\n",
      "\u001b[0;32m~/anaconda3/lib/python3.9/site-packages/pandas/core/internals/managers.py\u001b[0m in \u001b[0;36marray_values\u001b[0;34m(self)\u001b[0m\n\u001b[1;32m   1678\u001b[0m     \u001b[0;32mdef\u001b[0m \u001b[0marray_values\u001b[0m\u001b[0;34m(\u001b[0m\u001b[0mself\u001b[0m\u001b[0;34m)\u001b[0m\u001b[0;34m:\u001b[0m\u001b[0;34m\u001b[0m\u001b[0;34m\u001b[0m\u001b[0m\n\u001b[1;32m   1679\u001b[0m         \u001b[0;34m\"\"\"The array that Series.array returns\"\"\"\u001b[0m\u001b[0;34m\u001b[0m\u001b[0;34m\u001b[0m\u001b[0m\n\u001b[0;32m-> 1680\u001b[0;31m         \u001b[0;32mreturn\u001b[0m \u001b[0mself\u001b[0m\u001b[0;34m.\u001b[0m\u001b[0m_block\u001b[0m\u001b[0;34m.\u001b[0m\u001b[0marray_values\u001b[0m\u001b[0;34m\u001b[0m\u001b[0;34m\u001b[0m\u001b[0m\n\u001b[0m\u001b[1;32m   1681\u001b[0m \u001b[0;34m\u001b[0m\u001b[0m\n\u001b[1;32m   1682\u001b[0m     \u001b[0;34m@\u001b[0m\u001b[0mproperty\u001b[0m\u001b[0;34m\u001b[0m\u001b[0;34m\u001b[0m\u001b[0m\n",
      "\u001b[0;32m~/anaconda3/lib/python3.9/site-packages/pandas/core/internals/blocks.py\u001b[0m in \u001b[0;36marray_values\u001b[0;34m(self)\u001b[0m\n\u001b[1;32m    217\u001b[0m         \u001b[0;31m# error: Argument 1 to \"PandasArray\" has incompatible type \"Union[ndarray,\u001b[0m\u001b[0;34m\u001b[0m\u001b[0;34m\u001b[0m\u001b[0m\n\u001b[1;32m    218\u001b[0m         \u001b[0;31m# ExtensionArray]\"; expected \"Union[ndarray, PandasArray]\"\u001b[0m\u001b[0;34m\u001b[0m\u001b[0;34m\u001b[0m\u001b[0m\n\u001b[0;32m--> 219\u001b[0;31m         \u001b[0;32mreturn\u001b[0m \u001b[0mPandasArray\u001b[0m\u001b[0;34m(\u001b[0m\u001b[0mself\u001b[0m\u001b[0;34m.\u001b[0m\u001b[0mvalues\u001b[0m\u001b[0;34m)\u001b[0m  \u001b[0;31m# type: ignore[arg-type]\u001b[0m\u001b[0;34m\u001b[0m\u001b[0;34m\u001b[0m\u001b[0m\n\u001b[0m\u001b[1;32m    220\u001b[0m \u001b[0;34m\u001b[0m\u001b[0m\n\u001b[1;32m    221\u001b[0m     \u001b[0;32mdef\u001b[0m \u001b[0mget_values\u001b[0m\u001b[0;34m(\u001b[0m\u001b[0mself\u001b[0m\u001b[0;34m,\u001b[0m \u001b[0mdtype\u001b[0m\u001b[0;34m:\u001b[0m \u001b[0mDtypeObj\u001b[0m \u001b[0;34m|\u001b[0m \u001b[0;32mNone\u001b[0m \u001b[0;34m=\u001b[0m \u001b[0;32mNone\u001b[0m\u001b[0;34m)\u001b[0m \u001b[0;34m->\u001b[0m \u001b[0mnp\u001b[0m\u001b[0;34m.\u001b[0m\u001b[0mndarray\u001b[0m\u001b[0;34m:\u001b[0m\u001b[0;34m\u001b[0m\u001b[0;34m\u001b[0m\u001b[0m\n",
      "\u001b[0;31mKeyboardInterrupt\u001b[0m: "
     ]
    }
   ],
   "source": [
    "#%%time\n",
    "v_init, f = igl.read_triangle_mesh(os.path.join(root_folder, \"oblate.off\"))### Can be changed for Prolate\n",
    "l = igl.edge_lengths(v_init,f)\n",
    "l0 = igl.avg_edge_length(v_init,f)\n",
    "dt_size2_ratio = charTimeStep / np.amin(l)**2\n",
    "\n",
    "###Forward Euler Main \n",
    "\n",
    "#Setup\n",
    "v=v_init\n",
    "vel=np.zeros((len(v_init),3))\n",
    "time=0\n",
    "#FD=fun_FD2(v_init,f,vel)\n",
    "\n",
    "#Volume_old=cal_volume(v,f)\n",
    "#Area_t=cal_Area(v,f)\n",
    "grad_Area=areaGrad(v_init,f)\n",
    "grad_Volume=volGrad(v_init,f)\n",
    "Area_new=cal_areatot(v_init,f)\n",
    "print('initial area = ',Area_new)\n",
    "Volume_new=cal_volumetot(v_init,f)\n",
    "print('initial volume = ', Volume_new)\n",
    "\n",
    "FB=Force_Bending(v_init,f)\n",
    "FA=Force_Area(Area_t,grad_Area,Area_new)\n",
    "FV=Force_Volume(Volume_t,grad_Volume,Volume_new)\n",
    "#FR=0*Force_Random(v,f,charTimeStep)\n",
    "TF=Total_Force(FB,FA,FV)\n",
    "initialMaxForce = np.amax(np.linalg.norm(TF, axis=1))\n",
    "\n",
    "### Calculation of Energy\n",
    "timeout=[]\n",
    "totalEnergy=[]\n",
    "EnergyArea=[]\n",
    "EnergyVolume=[]\n",
    "EnergyBending=[]\n",
    "KineticEnergy=[]\n",
    "#df=open('iter=0.01_100,gamma=100','w')\n",
    "#df.write('Total Energy of the System, dt=0.01\\n')\n",
    "#new_file = open('FD.txt','w')\n",
    "for i in range(iterations):\n",
    "    #Integration\n",
    "    \n",
    "    vel = TF/gamma\n",
    "    \n",
    "    ## adjust time step if adopt adaptive time step based on mesh size\n",
    "    if (isAdaptiveStep):\n",
    "        charTimeStep = updateTimeStep(v,f,l,TF,initialMaxForce,\n",
    "                                                dt_size2_ratio,charTimeStep);\n",
    "        \n",
    "    dt = charTimeStep\n",
    "    \n",
    "    v += vel*dt\n",
    "    time += dt\n",
    "    \n",
    "    l = igl.edge_lengths(v,f)\n",
    "    \n",
    "    if (not igl.is_intrinsic_delaunay(l,f).all()):\n",
    "        print('time =',time,': not all edges are delaunay, call intrinsic delaunay triangulation')\n",
    "        l, f = igl.intrinsic_delaunay_triangulation(l,f)\n",
    "    \n",
    "    lmax = np.amax(l)\n",
    "    if ((lmax - l0)/l0 > 0.8):\n",
    "        print('(lmax - l0)/l0 =',(lmax - l0)/l0,': mesh refining')\n",
    "        v, f, = igl.loop(v, f, 1)\n",
    "   \n",
    "    #Force calculation\n",
    "    Area_current=cal_areatot(v,f)\n",
    "    grad_Area_new=areaGrad(v,f)\n",
    "    Volume_current=cal_volumetot(v,f)\n",
    "    grad_Volume_new=volGrad(v,f)\n",
    "\n",
    "    ###Update forces here\n",
    "    #FR=fun_FR2(v,f)\n",
    "    #FD=fun_FD2(v,f,vel)\n",
    "    FB=Force_Bending(v,f) ##bending_force\n",
    "    FA=Force_Area(Area_t,grad_Area_new,Area_current)\n",
    "    #print(FAL)\n",
    "    FV=Force_Volume(Volume_t,grad_Volume_new,Volume_current)\n",
    "    #FR=Force_Random(v,f,dt)\n",
    "    TF=Total_Force(FB,FA,FV)\n",
    "\n",
    "    #     if i>1300 and i%5==0:\n",
    "    #         ax1 = plt.figure().add_subplot(projection='3d')\n",
    "    #         ax1.quiver(v[:,0], v[:,1],v[:,2], FA[:,0], FA[:,1], FA[:,2], length=0.2, normalize=True,color='g')\n",
    "    #         filename = '/home/BU/dredwan1/Velocity Verlet/Gamma=100_Oblate/FA-images/'\n",
    "    #         plt.savefig(filename + 'TEST_' + str(i) + '.png',dpi=600)\n",
    "    #         ax2 = plt.figure().add_subplot(projection='3d')\n",
    "    #         ax2.quiver(v[:,0], v[:,1],v[:,2], FV[:,0], FV[:,1], FV[:,2], length=0.2, normalize=True,color='r')\n",
    "    #         filename = '/home/BU/dredwan1/Velocity Verlet/Gamma=100_Oblate/FV-images/'\n",
    "    #         plt.savefig(filename + 'TEST_' + str(i) + '.png',dpi=600)\n",
    "    #         ax3= plt.figure().add_subplot(projection='3d')\n",
    "    #         ax3.quiver(v[:,0], v[:,1],v[:,2], FB[:,0], FB[:,1], FB[:,2], length=0.2, normalize=True,color='b')\n",
    "    #         filename = '/home/BU/dredwan1/Velocity Verlet/Gamma=100_Oblate/FB-images/'\n",
    "    #         plt.savefig(filename + 'TEST_' + str(i) + '.png',dpi=600)\n",
    "    #         ax4= plt.figure().add_subplot(projection='3d')\n",
    "    #         ax4.quiver(v[:,0], v[:,1],v[:,2], FD[:,0], FD[:,1], FA[:,2], length=0.2, normalize=True,color='y')\n",
    "    #         filename = '/home/BU/dredwan1/Velocity Verlet/Gamma=100_Oblate/FD-images/'\n",
    "    #         plt.savefig(filename + 'TEST_' + str(i) + '.png',dpi=600)\n",
    "    \n",
    "    mechErrorNorm = np.sum(np.linalg.norm(TF, axis=1))\n",
    "    if (mechErrorNorm < tolerance) or (mechErrorNorm > maxError):\n",
    "        print('time =',time)\n",
    "        print('dt =',dt)\n",
    "        print('dVolume/Volume_t =',Volume_current-Volume_t,'/',Volume_t)\n",
    "        print('dArea/Area_t =',Area_current-Area_t,'/',Area_t)\n",
    "        print('mechErrorNorm =',mechErrorNorm)\n",
    "        timeout.append(i+1)\n",
    "        EnergyArea.append(Energy_area(v,f,Area_t))\n",
    "        EnergyVolume.append(Energy_volume(v,f,Volume_t))\n",
    "        EnergyBending.append(Energy_bending(v,f,H0))\n",
    "        KineticEnergy.append(Kinetic_energy(v,f,vel))\n",
    "        print('KE = ',KineticEnergy[-1])\n",
    "        PotentialEnergy = np.array(EnergyArea) + np.array(EnergyVolume) + np.array(EnergyBending)\n",
    "        print('PE = ',PotentialEnergy[-1])\n",
    "        totalEnergy = np.array(KineticEnergy) + PotentialEnergy\n",
    "        mp.jupyter()\n",
    "        p=mp.plot(v,f,shading={\"wireframe\":True, \"wire_color\": \"black\", #Wireframerendering\n",
    "                               \"width\": 300, \"height\": 300},return_plot=True)\n",
    "        name = 'test'+str(i)\n",
    "        break\n",
    "    if i%outfrequency==0:\n",
    "        print('time =',time)\n",
    "        print('dt =',dt)\n",
    "        print('dVolume/Volume_t =',Volume_current-Volume_t,'/',Volume_t)\n",
    "        print('dArea/Area_t =',Area_current-Area_t,'/',Area_t)\n",
    "        print('mechErrorNorm =',mechErrorNorm)\n",
    "        timeout.append(time)\n",
    "        EnergyArea.append(Energy_area(v,f,Area_t))\n",
    "        EnergyVolume.append(Energy_volume(v,f,Volume_t))\n",
    "        EnergyBending.append(Energy_bending(v,f,H0))\n",
    "        KineticEnergy.append(Kinetic_energy(v,f,vel))\n",
    "        print('KE = ',KineticEnergy[-1])\n",
    "        PotentialEnergy = np.array(EnergyArea) + np.array(EnergyVolume) + np.array(EnergyBending)\n",
    "        print('PE = ',PotentialEnergy[-1])\n",
    "        totalEnergy = np.array(KineticEnergy) + PotentialEnergy\n",
    "        mp.jupyter()\n",
    "        p=mp.plot(v,f,shading={\"wireframe\":True, \"wire_color\": \"black\", #Wireframerendering\n",
    "                               \"width\": 300, \"height\": 300},return_plot=True)\n",
    "        name = 'test'+str(i)\n",
    "       \n",
    "        #print(vel_new)\n",
    "        #df.close()"
   ]
  },
  {
   "cell_type": "code",
   "execution_count": null,
   "id": "c914d114",
   "metadata": {},
   "outputs": [],
   "source": [
    "plt.plot(time,totalEnergy,'o-', color='red', label='total Energy')\n",
    "plt.plot(time,EnergyBending,'o-', label='Bending Energy')\n",
    "plt.plot(time,EnergyVolume,'v-', label='Volume Energy')\n",
    "plt.plot(time,EnergyArea,'o-', label='Area Energy')\n",
    "plt.plot(time,PotentialEnergy,'v-',label='Potential Energy')\n",
    "plt.plot(time,KineticEnergy,'v-', label='Kinetic Energy',color='k')\n",
    "#plt.axis([0, 800, 0, 2])\n",
    "plt.legend(loc='upper left')\n",
    "plt.title('time vs Energy')\n",
    "plt.show()"
   ]
  },
  {
   "cell_type": "code",
   "execution_count": null,
   "id": "2ebfb4ee",
   "metadata": {},
   "outputs": [],
   "source": []
  }
 ],
 "metadata": {
  "kernelspec": {
   "display_name": "Python 3 (ipykernel)",
   "language": "python",
   "name": "python3"
  },
  "language_info": {
   "codemirror_mode": {
    "name": "ipython",
    "version": 3
   },
   "file_extension": ".py",
   "mimetype": "text/x-python",
   "name": "python",
   "nbconvert_exporter": "python",
   "pygments_lexer": "ipython3",
   "version": "3.9.7"
  }
 },
 "nbformat": 4,
 "nbformat_minor": 5
}
