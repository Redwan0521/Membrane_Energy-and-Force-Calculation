{
 "cells": [
  {
   "cell_type": "code",
   "execution_count": 1,
   "id": "68272094",
   "metadata": {},
   "outputs": [],
   "source": [
    "import igl\n",
    "import math\n",
    "import scipy as sp\n",
    "import numpy as np\n",
    "import meshplot as mp\n",
    "import pandas as pd\n",
    "import matplotlib as mpl\n",
    "import matplotlib.pyplot as plt\n",
    "from matplotlib import cm\n",
    "from mpl_toolkits.mplot3d import Axes3D\n",
    "from adaptmesh import triangulate\n",
    "import pymesh\n",
    "import numba\n",
    "import os\n",
    "root_folder = os.getcwd()"
   ]
  },
  {
   "cell_type": "code",
   "execution_count": 2,
   "id": "a89a7bad",
   "metadata": {},
   "outputs": [
    {
     "data": {
      "text/plain": [
       "1882"
      ]
     },
     "execution_count": 2,
     "metadata": {},
     "output_type": "execute_result"
    }
   ],
   "source": [
    "v_init, f = igl.read_triangle_mesh(os.path.join(root_folder, \"prolate.off\"))\n",
    "### Parameters for running computation\n",
    "global Kb\n",
    "global Kv\n",
    "global Ka\n",
    "global gamma\n",
    "global KbT\n",
    "global delT\n",
    "global Kal\n",
    "Kal=1\n",
    "gamma=2\n",
    "Ka=2\n",
    "Kv=1\n",
    "Kb=0.01\n",
    "H0=0\n",
    "Volume_t= 0.70* 3.14 * 4 / 3\n",
    "Area_t=4*3.14\n",
    "KbT=0.01\n",
    "charTimeStep=0.1\n",
    "isAdaptiveStep=True\n",
    "#hdt=0.5*dt\n",
    "iterations = 4000\n",
    "outfrequency = 100\n",
    "tolerance = 1e-5\n",
    "maxError = 2000\n",
    "\n",
    "v_init,f=igl.upsample(v_init, f,1)\n",
    "len(v_init)\n"
   ]
  },
  {
   "cell_type": "code",
   "execution_count": 3,
   "id": "0cdfcf21",
   "metadata": {},
   "outputs": [],
   "source": [
    "###Energy Calculations Area+Bending+Volume\n",
    "# @numba.jit\n",
    "def Energy_area(v,f,Area_t):\n",
    "    Area_new=cal_areatot(v,f)\n",
    "    Energy_Area=Ka*((Area_new-Area_t)**2)/Area_t\n",
    "    return Energy_Area\n",
    "# @numba.jit\n",
    "def Energy_volume(v,f,Volume_t):\n",
    "    volume_new=cal_volumetot(v,f)\n",
    "    Energy_volume=Kv*((volume_new-Volume_t)**2)/Volume_t\n",
    "    return Energy_volume\n",
    "# @numba.jit\n",
    "# def Energy_bending(v,f,H0):\n",
    "#     npv = igl.per_vertex_normals(v, f)\n",
    "#     m = igl.massmatrix(v, f, igl.MASSMATRIX_TYPE_VORONOI)\n",
    "#     minv = sp.sparse.diags(1 / m.diagonal())\n",
    "#     area_voronoi=m.diagonal()\n",
    "#     l = igl.cotmatrix(v, f) ###laplacian-operator\n",
    "#     Hn = -minv.dot(l.dot(v))/2\n",
    "#     H_mean = np.linalg.norm(Hn, axis=1)\n",
    "#     sign_H = np.sign(np.sum(Hn*npv, axis=1))\n",
    "#     H_mean_signed = H_mean*sign_H\n",
    "#     #print(max(h_mean))\n",
    "#     #print(min(h_mean))\n",
    "#     Eb = 2*Kb*(((H_mean_signed-H0)**2)+K)*area_voronoi\n",
    "#     total_EB = np.sum(Eb)\n",
    "#     return total_EB\n",
    "\n",
    "# @numba.jit\n",
    "# def Kinetic_energy(v,f,velocity):\n",
    "#     m = igl.massmatrix(v, f, igl.MASSMATRIX_TYPE_VORONOI)\n",
    "#     area_voronoi=m.diagonal()\n",
    "#     KE = 0.5*np.linalg.norm(velocity, axis=1)**2*area_voronoi\n",
    "#     total_KE = np.sum(KE)\n",
    "#     return total_KE    "
   ]
  },
  {
   "cell_type": "code",
   "execution_count": 4,
   "id": "a4e2f5f3",
   "metadata": {},
   "outputs": [],
   "source": [
    "def adjacent_face(v,f):\n",
    "    df=pd.DataFrame(f,columns=list('ABC'))\n",
    "    row_numbers=[]\n",
    "    for i in range(len(v)):\n",
    "        row_numbers.append((df.index[(df['A'] == i)|(df['B'] == i) | (df['C'] == i)].tolist()))\n",
    "    return row_numbers\n",
    "\n",
    "def cal_areatot(v,f):\n",
    "    dbl_area = igl.doublearea(v, f)    \n",
    "    Areatot = np.sum(dbl_area)/2\n",
    "    return Areatot\n",
    "@numba.jit\n",
    "def cal_volumetot(v,f):\n",
    "    Volumetot = 0\n",
    "    for i in range(len(f)):\n",
    "        sum=0\n",
    "        p0x=v[f[i][0]][0]\n",
    "        p0y=v[f[i][0]][1]\n",
    "        p0z=v[f[i][0]][2]\n",
    "        p1x=v[f[i][1]][0]\n",
    "        p1y=v[f[i][1]][1]\n",
    "        p1z=v[f[i][1]][2]\n",
    "        p2x=v[f[i][2]][0]\n",
    "        p2y=v[f[i][2]][1]\n",
    "        p2z=v[f[i][2]][2]\n",
    "        v321= p2x*p1y*p0z\n",
    "        v231= p1x*p2y*p0z\n",
    "        v312= p2x*p0y*p1z\n",
    "        v132= p0x*p2y*p1z\n",
    "        v213= p1x*p0y*p2z\n",
    "        v123= p0x*p1y*p2z\n",
    "        sum=(-v321+ v231+ v312-v132-v213+ v123) / 6.0\n",
    "        #print(sum)\n",
    "        Volumetot+=sum\n",
    "    return Volumetot\n",
    "\n",
    "def areaGrad(v,f):\n",
    "    #n=igl.per_vertex_normals(v,f) ## not using per_vertex_normals for areaGrad direction\n",
    "    l = igl.cotmatrix(v, f) ###laplacian-operator\n",
    "    ag = -l.dot(v)\n",
    "    return ag\n",
    "def volGrad(v,f):\n",
    "    npv = igl.per_vertex_normals(v, f)\n",
    "    face_normal=igl.per_face_normals(v,f,npv)\n",
    "    dbl_area = igl.doublearea(v, f)\n",
    "    adjacent_vertices=igl.adjacency_list(f)\n",
    "    adjacent_faces=adjacent_face(v,f)\n",
    "    volumegrad=[]\n",
    "    for i in range(len(v)):\n",
    "        vol_ij=0\n",
    "        for j in range(len(adjacent_faces[i])):\n",
    "            k=adjacent_faces[i][j]\n",
    "            Area=dbl_area[k]/2\n",
    "            FaceNorm=face_normal[k]\n",
    "            vol_ij += (1/3)*Area*FaceNorm\n",
    "        volumegrad.append(vol_ij)\n",
    "    return np.array(volumegrad)\n",
    "def ver_new(v,f):\n",
    "    adjacent_faces=adjacent_face(v,f)\n",
    "    Area=igl.doublearea(v,f)\n",
    "    n = igl.per_vertex_normals(v, f)\n",
    "    face_normal=igl.per_face_normals(v,f,n)\n",
    "    v_b=igl.barycenter(v,f)\n",
    "    v_new=[]\n",
    "    for i in range(len(v)):\n",
    "        face_area=Area[adjacent_faces[i]]\n",
    "        face_area_sum=np.sum(face_area)\n",
    "        v_centroid=v_b[adjacent_faces[i]]\n",
    "        sum_of_area_centroid=np.dot(face_area,v_centroid)\n",
    "        v_avg=sum_of_area_centroid/face_area_sum\n",
    "        fnorm=face_normal[adjacent_faces[i]]\n",
    "        fsum=np.sum(fnorm,axis=0)\n",
    "        lamda=(np.dot(v_avg,fsum)-np.dot(v[i],fsum))/np.dot(fsum,fsum)\n",
    "        v_new.append(v_avg-lamda*fsum)    \n",
    "    return np.array(v_new)"
   ]
  },
  {
   "cell_type": "raw",
   "id": "e85b05a2",
   "metadata": {},
   "source": [
    "v=ver_new(v_init,f)\n",
    "print(v)\n",
    "mp.jupyter()\n",
    "p=mp.plot(v,f,shading={\"wireframe\":True, \"wire_color\": \"black\", #Wireframerendering\n",
    "                               \"width\": 300, \"height\": 300},return_plot=True)\n",
    "name = 'test'+str(i)\n",
    "mp.jupyter()\n",
    "p=mp.plot(v_init,f,shading={\"wireframe\":True, \"wire_color\": \"black\", #Wireframerendering\n",
    "                               \"width\": 300, \"height\": 300},return_plot=True)\n",
    "name = 'test'+str(i)"
   ]
  },
  {
   "cell_type": "raw",
   "id": "e1cd5e27",
   "metadata": {},
   "source": [
    "adjacent_faces=adjacent_face(v,f)\n",
    "k=adjacent_faces[0][2]\n",
    "n = igl.per_vertex_normals(v, f)\n",
    "face_normal=igl.per_face_normals(v,f,n)\n",
    "face_normal[k]"
   ]
  },
  {
   "cell_type": "markdown",
   "id": "ad7effdf",
   "metadata": {},
   "source": [
    "def fun_volgrad(v,f):\n",
    "    n = igl.per_vertex_normals(v, f)\n",
    "    #vector=np.array([1,1,1])\n",
    "    #norm=vector/np.linalg.norm(vector)\n",
    "\n",
    "    face_normal=igl.per_face_normals(v,f,n)\n",
    "    dbl_area = igl.doublearea(v, f)/2\n",
    "    volume_grad=face_normal*dbl_area[:,None]\n",
    "    \n",
    "    return volume_grad/3"
   ]
  },
  {
   "cell_type": "code",
   "execution_count": 5,
   "id": "bf936341",
   "metadata": {},
   "outputs": [],
   "source": [
    "###Force from bending\n",
    "def Force_Bending(v,f):\n",
    "    npv = igl.per_vertex_normals(v, f)\n",
    "    K = igl.gaussian_curvature(v, f)\n",
    "    m = igl.massmatrix(v, f, igl.MASSMATRIX_TYPE_VORONOI)\n",
    "    minv = sp.sparse.diags(1 / m.diagonal())\n",
    "    area_voronoi=m.diagonal()\n",
    "    l = igl.cotmatrix(v, f) ###laplacian-operator\n",
    "    m = igl.massmatrix(v, f, igl.MASSMATRIX_TYPE_VORONOI)\n",
    "    minv = sp.sparse.diags(1 / m.diagonal())\n",
    "    Hn = -minv.dot(l.dot(v))/2\n",
    "    H_mean = np.linalg.norm(Hn, axis=1)\n",
    "    sign_H = np.sign(np.sum(Hn*npv, axis=1))\n",
    "    #if (min(sign_H)<0):\n",
    "    #    print('H_mean changes sign')\n",
    "    H_mean_signed = H_mean*sign_H\n",
    "    Lap_H = minv.dot(l.dot(H_mean_signed-H0))\n",
    "    kn = minv.dot(K)\n",
    "    first_term = 2*(H_mean_signed-H0)*(H_mean_signed**2 + H0*H_mean_signed -kn)\n",
    "    totalforce = first_term + Lap_H\n",
    "\n",
    "    #normal_v=n/np.linalg.norm(n)\n",
    "    ### Force Density and Nodal Force\n",
    "    #Force_density=[] # Force_Density\n",
    "    #Force_Nodal=[]\n",
    "\n",
    "    #for i in range (len(v)):\n",
    "    Force_bending = 2*Kb*npv*totalforce[:,None]*area_voronoi[:,None]\n",
    "        #Force_Nodal.append(Force_density[i]*area_voronoi[i])\n",
    "        #print(Force_density[i]) \n",
    "        #print(Force_Nodal[i])\n",
    "    Eb = 2*Kb*(((H_mean_signed-H0)**2))*area_voronoi\n",
    "    total_EB = np.sum(Eb)\n",
    "        \n",
    "    return Force_bending,total_EB"
   ]
  },
  {
   "cell_type": "code",
   "execution_count": 6,
   "id": "a8b9d64f",
   "metadata": {},
   "outputs": [],
   "source": [
    "###Force from Area Constraints\n",
    "def Force_Area(Area_t,grad_Area,Area_new):\n",
    "    #grad_Area=volgrad(v,f)\n",
    "    #Area_old=cal_volume(v,f)\n",
    "    #Area_new=cal_Area(pos_new,f)\n",
    "    Force_Area=-2*(Ka)*((Area_new-Area_t)/Area_t)*grad_Area\n",
    "    return Force_Area"
   ]
  },
  {
   "cell_type": "code",
   "execution_count": 7,
   "id": "ed3ba0f0",
   "metadata": {},
   "outputs": [],
   "source": [
    "###Force from Volume Area Constraints\n",
    "def Force_Volume(Volume_t,grad_Volume,volume_new):\n",
    "    #grad_Volume=volgrad(v,f)\n",
    "    #Volume_old=cal_volume(v,f)\n",
    "    #Volume_new=cal_volume(pos_new,f)\n",
    "\n",
    "    Force_Volume=-2*(Kv)*((volume_new-Volume_t)/Volume_t)*grad_Volume ## Volume constraint is not the same as in mem3dg\n",
    "    return Force_Volume"
   ]
  },
  {
   "cell_type": "code",
   "execution_count": 8,
   "id": "5684132d",
   "metadata": {},
   "outputs": [],
   "source": [
    "###Dissipative Force\n",
    "def fun_FD(v,f,velocity):\n",
    "    adjacent_vertices=igl.adjacency_list(f)\n",
    "    FDij_nodes=[]\n",
    "    for i in range(len(v)):\n",
    "        FD_ij=0\n",
    "        for j in range(len(adjacent_vertices[i])):\n",
    "            k=adjacent_vertices[i][j]\n",
    "            vij=velocity[i]-velocity[k]\n",
    "            rij=v[i]-v[k]\n",
    "            #rij_distance=math.sqrt((rij[0][0]**2)+(rij[0][1]**2)+(rij[0][2]**2))\n",
    "            rij_norm = rij/np.linalg.norm(rij)\n",
    "            FD_ij=FD_ij+(-((gamma*np.dot(vij, rij)*rij_norm)))\n",
    "        FDij_nodes.append(FD_ij) \n",
    "    return FDij_nodes"
   ]
  },
  {
   "cell_type": "code",
   "execution_count": 9,
   "id": "f2f9eb7b",
   "metadata": {},
   "outputs": [],
   "source": [
    "###Dissipative Force\n",
    "def fun_FD2(v,f,velocity):\n",
    "    m = igl.massmatrix(v, f, igl.MASSMATRIX_TYPE_VORONOI)\n",
    "    area_voronoi=m.diagonal()\n",
    "    FD_nodes = -gamma*velocity/area_voronoi[:,None]\n",
    "    return FD_nodes"
   ]
  },
  {
   "cell_type": "code",
   "execution_count": 10,
   "id": "308b3c64",
   "metadata": {},
   "outputs": [],
   "source": [
    "####Random Forces\n",
    "def fun_FR(v,f): \n",
    "    edges, fe, ef = igl.edge_topology(v, f)\n",
    "    Fr=np.zeros((len(v),3))\n",
    "    for e in range(len(edges)): \n",
    "        rij=v[edges[e][0]]-v[edges[e][1]]\n",
    "        rij_norm = rij/np.linalg.norm(rij)\n",
    "        gaussian=np.random.normal(0, 1, 1)\n",
    "        Force=gaussian*rij_norm*sigma\n",
    "        Fr[edges[e][0]]+=Force\n",
    "        Fr[edges[e][1]]-=Force  \n",
    "    return Fr"
   ]
  },
  {
   "cell_type": "code",
   "execution_count": 11,
   "id": "f1054a44",
   "metadata": {},
   "outputs": [],
   "source": [
    "####Random Forces\n",
    "def Force_Random(v,f,dt): \n",
    "    sigma=np.sqrt(2*gamma*(KbT))\n",
    "    gaussian = np.random.normal(0, 1, 3*len(v))\n",
    "    FR = sigma*gaussian.reshape(len(v),3)\n",
    "    return FR"
   ]
  },
  {
   "cell_type": "code",
   "execution_count": 12,
   "id": "11f2d00e",
   "metadata": {},
   "outputs": [],
   "source": [
    "def Total_Force(FB,FA,FV):\n",
    "    Total_force=(FB+FA+FV)\n",
    "    return Total_force"
   ]
  },
  {
   "cell_type": "code",
   "execution_count": 13,
   "id": "3c823e21",
   "metadata": {},
   "outputs": [],
   "source": [
    "def updateTimeStep(v,f,l,TF,initialMaxForce,dt_size2_ratio,charTimeStep):\n",
    "    currentMinSize = np.amin(l)\n",
    "    currentMaxForce = np.amax(np.linalg.norm(TF, axis=1))\n",
    "    dt = (dt_size2_ratio * currentMinSize **2)*\\\n",
    "        (initialMaxForce / currentMaxForce)\n",
    "    \n",
    "    if (charTimeStep / dt > 1e3):\n",
    "        print(\"Time step too small! May consider restarting\\n\",\n",
    "              \"simulation in small time scale\")\n",
    "        print(\"Current size / initial size =\",\n",
    "              currentMinSize / sqrt(charTimeStep/dt_size2_ratio))\n",
    "        print(\"Current forece / inital force =\",\n",
    "             currentMaxForce / initialMaxForce)\n",
    "        exit()\n",
    "    return dt"
   ]
  },
  {
   "cell_type": "markdown",
   "id": "d51adc5c",
   "metadata": {},
   "source": [
    "grad_A=areaGrad(v,f)\n",
    "\n",
    "grad_Volume=volgrad(v,f)\n",
    "grad_Volume=np.array(grad_Volume)\n",
    "grad_Volume.shape"
   ]
  },
  {
   "cell_type": "code",
   "execution_count": null,
   "id": "aa6bb6a7",
   "metadata": {
    "scrolled": true
   },
   "outputs": [
    {
     "name": "stdout",
     "output_type": "stream",
     "text": [
      "initial area =  12.477707688493407\n",
      "initial volume =  3.809031960721245\n",
      "time = 0.1\n",
      "dt = 0.1\n",
      "dVolume/Volume_t = 0.8763805966434264 / 2.9306666666666668\n",
      "dArea/Area_t = -0.09898144326707836 / 12.56\n",
      "mechErrorNorm = 70.23836883636766\n",
      "PE =  0.6055475675155662\n"
     ]
    },
    {
     "data": {
      "application/vnd.jupyter.widget-view+json": {
       "model_id": "d09d63d942d84066838fda0aac9509b7",
       "version_major": 2,
       "version_minor": 0
      },
      "text/plain": [
       "Renderer(camera=PerspectiveCamera(children=(DirectionalLight(color='white', intensity=0.6, position=(0.0001842…"
      ]
     },
     "metadata": {},
     "output_type": "display_data"
    },
    {
     "name": "stdout",
     "output_type": "stream",
     "text": [
      "number of vertices= 1882\n",
      "number of Iterations= 0\n",
      "time = 11.944290760016138\n",
      "dt = 0.048721055853145165\n",
      "dVolume/Volume_t = 0.7192232678036024 / 2.9306666666666668\n",
      "dArea/Area_t = -0.4309708928149565 / 12.56\n",
      "mechErrorNorm = 4.19363544732297\n",
      "PE =  0.49937335158268426\n"
     ]
    },
    {
     "data": {
      "application/vnd.jupyter.widget-view+json": {
       "model_id": "30e93126e11141edac94e4428d25d139",
       "version_major": 2,
       "version_minor": 0
      },
      "text/plain": [
       "Renderer(camera=PerspectiveCamera(children=(DirectionalLight(color='white', intensity=0.6, position=(0.0002594…"
      ]
     },
     "metadata": {},
     "output_type": "display_data"
    },
    {
     "name": "stdout",
     "output_type": "stream",
     "text": [
      "number of vertices= 1882\n",
      "number of Iterations= 100\n",
      "time = 19.684868452946052\n",
      "dt = 0.06257983699183951\n",
      "dVolume/Volume_t = 0.6756763220338908 / 2.9306666666666668\n",
      "dArea/Area_t = -0.514267285944042 / 12.56\n",
      "mechErrorNorm = 3.367399359210313\n",
      "PE =  0.49219604905897907\n"
     ]
    },
    {
     "data": {
      "application/vnd.jupyter.widget-view+json": {
       "model_id": "9d76563144944cbea82c6fda25f40dfa",
       "version_major": 2,
       "version_minor": 0
      },
      "text/plain": [
       "Renderer(camera=PerspectiveCamera(children=(DirectionalLight(color='white', intensity=0.6, position=(0.0003877…"
      ]
     },
     "metadata": {},
     "output_type": "display_data"
    },
    {
     "name": "stdout",
     "output_type": "stream",
     "text": [
      "number of vertices= 1882\n",
      "number of Iterations= 200\n",
      "time = 26.77297790901203\n",
      "dt = 0.07398594632499142\n",
      "dVolume/Volume_t = 0.6531574893943883 / 2.9306666666666668\n",
      "dArea/Area_t = -0.5521096612258258 / 12.56\n",
      "mechErrorNorm = 3.1006867065718984\n",
      "PE =  0.489419618278297\n"
     ]
    },
    {
     "data": {
      "application/vnd.jupyter.widget-view+json": {
       "model_id": "42f56fa85e744d7f884a17ea2660d0d2",
       "version_major": 2,
       "version_minor": 0
      },
      "text/plain": [
       "Renderer(camera=PerspectiveCamera(children=(DirectionalLight(color='white', intensity=0.6, position=(0.0004769…"
      ]
     },
     "metadata": {},
     "output_type": "display_data"
    },
    {
     "name": "stdout",
     "output_type": "stream",
     "text": [
      "number of vertices= 1882\n",
      "number of Iterations= 300\n"
     ]
    }
   ],
   "source": [
    "%%time\n",
    "# v_init, f = igl.read_triangle_mesh(os.path.join(root_folder, \"Oblate_0.7.off\"))### Can be changed for Prolate\n",
    "l = igl.edge_lengths(v_init,f)\n",
    "l0 = igl.avg_edge_length(v_init,f)\n",
    "dt_size2_ratio = charTimeStep / np.amin(l)**2\n",
    "number_of_vertices=len(v_init)\n",
    "###Forward Euler Main \n",
    "\n",
    "#Setup\n",
    "\n",
    "v=v_init\n",
    "vel=np.zeros((len(v_init),3))\n",
    "time=0\n",
    "#FD=fun_FD2(v_init,f,vel)\n",
    "\n",
    "#Volume_old=cal_volume(v,f)\n",
    "#Area_t=cal_Area(v,f)\n",
    "grad_Area=areaGrad(v_init,f)\n",
    "grad_Volume=volGrad(v_init,f)\n",
    "Area_new=cal_areatot(v_init,f)\n",
    "print('initial area = ',Area_new)\n",
    "Volume_new=cal_volumetot(v_init,f)\n",
    "print('initial volume = ', Volume_new)\n",
    "\n",
    "FB,EB=Force_Bending(v_init,f)\n",
    "FA=Force_Area(Area_t,grad_Area,Area_new)\n",
    "FV=Force_Volume(Volume_t,grad_Volume,Volume_new)\n",
    "#FR=0*Force_Random(v,f,charTimeStep)\n",
    "TF=Total_Force(FB,FA,FV)\n",
    "initialMaxForce = np.amax(np.linalg.norm(TF, axis=1))\n",
    "\n",
    "### Calculation of Energy\n",
    "timeout=[]\n",
    "totalEnergy=[]\n",
    "EnergyArea=[]\n",
    "EnergyVolume=[]\n",
    "EnergyBending=[]\n",
    "KineticEnergy=[]\n",
    "#df=open('iter=0.01_100,gamma=100','w')\n",
    "#df.write('Total Energy of the System, dt=0.01\\n')\n",
    "#new_file = open('FD.txt','w')\n",
    "for i in range(iterations):\n",
    "    #Integration\n",
    "    \n",
    "    vel = TF/gamma\n",
    "    \n",
    "    ## adjust time step if adopt adaptive time step based on mesh size\n",
    "    if (isAdaptiveStep):\n",
    "        charTimeStep = updateTimeStep(v,f,l,TF,initialMaxForce,\n",
    "                                                dt_size2_ratio,charTimeStep);\n",
    "        \n",
    "    dt = charTimeStep\n",
    "    \n",
    "    v += vel*dt\n",
    "    time += dt\n",
    "    \n",
    "    l = igl.edge_lengths(v,f)\n",
    "    v=ver_new(v,f)\n",
    "    if (not igl.is_intrinsic_delaunay(l,f).all()):\n",
    "        #v,f,_=pymesh.split_long_edges_raw(v,f,l0*4/3)\n",
    "        print('time =',time,': not all edges are delaunay, call intrinsic delaunay triangulation')\n",
    "        l, f= igl.intrinsic_delaunay_triangulation(l,f)\n",
    "    \n",
    "    v,f,_=pymesh.split_long_edges_raw(v,f,l0*4/3)\n",
    "    v,f,__=pymesh.collapse_short_edges_raw(v,f, abs_threshold=0.0, rel_threshold=3/5, preserve_feature=True)\n",
    "\n",
    "        #print('new vertice numbers=',len(v))\n",
    "   \n",
    "    #Force calculation\n",
    "    Area_current=cal_areatot(v,f)\n",
    "    grad_Area_new=areaGrad(v,f)\n",
    "    Volume_current=cal_volumetot(v,f)\n",
    "    grad_Volume_new=volGrad(v,f)\n",
    "\n",
    "    ###Update forces here\n",
    "    #FR=fun_FR2(v,f)\n",
    "    #FD=fun_FD2(v,f,vel)\n",
    "    FB,EB=Force_Bending(v,f) ##bending_force\n",
    "    FA=Force_Area(Area_t,grad_Area_new,Area_current)\n",
    "    #print(FAL)\n",
    "    FV=Force_Volume(Volume_t,grad_Volume_new,Volume_current)\n",
    "    #FR=Force_Random(v,f,dt)\n",
    "    TF=Total_Force(FB,FA,FV)\n",
    "    \n",
    "    mechErrorNorm = np.sum(np.linalg.norm(TF, axis=1))\n",
    "    if (mechErrorNorm < tolerance) or (mechErrorNorm > maxError):\n",
    "        print('time =',time)\n",
    "        print('dt =',dt)\n",
    "        print('dVolume/Volume_t =',Volume_current-Volume_t,'/',Volume_t)\n",
    "        print('dArea/Area_t =',Area_current-Area_t,'/',Area_t)\n",
    "        print('mechErrorNorm =',mechErrorNorm)\n",
    "        timeout.append(i+1)\n",
    "        EnergyArea.append(Energy_area(v,f,Area_t))\n",
    "        EnergyVolume.append(Energy_volume(v,f,Volume_t))\n",
    "        EnergyBending.append(EB)\n",
    "#         EnergyBending.append(Energy_bending(v,f,H0))\n",
    "#         KineticEnergy.append(Kinetic_energy(v,f,vel))\n",
    "#         print('KE = ',KineticEnergy[-1])\n",
    "        PotentialEnergy = np.array(EnergyArea) + np.array(EnergyVolume) + np.array(EnergyBending)\n",
    "        print('PE = ',PotentialEnergy[-1])\n",
    "#         totalEnergy = np.array(KineticEnergy) + PotentialEnergy\n",
    "        mp.jupyter()\n",
    "        p=mp.plot(v,f,shading={\"wireframe\":True, \"wire_color\": \"black\", #Wireframerendering\n",
    "                               \"width\": 300, \"height\": 300},return_plot=True)\n",
    "        name = 'test'+str(i)\n",
    "        break\n",
    "    if i%outfrequency==0:\n",
    "        print('time =',time)\n",
    "        print('dt =',dt)\n",
    "        print('dVolume/Volume_t =',Volume_current-Volume_t,'/',Volume_t)\n",
    "        print('dArea/Area_t =',Area_current-Area_t,'/',Area_t)\n",
    "        print('mechErrorNorm =',mechErrorNorm)\n",
    "        timeout.append(time)\n",
    "        EnergyArea.append(Energy_area(v,f,Area_t))\n",
    "        EnergyVolume.append(Energy_volume(v,f,Volume_t))\n",
    "        EnergyBending.append(EB)\n",
    "#         EnergyBending.append(Energy_bending(v,f,H0))\n",
    "#         KineticEnergy.append(Kinetic_energy(v,f,vel))\n",
    "#         print('KE = ',KineticEnergy[-1])\n",
    "        PotentialEnergy = np.array(EnergyArea) + np.array(EnergyVolume) + np.array(EnergyBending)\n",
    "        print('PE = ',PotentialEnergy[-1])\n",
    "#         totalEnergy = np.array(KineticEnergy) + PotentialEnergy\n",
    "        mp.jupyter()\n",
    "        p=mp.plot(v,f,shading={\"wireframe\":True, \"wire_color\": \"black\", #Wireframerendering\n",
    "                               \"width\": 300, \"height\": 300},return_plot=True)\n",
    "        #p.add_lines(v,v+1*FB, shading={\"line_color\": \"red\"})\n",
    "        name = 'test'+str(i)\n",
    "        print('number of vertices=',len(v))\n",
    "        print('number of Iterations=',i)\n",
    "       \n",
    "        #print(vel_new)\n",
    "        #df.close()\n",
    "        "
   ]
  },
  {
   "cell_type": "code",
   "execution_count": null,
   "id": "c914d114",
   "metadata": {},
   "outputs": [],
   "source": [
    "time=np.linspace(0,iterations,len(EnergyBending))\n",
    "# plt.plot(time,totalEnergy,'o-', color='red', label='total Energy')\n",
    "plt.plot(time,EnergyBending,'o-', label='Bending Energy')\n",
    "plt.plot(time,EnergyVolume,'v-', label='Volume Energy')\n",
    "plt.plot(time,EnergyArea,'o-', label='Area Energy')\n",
    "plt.plot(time,PotentialEnergy,'x-',label='Potential Energy')\n",
    "# plt.plot(time,KineticEnergy,'v-', label='Kinetic Energy',color='k')\n",
    "#plt.axis([0, 800, 0, 2])\n",
    "plt.legend(loc='upper right')\n",
    "plt.title('timesteps vs Energy')\n",
    "plt.show()"
   ]
  },
  {
   "cell_type": "raw",
   "id": "48d08798",
   "metadata": {
    "scrolled": true
   },
   "source": [
    "x=[0.67,0.70,0.85,0.95]\n",
    "y=[0.538019459/(8*3.14*0.01),0.49591257/(8*3.14*0.01) ,0.3386189912583/(8*3.14*0.01),0.27790931351/(8*3.14*0.01)]\n",
    "\n",
    "\n",
    "X=[0.9595367804007768,0.9258040599051776,0.871844218733256,0.8371499569913026,0.8014918370361359,0.7272793885524458,0.688720426090205,0.6289635338378528,0.5875083628022554]\n",
    "Y=[1.0736093130482884,1.1556386284714684,1.2738734472701787,1.3559056589019316, 1.4403504122752906,1.6212968353128918, 1.7226177960431999, 1.8697857384897432,1.983163615510935]\n",
    "# plt.plot(X, Y)\n",
    "# plt.show()\n",
    "#plt.hold(True)\n",
    "plt.axis([0.4, 1, 1, 2.5])\n",
    "plt.plot(x,y,'g^',X,Y,'r--')\n",
    "plt.xlabel('reduced volume (v)')\n",
    "plt.legend(['Euler_simulation', 'Theory(Seifert et al.)'])\n",
    "\n",
    "plt.ylabel('Bending Energy (BE)/(8 pi Kb)')\n",
    "\n",
    "plt.show()"
   ]
  },
  {
   "cell_type": "code",
   "execution_count": null,
   "id": "859df51d",
   "metadata": {},
   "outputs": [],
   "source": [
    "PotentialEnergy"
   ]
  },
  {
   "cell_type": "code",
   "execution_count": null,
   "id": "75bc2af4",
   "metadata": {
    "scrolled": true
   },
   "outputs": [],
   "source": [
    "EnergyBending"
   ]
  },
  {
   "cell_type": "code",
   "execution_count": null,
   "id": "d25c8ea2",
   "metadata": {},
   "outputs": [],
   "source": []
  }
 ],
 "metadata": {
  "kernelspec": {
   "display_name": "Python 3 (ipykernel)",
   "language": "python",
   "name": "python3"
  },
  "language_info": {
   "codemirror_mode": {
    "name": "ipython",
    "version": 3
   },
   "file_extension": ".py",
   "mimetype": "text/x-python",
   "name": "python",
   "nbconvert_exporter": "python",
   "pygments_lexer": "ipython3",
   "version": "3.7.11"
  }
 },
 "nbformat": 4,
 "nbformat_minor": 5
}
